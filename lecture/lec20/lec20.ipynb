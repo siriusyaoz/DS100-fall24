{
 "cells": [
  {
   "cell_type": "markdown",
   "id": "a750c9e0",
   "metadata": {
    "tags": []
   },
   "source": [
    "# Lecture 20 – Data 100, Fall 2024\n",
    "\n",
    "Data 100, Fall 2024\n",
    "\n",
    "[Acknowledgments Page](https://ds100.org/fa24/acks/)"
   ]
  },
  {
   "cell_type": "markdown",
   "id": "851dbb4e-77e5-456e-903f-d8df3aea6707",
   "metadata": {},
   "source": [
    "## Starting Up SQL"
   ]
  },
  {
   "cell_type": "markdown",
   "id": "863c24e4-6422-47c8-a194-575b7b7488ae",
   "metadata": {},
   "source": [
    "Before we look at SQL syntax in detail, let's first get ourselves set up to run SQL queries in Jupyter."
   ]
  },
  {
   "cell_type": "code",
   "execution_count": 1,
   "id": "59808fe4",
   "metadata": {},
   "outputs": [
    {
     "name": "stdout",
     "output_type": "stream",
     "text": [
      "Collecting jupysql\n",
      "  Downloading jupysql-0.10.16-py3-none-any.whl.metadata (5.5 kB)\n",
      "Collecting prettytable>=3.12.0 (from jupysql)\n",
      "  Downloading prettytable-3.12.0-py3-none-any.whl.metadata (30 kB)\n",
      "Collecting sqlalchemy (from jupysql)\n",
      "  Downloading SQLAlchemy-2.0.36-cp312-cp312-win_amd64.whl.metadata (9.9 kB)\n",
      "Collecting sqlparse (from jupysql)\n",
      "  Downloading sqlparse-0.5.2-py3-none-any.whl.metadata (3.9 kB)\n",
      "Collecting ipython-genutils>=0.1.0 (from jupysql)\n",
      "  Downloading ipython_genutils-0.2.0-py2.py3-none-any.whl.metadata (755 bytes)\n",
      "Requirement already satisfied: jinja2 in c:\\users\\siriusyz\\.conda\\envs\\cs189\\lib\\site-packages (from jupysql) (3.1.4)\n",
      "Collecting sqlglot>=11.3.7 (from jupysql)\n",
      "  Downloading sqlglot-25.32.0-py3-none-any.whl.metadata (19 kB)\n",
      "Collecting jupysql-plugin>=0.4.2 (from jupysql)\n",
      "  Downloading jupysql_plugin-0.4.5-py3-none-any.whl.metadata (7.8 kB)\n",
      "Collecting ploomber-core>=0.2.7 (from jupysql)\n",
      "  Downloading ploomber_core-0.2.25-py3-none-any.whl.metadata (536 bytes)\n",
      "Requirement already satisfied: pyyaml in c:\\users\\siriusyz\\.conda\\envs\\cs189\\lib\\site-packages (from ploomber-core>=0.2.7->jupysql) (6.0.2)\n",
      "Collecting posthog (from ploomber-core>=0.2.7->jupysql)\n",
      "  Downloading posthog-3.7.2-py2.py3-none-any.whl.metadata (2.0 kB)\n",
      "Requirement already satisfied: wcwidth in c:\\users\\siriusyz\\.conda\\envs\\cs189\\lib\\site-packages (from prettytable>=3.12.0->jupysql) (0.2.13)\n",
      "Requirement already satisfied: MarkupSafe>=2.0 in c:\\users\\siriusyz\\.conda\\envs\\cs189\\lib\\site-packages (from jinja2->jupysql) (3.0.2)\n",
      "Requirement already satisfied: typing-extensions>=4.6.0 in c:\\users\\siriusyz\\.conda\\envs\\cs189\\lib\\site-packages (from sqlalchemy->jupysql) (4.12.2)\n",
      "Collecting greenlet!=0.4.17 (from sqlalchemy->jupysql)\n",
      "  Downloading greenlet-3.1.1-cp312-cp312-win_amd64.whl.metadata (3.9 kB)\n",
      "Requirement already satisfied: requests<3.0,>=2.7 in c:\\users\\siriusyz\\.conda\\envs\\cs189\\lib\\site-packages (from posthog->ploomber-core>=0.2.7->jupysql) (2.32.3)\n",
      "Requirement already satisfied: six>=1.5 in c:\\users\\siriusyz\\.conda\\envs\\cs189\\lib\\site-packages (from posthog->ploomber-core>=0.2.7->jupysql) (1.16.0)\n",
      "Collecting monotonic>=1.5 (from posthog->ploomber-core>=0.2.7->jupysql)\n",
      "  Downloading monotonic-1.6-py2.py3-none-any.whl.metadata (1.5 kB)\n",
      "Collecting backoff>=1.10.0 (from posthog->ploomber-core>=0.2.7->jupysql)\n",
      "  Downloading backoff-2.2.1-py3-none-any.whl.metadata (14 kB)\n",
      "Requirement already satisfied: python-dateutil>2.1 in c:\\users\\siriusyz\\.conda\\envs\\cs189\\lib\\site-packages (from posthog->ploomber-core>=0.2.7->jupysql) (2.9.0.post0)\n",
      "Requirement already satisfied: charset-normalizer<4,>=2 in c:\\users\\siriusyz\\.conda\\envs\\cs189\\lib\\site-packages (from requests<3.0,>=2.7->posthog->ploomber-core>=0.2.7->jupysql) (3.4.0)\n",
      "Requirement already satisfied: idna<4,>=2.5 in c:\\users\\siriusyz\\.conda\\envs\\cs189\\lib\\site-packages (from requests<3.0,>=2.7->posthog->ploomber-core>=0.2.7->jupysql) (3.10)\n",
      "Requirement already satisfied: urllib3<3,>=1.21.1 in c:\\users\\siriusyz\\.conda\\envs\\cs189\\lib\\site-packages (from requests<3.0,>=2.7->posthog->ploomber-core>=0.2.7->jupysql) (2.2.3)\n",
      "Requirement already satisfied: certifi>=2017.4.17 in c:\\users\\siriusyz\\.conda\\envs\\cs189\\lib\\site-packages (from requests<3.0,>=2.7->posthog->ploomber-core>=0.2.7->jupysql) (2024.8.30)\n",
      "Downloading jupysql-0.10.16-py3-none-any.whl (95 kB)\n",
      "Downloading ipython_genutils-0.2.0-py2.py3-none-any.whl (26 kB)\n",
      "Downloading jupysql_plugin-0.4.5-py3-none-any.whl (192 kB)\n",
      "Downloading ploomber_core-0.2.25-py3-none-any.whl (22 kB)\n",
      "Downloading prettytable-3.12.0-py3-none-any.whl (31 kB)\n",
      "Downloading sqlglot-25.32.0-py3-none-any.whl (433 kB)\n",
      "Downloading SQLAlchemy-2.0.36-cp312-cp312-win_amd64.whl (2.1 MB)\n",
      "   ---------------------------------------- 0.0/2.1 MB ? eta -:--:--\n",
      "   ---------------------------------------- 0.0/2.1 MB ? eta -:--:--\n",
      "   ---------------------------------------- 0.0/2.1 MB ? eta -:--:--\n",
      "   ---------------------------------------- 0.0/2.1 MB ? eta -:--:--\n",
      "   ---------------------------------------- 0.0/2.1 MB ? eta -:--:--\n",
      "   ---------------------------------------- 0.0/2.1 MB ? eta -:--:--\n",
      "   ----- ---------------------------------- 0.3/2.1 MB ? eta -:--:--\n",
      "   ----- ---------------------------------- 0.3/2.1 MB ? eta -:--:--\n",
      "   ----- ---------------------------------- 0.3/2.1 MB ? eta -:--:--\n",
      "   ---------- ----------------------------- 0.5/2.1 MB 365.1 kB/s eta 0:00:05\n",
      "   ---------- ----------------------------- 0.5/2.1 MB 365.1 kB/s eta 0:00:05\n",
      "   ---------- ----------------------------- 0.5/2.1 MB 365.1 kB/s eta 0:00:05\n",
      "   --------------- ------------------------ 0.8/2.1 MB 372.9 kB/s eta 0:00:04\n",
      "   --------------- ------------------------ 0.8/2.1 MB 372.9 kB/s eta 0:00:04\n",
      "   --------------- ------------------------ 0.8/2.1 MB 372.9 kB/s eta 0:00:04\n",
      "   -------------------- ------------------- 1.0/2.1 MB 402.7 kB/s eta 0:00:03\n",
      "   -------------------- ------------------- 1.0/2.1 MB 402.7 kB/s eta 0:00:03\n",
      "   -------------------- ------------------- 1.0/2.1 MB 402.7 kB/s eta 0:00:03\n",
      "   ------------------------- -------------- 1.3/2.1 MB 422.1 kB/s eta 0:00:02\n",
      "   ------------------------- -------------- 1.3/2.1 MB 422.1 kB/s eta 0:00:02\n",
      "   ------------------------------ --------- 1.6/2.1 MB 451.0 kB/s eta 0:00:02\n",
      "   ------------------------------ --------- 1.6/2.1 MB 451.0 kB/s eta 0:00:02\n",
      "   ----------------------------------- ---- 1.8/2.1 MB 464.0 kB/s eta 0:00:01\n",
      "   ----------------------------------- ---- 1.8/2.1 MB 464.0 kB/s eta 0:00:01\n",
      "   ---------------------------------------- 2.1/2.1 MB 475.2 kB/s eta 0:00:00\n",
      "Downloading sqlparse-0.5.2-py3-none-any.whl (44 kB)\n",
      "Downloading greenlet-3.1.1-cp312-cp312-win_amd64.whl (299 kB)\n",
      "Downloading posthog-3.7.2-py2.py3-none-any.whl (54 kB)\n",
      "Downloading backoff-2.2.1-py3-none-any.whl (15 kB)\n",
      "Downloading monotonic-1.6-py2.py3-none-any.whl (8.2 kB)\n",
      "Installing collected packages: monotonic, ipython-genutils, sqlparse, sqlglot, prettytable, greenlet, backoff, sqlalchemy, posthog, ploomber-core, jupysql-plugin, jupysql\n",
      "Successfully installed backoff-2.2.1 greenlet-3.1.1 ipython-genutils-0.2.0 jupysql-0.10.16 jupysql-plugin-0.4.5 monotonic-1.6 ploomber-core-0.2.25 posthog-3.7.2 prettytable-3.12.0 sqlalchemy-2.0.36 sqlglot-25.32.0 sqlparse-0.5.2\n",
      "Note: you may need to restart the kernel to use updated packages.\n"
     ]
    }
   ],
   "source": [
    "pip install jupysql --upgrade"
   ]
  },
  {
   "cell_type": "markdown",
   "id": "d4c43259-2e11-4cb3-b2ed-04f2a4148d60",
   "metadata": {},
   "source": [
    "### Approach #1: SQL Magic"
   ]
  },
  {
   "cell_type": "markdown",
   "id": "f699330c-aee9-4036-bc7d-0fe329410f7b",
   "metadata": {},
   "source": [
    "**1. Load the `sql` Module.** \n",
    "\n",
    "Load `%%sql` cell magic."
   ]
  },
  {
   "cell_type": "code",
   "execution_count": 3,
   "id": "d809a9ab-fe04-4e65-99b9-bd1e0c6a0daf",
   "metadata": {},
   "outputs": [],
   "source": [
    "%load_ext sql"
   ]
  },
  {
   "cell_type": "markdown",
   "id": "b155e056-d307-4f69-8083-dee31155224e",
   "metadata": {},
   "source": [
    "**2. Connect to a database.**  \n",
    "\n",
    "Here, we connect to the SQLite database `basic_examples.db` and DuckDB database `example_duck.db`."
   ]
  },
  {
   "cell_type": "code",
   "execution_count": 4,
   "id": "b2bc260a-13c7-496d-9577-bd7575a030fc",
   "metadata": {},
   "outputs": [
    {
     "data": {
      "text/html": [
       "<span style=\"None\">Connecting to &#x27;sqlite&#x27;</span>"
      ],
      "text/plain": [
       "Connecting to 'sqlite'"
      ]
     },
     "metadata": {},
     "output_type": "display_data"
    }
   ],
   "source": [
    "%sql sqlite:///data/basic_examples.db --alias sqlite"
   ]
  },
  {
   "cell_type": "code",
   "execution_count": 5,
   "id": "18246231-1b63-40f9-a72b-defb34eb1ef2",
   "metadata": {},
   "outputs": [],
   "source": [
    "#%pip install duckdb-engine --quiet"
   ]
  },
  {
   "cell_type": "code",
   "execution_count": 6,
   "id": "480982be-9b63-44f4-8ca2-e3b29cd04877",
   "metadata": {},
   "outputs": [
    {
     "data": {
      "text/html": [
       "<span style=\"None\">Connecting and switching to connection &#x27;duckdb&#x27;</span>"
      ],
      "text/plain": [
       "Connecting and switching to connection 'duckdb'"
      ]
     },
     "metadata": {},
     "output_type": "display_data"
    }
   ],
   "source": [
    "%sql duckdb:///data/example_duck.db --alias duckdb"
   ]
  },
  {
   "cell_type": "markdown",
   "id": "8c66752c-1a7c-4e8a-977e-95e27896a057",
   "metadata": {},
   "source": [
    "If you were connecting to an \"enterprise data platform\"\n",
    "\n",
    "```python\n",
    "from sqlalchemy import create_engine\n",
    "\n",
    "snow_engine = create_engine(\n",
    "    f\"snowflake://{user}:{password}@{account_identifier}\")\n",
    "%sql snow_engine --alias snow\n",
    "\n",
    "db_engine = create_engine(\n",
    "  url = f\"databricks://token:{access_token}@{server_hostname}?\" +\n",
    "        f\"http_path={http_path}&catalog={catalog}&schema={schema}\"\n",
    ")\n",
    "%sql db_engine --alias db\n",
    "```"
   ]
  },
  {
   "cell_type": "markdown",
   "id": "1b9a53ac-58d6-439f-a33e-926e15144e97",
   "metadata": {},
   "source": [
    "<br/>\n",
    "\n",
    "**3. Run a simple SQL query.** \n",
    "\n",
    "Note the `%%sql` lets Jupyter parse the rest of the lines as a SQL command."
   ]
  },
  {
   "cell_type": "code",
   "execution_count": 7,
   "id": "8c172229-1ae6-408a-80b6-ef7985fbe386",
   "metadata": {},
   "outputs": [
    {
     "data": {
      "text/html": [
       "<span style=\"None\">Running query in &#x27;duckdb&#x27;</span>"
      ],
      "text/plain": [
       "Running query in 'duckdb'"
      ]
     },
     "metadata": {},
     "output_type": "display_data"
    },
    {
     "data": {
      "text/html": [
       "<table>\n",
       "    <thead>\n",
       "        <tr>\n",
       "            <th>name</th>\n",
       "            <th>year</th>\n",
       "            <th>cute</th>\n",
       "        </tr>\n",
       "    </thead>\n",
       "    <tbody>\n",
       "        <tr>\n",
       "            <td>hiccup</td>\n",
       "            <td>2010</td>\n",
       "            <td>10</td>\n",
       "        </tr>\n",
       "        <tr>\n",
       "            <td>drogon</td>\n",
       "            <td>2011</td>\n",
       "            <td>-100</td>\n",
       "        </tr>\n",
       "        <tr>\n",
       "            <td>dragon 2</td>\n",
       "            <td>2019</td>\n",
       "            <td>0</td>\n",
       "        </tr>\n",
       "        <tr>\n",
       "            <td>puff</td>\n",
       "            <td>2010</td>\n",
       "            <td>100</td>\n",
       "        </tr>\n",
       "        <tr>\n",
       "            <td>smaug</td>\n",
       "            <td>2011</td>\n",
       "            <td>None</td>\n",
       "        </tr>\n",
       "    </tbody>\n",
       "</table>"
      ],
      "text/plain": [
       "+----------+------+------+\n",
       "|   name   | year | cute |\n",
       "+----------+------+------+\n",
       "|  hiccup  | 2010 |  10  |\n",
       "|  drogon  | 2011 | -100 |\n",
       "| dragon 2 | 2019 |  0   |\n",
       "|   puff   | 2010 | 100  |\n",
       "|  smaug   | 2011 | None |\n",
       "+----------+------+------+"
      ]
     },
     "execution_count": 7,
     "metadata": {},
     "output_type": "execute_result"
    }
   ],
   "source": [
    "%%sql\n",
    "SHOW TABLES;\n",
    "SELECT * FROM Dragon;"
   ]
  },
  {
   "cell_type": "markdown",
   "id": "3e2fbecc-ccf6-4807-b810-7de159a111a1",
   "metadata": {},
   "source": [
    "**Simple query, this time on two different lines.**"
   ]
  },
  {
   "cell_type": "code",
   "execution_count": 15,
   "id": "4cbb0a40-63e7-46aa-a65f-a212e1a7858a",
   "metadata": {},
   "outputs": [
    {
     "data": {
      "text/html": [
       "<span style=\"None\">Running query in &#x27;duckdb&#x27;</span>"
      ],
      "text/plain": [
       "Running query in 'duckdb'"
      ]
     },
     "metadata": {},
     "output_type": "display_data"
    },
    {
     "data": {
      "text/html": [
       "<table>\n",
       "    <thead>\n",
       "        <tr>\n",
       "            <th>name</th>\n",
       "            <th>year</th>\n",
       "            <th>cute</th>\n",
       "        </tr>\n",
       "    </thead>\n",
       "    <tbody>\n",
       "        <tr>\n",
       "            <td>hiccup</td>\n",
       "            <td>2010</td>\n",
       "            <td>10</td>\n",
       "        </tr>\n",
       "        <tr>\n",
       "            <td>drogon</td>\n",
       "            <td>2011</td>\n",
       "            <td>-100</td>\n",
       "        </tr>\n",
       "        <tr>\n",
       "            <td>dragon 2</td>\n",
       "            <td>2019</td>\n",
       "            <td>0</td>\n",
       "        </tr>\n",
       "        <tr>\n",
       "            <td>puff</td>\n",
       "            <td>2010</td>\n",
       "            <td>100</td>\n",
       "        </tr>\n",
       "        <tr>\n",
       "            <td>smaug</td>\n",
       "            <td>2011</td>\n",
       "            <td>None</td>\n",
       "        </tr>\n",
       "    </tbody>\n",
       "</table>"
      ],
      "text/plain": [
       "+----------+------+------+\n",
       "|   name   | year | cute |\n",
       "+----------+------+------+\n",
       "|  hiccup  | 2010 |  10  |\n",
       "|  drogon  | 2011 | -100 |\n",
       "| dragon 2 | 2019 |  0   |\n",
       "|   puff   | 2010 | 100  |\n",
       "|  smaug   | 2011 | None |\n",
       "+----------+------+------+"
      ]
     },
     "execution_count": 15,
     "metadata": {},
     "output_type": "execute_result"
    }
   ],
   "source": [
    "%%sql\n",
    "SELECT *\n",
    "FROM Dragon;"
   ]
  },
  {
   "cell_type": "markdown",
   "id": "4d7ac386-94a9-4d3e-9b65-122d5213314a",
   "metadata": {
    "tags": []
   },
   "source": [
    "### Approach #3: `pd.read_sql`\n",
    "\n",
    "It turns out that `pandas` has a special-purpose function to parse SQL queries. We can pass in a SQL query as a string to return a `pandas` DataFrame. To achieve the same result as we did using cell magic above, we can do the following."
   ]
  },
  {
   "cell_type": "markdown",
   "id": "54b68e95-db18-4bc5-83aa-7631f53520f2",
   "metadata": {},
   "source": [
    "**1. Connect to a database**"
   ]
  },
  {
   "cell_type": "code",
   "execution_count": 16,
   "id": "3a8939f0-cbfc-4891-b575-4730df1d8aa5",
   "metadata": {},
   "outputs": [],
   "source": [
    "import sqlalchemy \n",
    "import pandas as pd\n",
    "\n",
    "engine = sqlalchemy.create_engine(\"duckdb:///data/example_duck.db\")"
   ]
  },
  {
   "cell_type": "markdown",
   "id": "170c65bd-6971-45fe-a719-46d4f7b67ddd",
   "metadata": {},
   "source": [
    "**2. Run a simple SQL query**"
   ]
  },
  {
   "cell_type": "code",
   "execution_count": 17,
   "id": "f3c78d9d-a192-476d-a1c8-3a6262f940db",
   "metadata": {},
   "outputs": [
    {
     "data": {
      "text/html": [
       "<div>\n",
       "<style scoped>\n",
       "    .dataframe tbody tr th:only-of-type {\n",
       "        vertical-align: middle;\n",
       "    }\n",
       "\n",
       "    .dataframe tbody tr th {\n",
       "        vertical-align: top;\n",
       "    }\n",
       "\n",
       "    .dataframe thead th {\n",
       "        text-align: right;\n",
       "    }\n",
       "</style>\n",
       "<table border=\"1\" class=\"dataframe\">\n",
       "  <thead>\n",
       "    <tr style=\"text-align: right;\">\n",
       "      <th></th>\n",
       "      <th>name</th>\n",
       "      <th>year</th>\n",
       "      <th>cute</th>\n",
       "    </tr>\n",
       "  </thead>\n",
       "  <tbody>\n",
       "    <tr>\n",
       "      <th>0</th>\n",
       "      <td>hiccup</td>\n",
       "      <td>2010</td>\n",
       "      <td>10.0</td>\n",
       "    </tr>\n",
       "    <tr>\n",
       "      <th>1</th>\n",
       "      <td>drogon</td>\n",
       "      <td>2011</td>\n",
       "      <td>-100.0</td>\n",
       "    </tr>\n",
       "    <tr>\n",
       "      <th>2</th>\n",
       "      <td>dragon 2</td>\n",
       "      <td>2019</td>\n",
       "      <td>0.0</td>\n",
       "    </tr>\n",
       "    <tr>\n",
       "      <th>3</th>\n",
       "      <td>puff</td>\n",
       "      <td>2010</td>\n",
       "      <td>100.0</td>\n",
       "    </tr>\n",
       "    <tr>\n",
       "      <th>4</th>\n",
       "      <td>smaug</td>\n",
       "      <td>2011</td>\n",
       "      <td>NaN</td>\n",
       "    </tr>\n",
       "  </tbody>\n",
       "</table>\n",
       "</div>"
      ],
      "text/plain": [
       "       name  year   cute\n",
       "0    hiccup  2010   10.0\n",
       "1    drogon  2011 -100.0\n",
       "2  dragon 2  2019    0.0\n",
       "3      puff  2010  100.0\n",
       "4     smaug  2011    NaN"
      ]
     },
     "execution_count": 17,
     "metadata": {},
     "output_type": "execute_result"
    }
   ],
   "source": [
    "query = \"\"\"\n",
    "SELECT * \n",
    "FROM Dragon;\n",
    "\"\"\"\n",
    "\n",
    "df = pd.read_sql(query, engine)\n",
    "df"
   ]
  },
  {
   "cell_type": "markdown",
   "id": "c6fd1c3c-ca0b-4211-a140-f8ca128ba793",
   "metadata": {},
   "source": [
    "### Approach \"3\" -- Duck DB Special"
   ]
  },
  {
   "cell_type": "markdown",
   "id": "1425235a-cf7d-4e64-826d-d924224b401a",
   "metadata": {},
   "source": [
    "Now that we are using DuckDB we can do something extra crazy:"
   ]
  },
  {
   "cell_type": "code",
   "execution_count": 1,
   "id": "d9236ab8-ae87-4c26-b0f3-2634d3080233",
   "metadata": {},
   "outputs": [
    {
     "data": {
      "text/plain": [
       "pandas.core.frame.DataFrame"
      ]
     },
     "execution_count": 1,
     "metadata": {},
     "output_type": "execute_result"
    }
   ],
   "source": [
    "import seaborn as sns\n",
    "mpg = sns.load_dataset(\"mpg\")\n",
    "type(mpg)"
   ]
  },
  {
   "cell_type": "code",
   "execution_count": 8,
   "id": "88a112e8-961e-46bb-9f35-a9ad5c1a6c52",
   "metadata": {},
   "outputs": [
    {
     "data": {
      "text/html": [
       "<span style=\"None\">Running query in &#x27;duckdb&#x27;</span>"
      ],
      "text/plain": [
       "Running query in 'duckdb'"
      ]
     },
     "metadata": {},
     "output_type": "display_data"
    },
    {
     "name": "stderr",
     "output_type": "stream",
     "text": [
      "RuntimeError: If using snippets, you may pass the --with argument explicitly.\n",
      "For more details please refer: https://jupysql.ploomber.io/en/latest/compose.html#with-argument\n",
      "\n",
      "\n",
      "Original error message from DB driver:\n",
      "(duckdb.duckdb.CatalogException) Catalog Error: Table with name mpg does not exist!\n",
      "Did you mean \"pg_am\"?\n",
      "LINE 1: SELECT * FROM mpg\n",
      "                      ^\n",
      "[SQL: SELECT * FROM mpg]\n",
      "(Background on this error at: https://sqlalche.me/e/20/f405)\n",
      "\n",
      "If you need help solving this issue, send us a message: https://ploomber.io/community\n"
     ]
    }
   ],
   "source": [
    "%%sql\n",
    "SELECT * FROM mpg"
   ]
  },
  {
   "cell_type": "markdown",
   "id": "03ee3aa7-621d-46ff-af9f-968b7b3ea4cb",
   "metadata": {},
   "source": [
    "That is right!! DuckDB can also see my dataframes in the python environment allowing me to do dataframe manipulation in SQL!"
   ]
  },
  {
   "cell_type": "markdown",
   "id": "fc681cfe-8de9-4af0-87dd-46942ea9f1c8",
   "metadata": {},
   "source": [
    "\n",
    "---\n",
    "\n",
    "## Tables and Schema\n",
    "\n",
    "A **database** contains a collection of SQL **tables**. Let's connect to our \"toy\" database `example_duck.db` and explore the tables it stores."
   ]
  },
  {
   "cell_type": "code",
   "execution_count": 36,
   "id": "f32da741",
   "metadata": {
    "tags": []
   },
   "outputs": [
    {
     "data": {
      "text/html": [
       "<span style=\"None\">Running query in &#x27;duckdb&#x27;</span>"
      ],
      "text/plain": [
       "Running query in 'duckdb'"
      ]
     },
     "metadata": {},
     "output_type": "display_data"
    },
    {
     "data": {
      "text/html": [
       "<table>\n",
       "    <thead>\n",
       "        <tr>\n",
       "            <th>table_catalog</th>\n",
       "            <th>table_schema</th>\n",
       "            <th>table_name</th>\n",
       "            <th>table_type</th>\n",
       "            <th>self_referencing_column_name</th>\n",
       "            <th>reference_generation</th>\n",
       "            <th>user_defined_type_catalog</th>\n",
       "            <th>user_defined_type_schema</th>\n",
       "            <th>user_defined_type_name</th>\n",
       "            <th>is_insertable_into</th>\n",
       "            <th>is_typed</th>\n",
       "            <th>commit_action</th>\n",
       "            <th>TABLE_COMMENT</th>\n",
       "        </tr>\n",
       "    </thead>\n",
       "    <tbody>\n",
       "        <tr>\n",
       "            <td>example_duck</td>\n",
       "            <td>main</td>\n",
       "            <td>dish</td>\n",
       "            <td>BASE TABLE</td>\n",
       "            <td>None</td>\n",
       "            <td>None</td>\n",
       "            <td>None</td>\n",
       "            <td>None</td>\n",
       "            <td>None</td>\n",
       "            <td>YES</td>\n",
       "            <td>NO</td>\n",
       "            <td>None</td>\n",
       "            <td>None</td>\n",
       "        </tr>\n",
       "        <tr>\n",
       "            <td>example_duck</td>\n",
       "            <td>main</td>\n",
       "            <td>dragon</td>\n",
       "            <td>BASE TABLE</td>\n",
       "            <td>None</td>\n",
       "            <td>None</td>\n",
       "            <td>None</td>\n",
       "            <td>None</td>\n",
       "            <td>None</td>\n",
       "            <td>YES</td>\n",
       "            <td>NO</td>\n",
       "            <td>None</td>\n",
       "            <td>None</td>\n",
       "        </tr>\n",
       "        <tr>\n",
       "            <td>example_duck</td>\n",
       "            <td>main</td>\n",
       "            <td>scene</td>\n",
       "            <td>BASE TABLE</td>\n",
       "            <td>None</td>\n",
       "            <td>None</td>\n",
       "            <td>None</td>\n",
       "            <td>None</td>\n",
       "            <td>None</td>\n",
       "            <td>YES</td>\n",
       "            <td>NO</td>\n",
       "            <td>None</td>\n",
       "            <td>None</td>\n",
       "        </tr>\n",
       "    </tbody>\n",
       "</table>"
      ],
      "text/plain": [
       "+---------------+--------------+------------+------------+------------------------------+----------------------+---------------------------+--------------------------+------------------------+--------------------+----------+---------------+---------------+\n",
       "| table_catalog | table_schema | table_name | table_type | self_referencing_column_name | reference_generation | user_defined_type_catalog | user_defined_type_schema | user_defined_type_name | is_insertable_into | is_typed | commit_action | TABLE_COMMENT |\n",
       "+---------------+--------------+------------+------------+------------------------------+----------------------+---------------------------+--------------------------+------------------------+--------------------+----------+---------------+---------------+\n",
       "|  example_duck |     main     |    dish    | BASE TABLE |             None             |         None         |            None           |           None           |          None          |        YES         |    NO    |      None     |      None     |\n",
       "|  example_duck |     main     |   dragon   | BASE TABLE |             None             |         None         |            None           |           None           |          None          |        YES         |    NO    |      None     |      None     |\n",
       "|  example_duck |     main     |   scene    | BASE TABLE |             None             |         None         |            None           |           None           |          None          |        YES         |    NO    |      None     |      None     |\n",
       "+---------------+--------------+------------+------------+------------------------------+----------------------+---------------------------+--------------------------+------------------------+--------------------+----------+---------------+---------------+"
      ]
     },
     "execution_count": 36,
     "metadata": {},
     "output_type": "execute_result"
    }
   ],
   "source": [
    "%%sql\n",
    "SELECT * FROM information_schema.tables"
   ]
  },
  {
   "cell_type": "code",
   "execution_count": 38,
   "id": "cedc4bd6-c8fd-4bcb-bb1d-a5781cebb94a",
   "metadata": {},
   "outputs": [
    {
     "data": {
      "text/html": [
       "<span style=\"None\">Running query in &#x27;duckdb&#x27;</span>"
      ],
      "text/plain": [
       "Running query in 'duckdb'"
      ]
     },
     "metadata": {},
     "output_type": "display_data"
    },
    {
     "data": {
      "text/html": [
       "<table>\n",
       "    <thead>\n",
       "        <tr>\n",
       "            <th>table_catalog</th>\n",
       "            <th>table_schema</th>\n",
       "            <th>table_name</th>\n",
       "            <th>column_name</th>\n",
       "            <th>ordinal_position</th>\n",
       "            <th>column_default</th>\n",
       "            <th>is_nullable</th>\n",
       "            <th>data_type</th>\n",
       "            <th>character_maximum_length</th>\n",
       "            <th>character_octet_length</th>\n",
       "            <th>numeric_precision</th>\n",
       "            <th>numeric_precision_radix</th>\n",
       "            <th>numeric_scale</th>\n",
       "            <th>datetime_precision</th>\n",
       "            <th>interval_type</th>\n",
       "            <th>interval_precision</th>\n",
       "            <th>character_set_catalog</th>\n",
       "            <th>character_set_schema</th>\n",
       "            <th>character_set_name</th>\n",
       "            <th>collation_catalog</th>\n",
       "            <th>collation_schema</th>\n",
       "            <th>collation_name</th>\n",
       "            <th>domain_catalog</th>\n",
       "            <th>domain_schema</th>\n",
       "            <th>domain_name</th>\n",
       "            <th>udt_catalog</th>\n",
       "            <th>udt_schema</th>\n",
       "            <th>udt_name</th>\n",
       "            <th>scope_catalog</th>\n",
       "            <th>scope_schema</th>\n",
       "            <th>scope_name</th>\n",
       "            <th>maximum_cardinality</th>\n",
       "            <th>dtd_identifier</th>\n",
       "            <th>is_self_referencing</th>\n",
       "            <th>is_identity</th>\n",
       "            <th>identity_generation</th>\n",
       "            <th>identity_start</th>\n",
       "            <th>identity_increment</th>\n",
       "            <th>identity_maximum</th>\n",
       "            <th>identity_minimum</th>\n",
       "            <th>identity_cycle</th>\n",
       "            <th>is_generated</th>\n",
       "            <th>generation_expression</th>\n",
       "            <th>is_updatable</th>\n",
       "            <th>COLUMN_COMMENT</th>\n",
       "        </tr>\n",
       "    </thead>\n",
       "    <tbody>\n",
       "        <tr>\n",
       "            <td>example_duck</td>\n",
       "            <td>main</td>\n",
       "            <td>dish</td>\n",
       "            <td>name</td>\n",
       "            <td>1</td>\n",
       "            <td>None</td>\n",
       "            <td>NO</td>\n",
       "            <td>VARCHAR</td>\n",
       "            <td>None</td>\n",
       "            <td>None</td>\n",
       "            <td>None</td>\n",
       "            <td>None</td>\n",
       "            <td>None</td>\n",
       "            <td>None</td>\n",
       "            <td>None</td>\n",
       "            <td>None</td>\n",
       "            <td>None</td>\n",
       "            <td>None</td>\n",
       "            <td>None</td>\n",
       "            <td>None</td>\n",
       "            <td>None</td>\n",
       "            <td>None</td>\n",
       "            <td>None</td>\n",
       "            <td>None</td>\n",
       "            <td>None</td>\n",
       "            <td>None</td>\n",
       "            <td>None</td>\n",
       "            <td>None</td>\n",
       "            <td>None</td>\n",
       "            <td>None</td>\n",
       "            <td>None</td>\n",
       "            <td>None</td>\n",
       "            <td>None</td>\n",
       "            <td>None</td>\n",
       "            <td>None</td>\n",
       "            <td>None</td>\n",
       "            <td>None</td>\n",
       "            <td>None</td>\n",
       "            <td>None</td>\n",
       "            <td>None</td>\n",
       "            <td>None</td>\n",
       "            <td>None</td>\n",
       "            <td>None</td>\n",
       "            <td>None</td>\n",
       "            <td>None</td>\n",
       "        </tr>\n",
       "        <tr>\n",
       "            <td>example_duck</td>\n",
       "            <td>main</td>\n",
       "            <td>dish</td>\n",
       "            <td>type</td>\n",
       "            <td>2</td>\n",
       "            <td>None</td>\n",
       "            <td>YES</td>\n",
       "            <td>VARCHAR</td>\n",
       "            <td>None</td>\n",
       "            <td>None</td>\n",
       "            <td>None</td>\n",
       "            <td>None</td>\n",
       "            <td>None</td>\n",
       "            <td>None</td>\n",
       "            <td>None</td>\n",
       "            <td>None</td>\n",
       "            <td>None</td>\n",
       "            <td>None</td>\n",
       "            <td>None</td>\n",
       "            <td>None</td>\n",
       "            <td>None</td>\n",
       "            <td>None</td>\n",
       "            <td>None</td>\n",
       "            <td>None</td>\n",
       "            <td>None</td>\n",
       "            <td>None</td>\n",
       "            <td>None</td>\n",
       "            <td>None</td>\n",
       "            <td>None</td>\n",
       "            <td>None</td>\n",
       "            <td>None</td>\n",
       "            <td>None</td>\n",
       "            <td>None</td>\n",
       "            <td>None</td>\n",
       "            <td>None</td>\n",
       "            <td>None</td>\n",
       "            <td>None</td>\n",
       "            <td>None</td>\n",
       "            <td>None</td>\n",
       "            <td>None</td>\n",
       "            <td>None</td>\n",
       "            <td>None</td>\n",
       "            <td>None</td>\n",
       "            <td>None</td>\n",
       "            <td>None</td>\n",
       "        </tr>\n",
       "        <tr>\n",
       "            <td>example_duck</td>\n",
       "            <td>main</td>\n",
       "            <td>dish</td>\n",
       "            <td>cost</td>\n",
       "            <td>3</td>\n",
       "            <td>None</td>\n",
       "            <td>YES</td>\n",
       "            <td>INTEGER</td>\n",
       "            <td>None</td>\n",
       "            <td>None</td>\n",
       "            <td>32</td>\n",
       "            <td>2</td>\n",
       "            <td>0</td>\n",
       "            <td>None</td>\n",
       "            <td>None</td>\n",
       "            <td>None</td>\n",
       "            <td>None</td>\n",
       "            <td>None</td>\n",
       "            <td>None</td>\n",
       "            <td>None</td>\n",
       "            <td>None</td>\n",
       "            <td>None</td>\n",
       "            <td>None</td>\n",
       "            <td>None</td>\n",
       "            <td>None</td>\n",
       "            <td>None</td>\n",
       "            <td>None</td>\n",
       "            <td>None</td>\n",
       "            <td>None</td>\n",
       "            <td>None</td>\n",
       "            <td>None</td>\n",
       "            <td>None</td>\n",
       "            <td>None</td>\n",
       "            <td>None</td>\n",
       "            <td>None</td>\n",
       "            <td>None</td>\n",
       "            <td>None</td>\n",
       "            <td>None</td>\n",
       "            <td>None</td>\n",
       "            <td>None</td>\n",
       "            <td>None</td>\n",
       "            <td>None</td>\n",
       "            <td>None</td>\n",
       "            <td>None</td>\n",
       "            <td>None</td>\n",
       "        </tr>\n",
       "        <tr>\n",
       "            <td>example_duck</td>\n",
       "            <td>main</td>\n",
       "            <td>dragon</td>\n",
       "            <td>name</td>\n",
       "            <td>1</td>\n",
       "            <td>None</td>\n",
       "            <td>NO</td>\n",
       "            <td>VARCHAR</td>\n",
       "            <td>None</td>\n",
       "            <td>None</td>\n",
       "            <td>None</td>\n",
       "            <td>None</td>\n",
       "            <td>None</td>\n",
       "            <td>None</td>\n",
       "            <td>None</td>\n",
       "            <td>None</td>\n",
       "            <td>None</td>\n",
       "            <td>None</td>\n",
       "            <td>None</td>\n",
       "            <td>None</td>\n",
       "            <td>None</td>\n",
       "            <td>None</td>\n",
       "            <td>None</td>\n",
       "            <td>None</td>\n",
       "            <td>None</td>\n",
       "            <td>None</td>\n",
       "            <td>None</td>\n",
       "            <td>None</td>\n",
       "            <td>None</td>\n",
       "            <td>None</td>\n",
       "            <td>None</td>\n",
       "            <td>None</td>\n",
       "            <td>None</td>\n",
       "            <td>None</td>\n",
       "            <td>None</td>\n",
       "            <td>None</td>\n",
       "            <td>None</td>\n",
       "            <td>None</td>\n",
       "            <td>None</td>\n",
       "            <td>None</td>\n",
       "            <td>None</td>\n",
       "            <td>None</td>\n",
       "            <td>None</td>\n",
       "            <td>None</td>\n",
       "            <td>None</td>\n",
       "        </tr>\n",
       "        <tr>\n",
       "            <td>example_duck</td>\n",
       "            <td>main</td>\n",
       "            <td>dragon</td>\n",
       "            <td>year</td>\n",
       "            <td>2</td>\n",
       "            <td>None</td>\n",
       "            <td>YES</td>\n",
       "            <td>INTEGER</td>\n",
       "            <td>None</td>\n",
       "            <td>None</td>\n",
       "            <td>32</td>\n",
       "            <td>2</td>\n",
       "            <td>0</td>\n",
       "            <td>None</td>\n",
       "            <td>None</td>\n",
       "            <td>None</td>\n",
       "            <td>None</td>\n",
       "            <td>None</td>\n",
       "            <td>None</td>\n",
       "            <td>None</td>\n",
       "            <td>None</td>\n",
       "            <td>None</td>\n",
       "            <td>None</td>\n",
       "            <td>None</td>\n",
       "            <td>None</td>\n",
       "            <td>None</td>\n",
       "            <td>None</td>\n",
       "            <td>None</td>\n",
       "            <td>None</td>\n",
       "            <td>None</td>\n",
       "            <td>None</td>\n",
       "            <td>None</td>\n",
       "            <td>None</td>\n",
       "            <td>None</td>\n",
       "            <td>None</td>\n",
       "            <td>None</td>\n",
       "            <td>None</td>\n",
       "            <td>None</td>\n",
       "            <td>None</td>\n",
       "            <td>None</td>\n",
       "            <td>None</td>\n",
       "            <td>None</td>\n",
       "            <td>None</td>\n",
       "            <td>None</td>\n",
       "            <td>None</td>\n",
       "        </tr>\n",
       "        <tr>\n",
       "            <td>example_duck</td>\n",
       "            <td>main</td>\n",
       "            <td>dragon</td>\n",
       "            <td>cute</td>\n",
       "            <td>3</td>\n",
       "            <td>None</td>\n",
       "            <td>YES</td>\n",
       "            <td>INTEGER</td>\n",
       "            <td>None</td>\n",
       "            <td>None</td>\n",
       "            <td>32</td>\n",
       "            <td>2</td>\n",
       "            <td>0</td>\n",
       "            <td>None</td>\n",
       "            <td>None</td>\n",
       "            <td>None</td>\n",
       "            <td>None</td>\n",
       "            <td>None</td>\n",
       "            <td>None</td>\n",
       "            <td>None</td>\n",
       "            <td>None</td>\n",
       "            <td>None</td>\n",
       "            <td>None</td>\n",
       "            <td>None</td>\n",
       "            <td>None</td>\n",
       "            <td>None</td>\n",
       "            <td>None</td>\n",
       "            <td>None</td>\n",
       "            <td>None</td>\n",
       "            <td>None</td>\n",
       "            <td>None</td>\n",
       "            <td>None</td>\n",
       "            <td>None</td>\n",
       "            <td>None</td>\n",
       "            <td>None</td>\n",
       "            <td>None</td>\n",
       "            <td>None</td>\n",
       "            <td>None</td>\n",
       "            <td>None</td>\n",
       "            <td>None</td>\n",
       "            <td>None</td>\n",
       "            <td>None</td>\n",
       "            <td>None</td>\n",
       "            <td>None</td>\n",
       "            <td>None</td>\n",
       "        </tr>\n",
       "        <tr>\n",
       "            <td>example_duck</td>\n",
       "            <td>main</td>\n",
       "            <td>scene</td>\n",
       "            <td>id</td>\n",
       "            <td>1</td>\n",
       "            <td>None</td>\n",
       "            <td>NO</td>\n",
       "            <td>INTEGER</td>\n",
       "            <td>None</td>\n",
       "            <td>None</td>\n",
       "            <td>32</td>\n",
       "            <td>2</td>\n",
       "            <td>0</td>\n",
       "            <td>None</td>\n",
       "            <td>None</td>\n",
       "            <td>None</td>\n",
       "            <td>None</td>\n",
       "            <td>None</td>\n",
       "            <td>None</td>\n",
       "            <td>None</td>\n",
       "            <td>None</td>\n",
       "            <td>None</td>\n",
       "            <td>None</td>\n",
       "            <td>None</td>\n",
       "            <td>None</td>\n",
       "            <td>None</td>\n",
       "            <td>None</td>\n",
       "            <td>None</td>\n",
       "            <td>None</td>\n",
       "            <td>None</td>\n",
       "            <td>None</td>\n",
       "            <td>None</td>\n",
       "            <td>None</td>\n",
       "            <td>None</td>\n",
       "            <td>None</td>\n",
       "            <td>None</td>\n",
       "            <td>None</td>\n",
       "            <td>None</td>\n",
       "            <td>None</td>\n",
       "            <td>None</td>\n",
       "            <td>None</td>\n",
       "            <td>None</td>\n",
       "            <td>None</td>\n",
       "            <td>None</td>\n",
       "            <td>None</td>\n",
       "        </tr>\n",
       "        <tr>\n",
       "            <td>example_duck</td>\n",
       "            <td>main</td>\n",
       "            <td>scene</td>\n",
       "            <td>biome</td>\n",
       "            <td>2</td>\n",
       "            <td>None</td>\n",
       "            <td>NO</td>\n",
       "            <td>VARCHAR</td>\n",
       "            <td>None</td>\n",
       "            <td>None</td>\n",
       "            <td>None</td>\n",
       "            <td>None</td>\n",
       "            <td>None</td>\n",
       "            <td>None</td>\n",
       "            <td>None</td>\n",
       "            <td>None</td>\n",
       "            <td>None</td>\n",
       "            <td>None</td>\n",
       "            <td>None</td>\n",
       "            <td>None</td>\n",
       "            <td>None</td>\n",
       "            <td>None</td>\n",
       "            <td>None</td>\n",
       "            <td>None</td>\n",
       "            <td>None</td>\n",
       "            <td>None</td>\n",
       "            <td>None</td>\n",
       "            <td>None</td>\n",
       "            <td>None</td>\n",
       "            <td>None</td>\n",
       "            <td>None</td>\n",
       "            <td>None</td>\n",
       "            <td>None</td>\n",
       "            <td>None</td>\n",
       "            <td>None</td>\n",
       "            <td>None</td>\n",
       "            <td>None</td>\n",
       "            <td>None</td>\n",
       "            <td>None</td>\n",
       "            <td>None</td>\n",
       "            <td>None</td>\n",
       "            <td>None</td>\n",
       "            <td>None</td>\n",
       "            <td>None</td>\n",
       "            <td>None</td>\n",
       "        </tr>\n",
       "        <tr>\n",
       "            <td>example_duck</td>\n",
       "            <td>main</td>\n",
       "            <td>scene</td>\n",
       "            <td>city</td>\n",
       "            <td>3</td>\n",
       "            <td>None</td>\n",
       "            <td>NO</td>\n",
       "            <td>VARCHAR</td>\n",
       "            <td>None</td>\n",
       "            <td>None</td>\n",
       "            <td>None</td>\n",
       "            <td>None</td>\n",
       "            <td>None</td>\n",
       "            <td>None</td>\n",
       "            <td>None</td>\n",
       "            <td>None</td>\n",
       "            <td>None</td>\n",
       "            <td>None</td>\n",
       "            <td>None</td>\n",
       "            <td>None</td>\n",
       "            <td>None</td>\n",
       "            <td>None</td>\n",
       "            <td>None</td>\n",
       "            <td>None</td>\n",
       "            <td>None</td>\n",
       "            <td>None</td>\n",
       "            <td>None</td>\n",
       "            <td>None</td>\n",
       "            <td>None</td>\n",
       "            <td>None</td>\n",
       "            <td>None</td>\n",
       "            <td>None</td>\n",
       "            <td>None</td>\n",
       "            <td>None</td>\n",
       "            <td>None</td>\n",
       "            <td>None</td>\n",
       "            <td>None</td>\n",
       "            <td>None</td>\n",
       "            <td>None</td>\n",
       "            <td>None</td>\n",
       "            <td>None</td>\n",
       "            <td>None</td>\n",
       "            <td>None</td>\n",
       "            <td>None</td>\n",
       "            <td>None</td>\n",
       "        </tr>\n",
       "        <tr>\n",
       "            <td>example_duck</td>\n",
       "            <td>main</td>\n",
       "            <td>scene</td>\n",
       "            <td>visitors</td>\n",
       "            <td>4</td>\n",
       "            <td>None</td>\n",
       "            <td>YES</td>\n",
       "            <td>INTEGER</td>\n",
       "            <td>None</td>\n",
       "            <td>None</td>\n",
       "            <td>32</td>\n",
       "            <td>2</td>\n",
       "            <td>0</td>\n",
       "            <td>None</td>\n",
       "            <td>None</td>\n",
       "            <td>None</td>\n",
       "            <td>None</td>\n",
       "            <td>None</td>\n",
       "            <td>None</td>\n",
       "            <td>None</td>\n",
       "            <td>None</td>\n",
       "            <td>None</td>\n",
       "            <td>None</td>\n",
       "            <td>None</td>\n",
       "            <td>None</td>\n",
       "            <td>None</td>\n",
       "            <td>None</td>\n",
       "            <td>None</td>\n",
       "            <td>None</td>\n",
       "            <td>None</td>\n",
       "            <td>None</td>\n",
       "            <td>None</td>\n",
       "            <td>None</td>\n",
       "            <td>None</td>\n",
       "            <td>None</td>\n",
       "            <td>None</td>\n",
       "            <td>None</td>\n",
       "            <td>None</td>\n",
       "            <td>None</td>\n",
       "            <td>None</td>\n",
       "            <td>None</td>\n",
       "            <td>None</td>\n",
       "            <td>None</td>\n",
       "            <td>None</td>\n",
       "            <td>None</td>\n",
       "        </tr>\n",
       "    </tbody>\n",
       "</table>\n",
       "<span style=\"font-style:italic;text-align:center;\">Truncated to <a href=\"https://jupysql.ploomber.io/en/latest/api/configuration.html#displaylimit\">displaylimit</a> of 10.</span>"
      ],
      "text/plain": [
       "+---------------+--------------+------------+-------------+------------------+----------------+-------------+-----------+--------------------------+------------------------+-------------------+-------------------------+---------------+--------------------+---------------+--------------------+-----------------------+----------------------+--------------------+-------------------+------------------+----------------+----------------+---------------+-------------+-------------+------------+----------+---------------+--------------+------------+---------------------+----------------+---------------------+-------------+---------------------+----------------+--------------------+------------------+------------------+----------------+--------------+-----------------------+--------------+----------------+\n",
       "| table_catalog | table_schema | table_name | column_name | ordinal_position | column_default | is_nullable | data_type | character_maximum_length | character_octet_length | numeric_precision | numeric_precision_radix | numeric_scale | datetime_precision | interval_type | interval_precision | character_set_catalog | character_set_schema | character_set_name | collation_catalog | collation_schema | collation_name | domain_catalog | domain_schema | domain_name | udt_catalog | udt_schema | udt_name | scope_catalog | scope_schema | scope_name | maximum_cardinality | dtd_identifier | is_self_referencing | is_identity | identity_generation | identity_start | identity_increment | identity_maximum | identity_minimum | identity_cycle | is_generated | generation_expression | is_updatable | COLUMN_COMMENT |\n",
       "+---------------+--------------+------------+-------------+------------------+----------------+-------------+-----------+--------------------------+------------------------+-------------------+-------------------------+---------------+--------------------+---------------+--------------------+-----------------------+----------------------+--------------------+-------------------+------------------+----------------+----------------+---------------+-------------+-------------+------------+----------+---------------+--------------+------------+---------------------+----------------+---------------------+-------------+---------------------+----------------+--------------------+------------------+------------------+----------------+--------------+-----------------------+--------------+----------------+\n",
       "|  example_duck |     main     |    dish    |     name    |        1         |      None      |      NO     |  VARCHAR  |           None           |          None          |        None       |           None          |      None     |        None        |      None     |        None        |          None         |         None         |        None        |        None       |       None       |      None      |      None      |      None     |     None    |     None    |    None    |   None   |      None     |     None     |    None    |         None        |      None      |         None        |     None    |         None        |      None      |        None        |       None       |       None       |      None      |     None     |          None         |     None     |      None      |\n",
       "|  example_duck |     main     |    dish    |     type    |        2         |      None      |     YES     |  VARCHAR  |           None           |          None          |        None       |           None          |      None     |        None        |      None     |        None        |          None         |         None         |        None        |        None       |       None       |      None      |      None      |      None     |     None    |     None    |    None    |   None   |      None     |     None     |    None    |         None        |      None      |         None        |     None    |         None        |      None      |        None        |       None       |       None       |      None      |     None     |          None         |     None     |      None      |\n",
       "|  example_duck |     main     |    dish    |     cost    |        3         |      None      |     YES     |  INTEGER  |           None           |          None          |         32        |            2            |       0       |        None        |      None     |        None        |          None         |         None         |        None        |        None       |       None       |      None      |      None      |      None     |     None    |     None    |    None    |   None   |      None     |     None     |    None    |         None        |      None      |         None        |     None    |         None        |      None      |        None        |       None       |       None       |      None      |     None     |          None         |     None     |      None      |\n",
       "|  example_duck |     main     |   dragon   |     name    |        1         |      None      |      NO     |  VARCHAR  |           None           |          None          |        None       |           None          |      None     |        None        |      None     |        None        |          None         |         None         |        None        |        None       |       None       |      None      |      None      |      None     |     None    |     None    |    None    |   None   |      None     |     None     |    None    |         None        |      None      |         None        |     None    |         None        |      None      |        None        |       None       |       None       |      None      |     None     |          None         |     None     |      None      |\n",
       "|  example_duck |     main     |   dragon   |     year    |        2         |      None      |     YES     |  INTEGER  |           None           |          None          |         32        |            2            |       0       |        None        |      None     |        None        |          None         |         None         |        None        |        None       |       None       |      None      |      None      |      None     |     None    |     None    |    None    |   None   |      None     |     None     |    None    |         None        |      None      |         None        |     None    |         None        |      None      |        None        |       None       |       None       |      None      |     None     |          None         |     None     |      None      |\n",
       "|  example_duck |     main     |   dragon   |     cute    |        3         |      None      |     YES     |  INTEGER  |           None           |          None          |         32        |            2            |       0       |        None        |      None     |        None        |          None         |         None         |        None        |        None       |       None       |      None      |      None      |      None     |     None    |     None    |    None    |   None   |      None     |     None     |    None    |         None        |      None      |         None        |     None    |         None        |      None      |        None        |       None       |       None       |      None      |     None     |          None         |     None     |      None      |\n",
       "|  example_duck |     main     |   scene    |      id     |        1         |      None      |      NO     |  INTEGER  |           None           |          None          |         32        |            2            |       0       |        None        |      None     |        None        |          None         |         None         |        None        |        None       |       None       |      None      |      None      |      None     |     None    |     None    |    None    |   None   |      None     |     None     |    None    |         None        |      None      |         None        |     None    |         None        |      None      |        None        |       None       |       None       |      None      |     None     |          None         |     None     |      None      |\n",
       "|  example_duck |     main     |   scene    |    biome    |        2         |      None      |      NO     |  VARCHAR  |           None           |          None          |        None       |           None          |      None     |        None        |      None     |        None        |          None         |         None         |        None        |        None       |       None       |      None      |      None      |      None     |     None    |     None    |    None    |   None   |      None     |     None     |    None    |         None        |      None      |         None        |     None    |         None        |      None      |        None        |       None       |       None       |      None      |     None     |          None         |     None     |      None      |\n",
       "|  example_duck |     main     |   scene    |     city    |        3         |      None      |      NO     |  VARCHAR  |           None           |          None          |        None       |           None          |      None     |        None        |      None     |        None        |          None         |         None         |        None        |        None       |       None       |      None      |      None      |      None     |     None    |     None    |    None    |   None   |      None     |     None     |    None    |         None        |      None      |         None        |     None    |         None        |      None      |        None        |       None       |       None       |      None      |     None     |          None         |     None     |      None      |\n",
       "|  example_duck |     main     |   scene    |   visitors  |        4         |      None      |     YES     |  INTEGER  |           None           |          None          |         32        |            2            |       0       |        None        |      None     |        None        |          None         |         None         |        None        |        None       |       None       |      None      |      None      |      None     |     None    |     None    |    None    |   None   |      None     |     None     |    None    |         None        |      None      |         None        |     None    |         None        |      None      |        None        |       None       |       None       |      None      |     None     |          None         |     None     |      None      |\n",
       "+---------------+--------------+------------+-------------+------------------+----------------+-------------+-----------+--------------------------+------------------------+-------------------+-------------------------+---------------+--------------------+---------------+--------------------+-----------------------+----------------------+--------------------+-------------------+------------------+----------------+----------------+---------------+-------------+-------------+------------+----------+---------------+--------------+------------+---------------------+----------------+---------------------+-------------+---------------------+----------------+--------------------+------------------+------------------+----------------+--------------+-----------------------+--------------+----------------+\n",
       "Truncated to displaylimit of 10."
      ]
     },
     "execution_count": 38,
     "metadata": {},
     "output_type": "execute_result"
    }
   ],
   "source": [
    "%%sql\n",
    "SELECT * FROM information_schema.columns"
   ]
  },
  {
   "cell_type": "markdown",
   "id": "8cadf0c7-11b0-4c6d-93a5-5aa4c2142993",
   "metadata": {},
   "source": [
    "### Getting Schema information with SQLAlchemy \n",
    "The way you list the tables varies across database platforms. For example, the statement:\n",
    "\n",
    "```sql\n",
    "SELECT * FROM information_schema.columns\n",
    "```\n",
    "\n",
    "It only works on Postgres-compatible databases.\n",
    "\n",
    "For example, if we wanted to get the schema for tables in DuckDB, we would need the following:"
   ]
  },
  {
   "cell_type": "code",
   "execution_count": 40,
   "id": "d8153b0f-4b1b-4ba8-81f1-e409f313abf6",
   "metadata": {
    "scrolled": true
   },
   "outputs": [
    {
     "data": {
      "text/html": [
       "<div>\n",
       "<style scoped>\n",
       "    .dataframe tbody tr th:only-of-type {\n",
       "        vertical-align: middle;\n",
       "    }\n",
       "\n",
       "    .dataframe tbody tr th {\n",
       "        vertical-align: top;\n",
       "    }\n",
       "\n",
       "    .dataframe thead th {\n",
       "        text-align: right;\n",
       "    }\n",
       "</style>\n",
       "<table border=\"1\" class=\"dataframe\">\n",
       "  <thead>\n",
       "    <tr style=\"text-align: right;\">\n",
       "      <th></th>\n",
       "      <th>type</th>\n",
       "      <th>name</th>\n",
       "      <th>tbl_name</th>\n",
       "      <th>rootpage</th>\n",
       "      <th>sql</th>\n",
       "    </tr>\n",
       "  </thead>\n",
       "  <tbody>\n",
       "    <tr>\n",
       "      <th>0</th>\n",
       "      <td>table</td>\n",
       "      <td>dish</td>\n",
       "      <td>dish</td>\n",
       "      <td>0</td>\n",
       "      <td>CREATE TABLE dish(\"name\" VARCHAR PRIMARY KEY, \"type\" VARCHAR, \"cost\" INTEGER, CHECK((\"cost\" &gt;= 0)));</td>\n",
       "    </tr>\n",
       "    <tr>\n",
       "      <th>1</th>\n",
       "      <td>table</td>\n",
       "      <td>dragon</td>\n",
       "      <td>dragon</td>\n",
       "      <td>0</td>\n",
       "      <td>CREATE TABLE dragon(\"name\" VARCHAR PRIMARY KEY, \"year\" INTEGER, cute INTEGER, CHECK((\"year\" &gt;= 2000)));</td>\n",
       "    </tr>\n",
       "    <tr>\n",
       "      <th>2</th>\n",
       "      <td>table</td>\n",
       "      <td>scene</td>\n",
       "      <td>scene</td>\n",
       "      <td>0</td>\n",
       "      <td>CREATE TABLE scene(id INTEGER PRIMARY KEY, biome VARCHAR NOT NULL, city VARCHAR NOT NULL, visitors INTEGER, created_at TIMESTAMP DEFAULT(current_date()), CHECK((visitors &gt;= 0)));</td>\n",
       "    </tr>\n",
       "  </tbody>\n",
       "</table>\n",
       "</div>"
      ],
      "text/plain": [
       "    type    name tbl_name  rootpage  \\\n",
       "0  table    dish     dish         0   \n",
       "1  table  dragon   dragon         0   \n",
       "2  table   scene    scene         0   \n",
       "\n",
       "                                                                                                                                                                                  sql  \n",
       "0                                                                                CREATE TABLE dish(\"name\" VARCHAR PRIMARY KEY, \"type\" VARCHAR, \"cost\" INTEGER, CHECK((\"cost\" >= 0)));  \n",
       "1                                                                             CREATE TABLE dragon(\"name\" VARCHAR PRIMARY KEY, \"year\" INTEGER, cute INTEGER, CHECK((\"year\" >= 2000)));  \n",
       "2  CREATE TABLE scene(id INTEGER PRIMARY KEY, biome VARCHAR NOT NULL, city VARCHAR NOT NULL, visitors INTEGER, created_at TIMESTAMP DEFAULT(current_date()), CHECK((visitors >= 0)));  "
      ]
     },
     "execution_count": 40,
     "metadata": {},
     "output_type": "execute_result"
    }
   ],
   "source": [
    "pd.options.display.max_colwidth = None\n",
    "pd.options.display.max_rows = None\n",
    "pd.read_sql(\"SELECT * FROM sqlite_schema\", \"duckdb:///data/example_duck.db\")"
   ]
  },
  {
   "cell_type": "markdown",
   "id": "5af2d8be-39ed-444b-aba1-f8c28a6278e3",
   "metadata": {},
   "source": [
    "Fortunately, SQLAlchemy has some generic tools that will be helpful regardless of what database platform you use."
   ]
  },
  {
   "cell_type": "code",
   "execution_count": 41,
   "id": "1d43214f-679e-4d47-b188-55509e81b9f4",
   "metadata": {},
   "outputs": [
    {
     "data": {
      "text/plain": [
       "['dish', 'dragon', 'scene']"
      ]
     },
     "execution_count": 41,
     "metadata": {},
     "output_type": "execute_result"
    }
   ],
   "source": [
    "from sqlalchemy import inspect\n",
    "inspector = inspect(engine)\n",
    "inspector.get_table_names()"
   ]
  },
  {
   "cell_type": "code",
   "execution_count": 42,
   "id": "2cdbec81-350f-4c09-add4-8ed4256e7796",
   "metadata": {},
   "outputs": [
    {
     "data": {
      "text/plain": [
       "[{'name': 'id',\n",
       "  'type': Integer(),\n",
       "  'nullable': False,\n",
       "  'default': None,\n",
       "  'autoincrement': False,\n",
       "  'comment': None},\n",
       " {'name': 'biome',\n",
       "  'type': String(),\n",
       "  'nullable': False,\n",
       "  'default': None,\n",
       "  'autoincrement': False,\n",
       "  'comment': None},\n",
       " {'name': 'city',\n",
       "  'type': String(),\n",
       "  'nullable': False,\n",
       "  'default': None,\n",
       "  'autoincrement': False,\n",
       "  'comment': None},\n",
       " {'name': 'visitors',\n",
       "  'type': Integer(),\n",
       "  'nullable': True,\n",
       "  'default': None,\n",
       "  'autoincrement': False,\n",
       "  'comment': None},\n",
       " {'name': 'created_at',\n",
       "  'type': TIMESTAMP(),\n",
       "  'nullable': True,\n",
       "  'default': 'current_date()',\n",
       "  'autoincrement': False,\n",
       "  'comment': None}]"
      ]
     },
     "execution_count": 42,
     "metadata": {},
     "output_type": "execute_result"
    }
   ],
   "source": [
    "inspector.get_columns('scene')"
   ]
  },
  {
   "cell_type": "markdown",
   "id": "cf0c19c9-7188-49da-b678-75945fbf79b9",
   "metadata": {},
   "source": [
    "Same with SQLite."
   ]
  },
  {
   "cell_type": "code",
   "execution_count": 44,
   "id": "bb6d2cb4-e4fa-4890-aab1-7d44c2fc7c95",
   "metadata": {},
   "outputs": [
    {
     "data": {
      "text/plain": [
       "[{'name': 'id',\n",
       "  'type': INTEGER(),\n",
       "  'nullable': True,\n",
       "  'default': None,\n",
       "  'primary_key': 1},\n",
       " {'name': 'biome',\n",
       "  'type': TEXT(),\n",
       "  'nullable': False,\n",
       "  'default': None,\n",
       "  'primary_key': 0},\n",
       " {'name': 'city',\n",
       "  'type': TEXT(),\n",
       "  'nullable': False,\n",
       "  'default': None,\n",
       "  'primary_key': 0},\n",
       " {'name': 'visitors',\n",
       "  'type': INTEGER(),\n",
       "  'nullable': True,\n",
       "  'default': None,\n",
       "  'primary_key': 0},\n",
       " {'name': 'created_at',\n",
       "  'type': DATETIME(),\n",
       "  'nullable': True,\n",
       "  'default': \"DATETIME('now')\",\n",
       "  'primary_key': 0}]"
      ]
     },
     "execution_count": 44,
     "metadata": {},
     "output_type": "execute_result"
    }
   ],
   "source": [
    "sqlite_engine = sqlalchemy.create_engine(\"sqlite:///data/basic_examples.db\")\n",
    "inspect(sqlite_engine).get_columns(\"scene\")"
   ]
  },
  {
   "cell_type": "markdown",
   "id": "4748aa37-a980-40fb-98ab-d001b6a3ed45",
   "metadata": {},
   "source": [
    "### Example of table creation with interesting constraints"
   ]
  },
  {
   "cell_type": "markdown",
   "id": "202c6a6f-69aa-4b14-b203-8e94ce2d8470",
   "metadata": {},
   "source": [
    "More advanced example of creating tables with primary and foreign key constraints:"
   ]
  },
  {
   "cell_type": "code",
   "execution_count": 45,
   "id": "601f6e5f-b625-4d71-b703-9877d99ca44e",
   "metadata": {},
   "outputs": [
    {
     "data": {
      "text/html": [
       "<span style=\"None\">Running query in &#x27;duckdb&#x27;</span>"
      ],
      "text/plain": [
       "Running query in 'duckdb'"
      ]
     },
     "metadata": {},
     "output_type": "display_data"
    },
    {
     "data": {
      "text/html": [
       "<table>\n",
       "    <thead>\n",
       "        <tr>\n",
       "            <th>Count</th>\n",
       "        </tr>\n",
       "    </thead>\n",
       "    <tbody>\n",
       "    </tbody>\n",
       "</table>"
      ],
      "text/plain": [
       "+-------+\n",
       "| Count |\n",
       "+-------+\n",
       "+-------+"
      ]
     },
     "execution_count": 45,
     "metadata": {},
     "output_type": "execute_result"
    }
   ],
   "source": [
    "%%sql\n",
    "\n",
    "DROP TABLE IF EXISTS grade;\n",
    "DROP TABLE IF EXISTS assignment;\n",
    "DROP TABLE IF EXISTS student;\n",
    "\n",
    "\n",
    "CREATE TABLE student (\n",
    "    student_id INTEGER PRIMARY KEY,\n",
    "    name VARCHAR,\n",
    "    email VARCHAR\n",
    ");\n",
    "\n",
    "CREATE TABLE assignment (\n",
    "    assignment_id INTEGER PRIMARY KEY,\n",
    "    description VARCHAR\n",
    ");\n",
    "\n",
    "CREATE TABLE grade (\n",
    "    student_id INTEGER,\n",
    "    assignment_id INTEGER,\n",
    "    score REAL CHECK (score > 0 AND score <= 100),\n",
    "    FOREIGN KEY (student_id) REFERENCES student(student_id),\n",
    "    FOREIGN KEY (assignment_id) REFERENCES assignment(assignment_id)\n",
    ");\n",
    "\n",
    "INSERT INTO student VALUES\n",
    "(123, 'JoeyG', 'jegonzal@berkeley.edu'),\n",
    "(456, 'NargesN', 'norouzi@berkeley.edu');\n",
    "\n",
    "INSERT INTO assignment VALUES\n",
    "(1, 'easy assignment'),\n",
    "(2, 'hard assignment');"
   ]
  },
  {
   "cell_type": "code",
   "execution_count": 48,
   "id": "5ecb5b9a-3a69-462e-839a-7378a7632473",
   "metadata": {},
   "outputs": [
    {
     "data": {
      "text/html": [
       "<span style=\"None\">Running query in &#x27;duckdb&#x27;</span>"
      ],
      "text/plain": [
       "Running query in 'duckdb'"
      ]
     },
     "metadata": {},
     "output_type": "display_data"
    },
    {
     "data": {
      "text/html": [
       "<table>\n",
       "    <thead>\n",
       "        <tr>\n",
       "            <th>Count</th>\n",
       "        </tr>\n",
       "    </thead>\n",
       "    <tbody>\n",
       "    </tbody>\n",
       "</table>"
      ],
      "text/plain": [
       "+-------+\n",
       "| Count |\n",
       "+-------+\n",
       "+-------+"
      ]
     },
     "execution_count": 48,
     "metadata": {},
     "output_type": "execute_result"
    }
   ],
   "source": [
    "%%sql \n",
    "INSERT INTO grade VALUES\n",
    "(123, 1, 80),\n",
    "(123, 2, 42),\n",
    "(456, 2, 100);"
   ]
  },
  {
   "cell_type": "code",
   "execution_count": 47,
   "id": "19ebe953-1167-40b4-9b5e-38dc069f8514",
   "metadata": {},
   "outputs": [
    {
     "data": {
      "text/html": [
       "<span style=\"None\">Running query in &#x27;duckdb&#x27;</span>"
      ],
      "text/plain": [
       "Running query in 'duckdb'"
      ]
     },
     "metadata": {},
     "output_type": "display_data"
    },
    {
     "data": {
      "text/html": [
       "<table>\n",
       "    <thead>\n",
       "        <tr>\n",
       "            <th>student_id</th>\n",
       "            <th>assignment_id</th>\n",
       "            <th>score</th>\n",
       "        </tr>\n",
       "    </thead>\n",
       "    <tbody>\n",
       "        <tr>\n",
       "            <td>123</td>\n",
       "            <td>1</td>\n",
       "            <td>80.0</td>\n",
       "        </tr>\n",
       "        <tr>\n",
       "            <td>123</td>\n",
       "            <td>2</td>\n",
       "            <td>42.0</td>\n",
       "        </tr>\n",
       "        <tr>\n",
       "            <td>456</td>\n",
       "            <td>2</td>\n",
       "            <td>100.0</td>\n",
       "        </tr>\n",
       "    </tbody>\n",
       "</table>"
      ],
      "text/plain": [
       "+------------+---------------+-------+\n",
       "| student_id | assignment_id | score |\n",
       "+------------+---------------+-------+\n",
       "|    123     |       1       |  80.0 |\n",
       "|    123     |       2       |  42.0 |\n",
       "|    456     |       2       | 100.0 |\n",
       "+------------+---------------+-------+"
      ]
     },
     "execution_count": 47,
     "metadata": {},
     "output_type": "execute_result"
    }
   ],
   "source": [
    "%sql SELECT * FROM grade;"
   ]
  },
  {
   "cell_type": "markdown",
   "id": "74946c12-47af-42a2-9de5-b20b41eb0160",
   "metadata": {},
   "source": [
    "<br/>\n",
    "\n",
    "---\n",
    "\n",
    "## Basic Queries\n",
    "\n",
    "### SELECT and FROM\n",
    "\n",
    "Every SQL query *must* contain a `SELECT` and `FROM` clause.\n",
    "\n",
    "* `SELECT`: Specifies the column(s) to return in the output.\n",
    "* `FROM`: Specifies the database table from which to extract data."
   ]
  },
  {
   "cell_type": "code",
   "execution_count": 49,
   "id": "8b10641e",
   "metadata": {},
   "outputs": [
    {
     "data": {
      "text/html": [
       "<span style=\"None\">Running query in &#x27;duckdb&#x27;</span>"
      ],
      "text/plain": [
       "Running query in 'duckdb'"
      ]
     },
     "metadata": {},
     "output_type": "display_data"
    },
    {
     "data": {
      "text/html": [
       "<table>\n",
       "    <thead>\n",
       "        <tr>\n",
       "            <th>name</th>\n",
       "            <th>year</th>\n",
       "            <th>cute</th>\n",
       "        </tr>\n",
       "    </thead>\n",
       "    <tbody>\n",
       "        <tr>\n",
       "            <td>hiccup</td>\n",
       "            <td>2010</td>\n",
       "            <td>10</td>\n",
       "        </tr>\n",
       "        <tr>\n",
       "            <td>drogon</td>\n",
       "            <td>2011</td>\n",
       "            <td>-100</td>\n",
       "        </tr>\n",
       "        <tr>\n",
       "            <td>dragon 2</td>\n",
       "            <td>2019</td>\n",
       "            <td>0</td>\n",
       "        </tr>\n",
       "        <tr>\n",
       "            <td>puff</td>\n",
       "            <td>2010</td>\n",
       "            <td>100</td>\n",
       "        </tr>\n",
       "        <tr>\n",
       "            <td>smaug</td>\n",
       "            <td>2011</td>\n",
       "            <td>None</td>\n",
       "        </tr>\n",
       "    </tbody>\n",
       "</table>"
      ],
      "text/plain": [
       "+----------+------+------+\n",
       "|   name   | year | cute |\n",
       "+----------+------+------+\n",
       "|  hiccup  | 2010 |  10  |\n",
       "|  drogon  | 2011 | -100 |\n",
       "| dragon 2 | 2019 |  0   |\n",
       "|   puff   | 2010 | 100  |\n",
       "|  smaug   | 2011 | None |\n",
       "+----------+------+------+"
      ]
     },
     "execution_count": 49,
     "metadata": {},
     "output_type": "execute_result"
    }
   ],
   "source": [
    "%%sql\n",
    "SELECT * FROM Dragon;"
   ]
  },
  {
   "cell_type": "code",
   "execution_count": 50,
   "id": "0db25a51",
   "metadata": {},
   "outputs": [
    {
     "data": {
      "text/html": [
       "<span style=\"None\">Running query in &#x27;duckdb&#x27;</span>"
      ],
      "text/plain": [
       "Running query in 'duckdb'"
      ]
     },
     "metadata": {},
     "output_type": "display_data"
    },
    {
     "data": {
      "text/html": [
       "<table>\n",
       "    <thead>\n",
       "        <tr>\n",
       "            <th>cute</th>\n",
       "            <th>year</th>\n",
       "        </tr>\n",
       "    </thead>\n",
       "    <tbody>\n",
       "        <tr>\n",
       "            <td>10</td>\n",
       "            <td>2010</td>\n",
       "        </tr>\n",
       "        <tr>\n",
       "            <td>-100</td>\n",
       "            <td>2011</td>\n",
       "        </tr>\n",
       "        <tr>\n",
       "            <td>0</td>\n",
       "            <td>2019</td>\n",
       "        </tr>\n",
       "        <tr>\n",
       "            <td>100</td>\n",
       "            <td>2010</td>\n",
       "        </tr>\n",
       "        <tr>\n",
       "            <td>None</td>\n",
       "            <td>2011</td>\n",
       "        </tr>\n",
       "    </tbody>\n",
       "</table>"
      ],
      "text/plain": [
       "+------+------+\n",
       "| cute | year |\n",
       "+------+------+\n",
       "|  10  | 2010 |\n",
       "| -100 | 2011 |\n",
       "|  0   | 2019 |\n",
       "| 100  | 2010 |\n",
       "| None | 2011 |\n",
       "+------+------+"
      ]
     },
     "execution_count": 50,
     "metadata": {},
     "output_type": "execute_result"
    }
   ],
   "source": [
    "%%sql\n",
    "SELECT cute, year FROM Dragon;"
   ]
  },
  {
   "cell_type": "markdown",
   "id": "9995de9b-c827-48b6-84bc-3b169cc5f549",
   "metadata": {},
   "source": [
    "### Aliasing with `AS`"
   ]
  },
  {
   "cell_type": "code",
   "execution_count": 51,
   "id": "75596c85-eb17-4d19-b065-984524dec1d8",
   "metadata": {},
   "outputs": [
    {
     "data": {
      "text/html": [
       "<span style=\"None\">Running query in &#x27;duckdb&#x27;</span>"
      ],
      "text/plain": [
       "Running query in 'duckdb'"
      ]
     },
     "metadata": {},
     "output_type": "display_data"
    },
    {
     "data": {
      "text/html": [
       "<table>\n",
       "    <thead>\n",
       "        <tr>\n",
       "            <th>cuteness</th>\n",
       "            <th>birth year</th>\n",
       "        </tr>\n",
       "    </thead>\n",
       "    <tbody>\n",
       "        <tr>\n",
       "            <td>10</td>\n",
       "            <td>2010</td>\n",
       "        </tr>\n",
       "        <tr>\n",
       "            <td>-100</td>\n",
       "            <td>2011</td>\n",
       "        </tr>\n",
       "        <tr>\n",
       "            <td>0</td>\n",
       "            <td>2019</td>\n",
       "        </tr>\n",
       "        <tr>\n",
       "            <td>100</td>\n",
       "            <td>2010</td>\n",
       "        </tr>\n",
       "        <tr>\n",
       "            <td>None</td>\n",
       "            <td>2011</td>\n",
       "        </tr>\n",
       "    </tbody>\n",
       "</table>"
      ],
      "text/plain": [
       "+----------+------------+\n",
       "| cuteness | birth year |\n",
       "+----------+------------+\n",
       "|    10    |    2010    |\n",
       "|   -100   |    2011    |\n",
       "|    0     |    2019    |\n",
       "|   100    |    2010    |\n",
       "|   None   |    2011    |\n",
       "+----------+------------+"
      ]
     },
     "execution_count": 51,
     "metadata": {},
     "output_type": "execute_result"
    }
   ],
   "source": [
    "%%sql\n",
    "SELECT cute AS cuteness,\n",
    "       year AS \"birth year\"\n",
    "FROM Dragon;"
   ]
  },
  {
   "cell_type": "markdown",
   "id": "8aba7a6c-2e1b-496e-944b-a752023dbb8a",
   "metadata": {},
   "source": [
    "### Uniqueness with `DISTINCT`"
   ]
  },
  {
   "cell_type": "code",
   "execution_count": 52,
   "id": "734189f7-de89-42ca-84e3-306cb564f34e",
   "metadata": {},
   "outputs": [
    {
     "data": {
      "text/html": [
       "<span style=\"None\">Running query in &#x27;duckdb&#x27;</span>"
      ],
      "text/plain": [
       "Running query in 'duckdb'"
      ]
     },
     "metadata": {},
     "output_type": "display_data"
    },
    {
     "data": {
      "text/html": [
       "<table>\n",
       "    <thead>\n",
       "        <tr>\n",
       "            <th>year</th>\n",
       "        </tr>\n",
       "    </thead>\n",
       "    <tbody>\n",
       "        <tr>\n",
       "            <td>2010</td>\n",
       "        </tr>\n",
       "        <tr>\n",
       "            <td>2019</td>\n",
       "        </tr>\n",
       "        <tr>\n",
       "            <td>2011</td>\n",
       "        </tr>\n",
       "    </tbody>\n",
       "</table>"
      ],
      "text/plain": [
       "+------+\n",
       "| year |\n",
       "+------+\n",
       "| 2010 |\n",
       "| 2019 |\n",
       "| 2011 |\n",
       "+------+"
      ]
     },
     "execution_count": 52,
     "metadata": {},
     "output_type": "execute_result"
    }
   ],
   "source": [
    "%%sql\n",
    "SELECT DISTINCT year\n",
    "FROM Dragon;"
   ]
  },
  {
   "cell_type": "markdown",
   "id": "fca8c73c-ca03-4f65-9dfe-72e2368bd795",
   "metadata": {},
   "source": [
    "### Filtering with `WHERE`"
   ]
  },
  {
   "cell_type": "code",
   "execution_count": 54,
   "id": "2a28705b-7d0d-4252-b544-346194d2eea0",
   "metadata": {},
   "outputs": [
    {
     "data": {
      "text/html": [
       "<span style=\"None\">Running query in &#x27;duckdb&#x27;</span>"
      ],
      "text/plain": [
       "Running query in 'duckdb'"
      ]
     },
     "metadata": {},
     "output_type": "display_data"
    },
    {
     "data": {
      "text/html": [
       "<table>\n",
       "    <thead>\n",
       "        <tr>\n",
       "            <th>name</th>\n",
       "            <th>year</th>\n",
       "        </tr>\n",
       "    </thead>\n",
       "    <tbody>\n",
       "        <tr>\n",
       "            <td>drogon</td>\n",
       "            <td>2011</td>\n",
       "        </tr>\n",
       "        <tr>\n",
       "            <td>dragon 2</td>\n",
       "            <td>2019</td>\n",
       "        </tr>\n",
       "    </tbody>\n",
       "</table>"
      ],
      "text/plain": [
       "+----------+------+\n",
       "|   name   | year |\n",
       "+----------+------+\n",
       "|  drogon  | 2011 |\n",
       "| dragon 2 | 2019 |\n",
       "+----------+------+"
      ]
     },
     "execution_count": 54,
     "metadata": {},
     "output_type": "execute_result"
    }
   ],
   "source": [
    "%%sql\n",
    "SELECT name, year\n",
    "FROM Dragon\n",
    "WHERE cute <=0;"
   ]
  },
  {
   "cell_type": "code",
   "execution_count": 55,
   "id": "b8a3e2ce-9be3-41fa-8fcb-02b63095d269",
   "metadata": {},
   "outputs": [
    {
     "data": {
      "text/html": [
       "<span style=\"None\">Running query in &#x27;duckdb&#x27;</span>"
      ],
      "text/plain": [
       "Running query in 'duckdb'"
      ]
     },
     "metadata": {},
     "output_type": "display_data"
    },
    {
     "data": {
      "text/html": [
       "<table>\n",
       "    <thead>\n",
       "        <tr>\n",
       "            <th>name</th>\n",
       "            <th>cute</th>\n",
       "            <th>year</th>\n",
       "        </tr>\n",
       "    </thead>\n",
       "    <tbody>\n",
       "        <tr>\n",
       "            <td>hiccup</td>\n",
       "            <td>10</td>\n",
       "            <td>2010</td>\n",
       "        </tr>\n",
       "        <tr>\n",
       "            <td>puff</td>\n",
       "            <td>100</td>\n",
       "            <td>2010</td>\n",
       "        </tr>\n",
       "        <tr>\n",
       "            <td>dragon 2</td>\n",
       "            <td>0</td>\n",
       "            <td>2019</td>\n",
       "        </tr>\n",
       "    </tbody>\n",
       "</table>"
      ],
      "text/plain": [
       "+----------+------+------+\n",
       "|   name   | cute | year |\n",
       "+----------+------+------+\n",
       "|  hiccup  |  10  | 2010 |\n",
       "|   puff   | 100  | 2010 |\n",
       "| dragon 2 |  0   | 2019 |\n",
       "+----------+------+------+"
      ]
     },
     "execution_count": 55,
     "metadata": {},
     "output_type": "execute_result"
    }
   ],
   "source": [
    "%%sql\n",
    "SELECT name, cute, year\n",
    "FROM Dragon\n",
    "WHERE cute > 0 OR year > 2013;"
   ]
  },
  {
   "cell_type": "code",
   "execution_count": 56,
   "id": "9cbbfe9a-7098-48c4-b015-c81b6ff5acb8",
   "metadata": {},
   "outputs": [
    {
     "data": {
      "text/html": [
       "<span style=\"None\">Running query in &#x27;duckdb&#x27;</span>"
      ],
      "text/plain": [
       "Running query in 'duckdb'"
      ]
     },
     "metadata": {},
     "output_type": "display_data"
    },
    {
     "data": {
      "text/html": [
       "<table>\n",
       "    <thead>\n",
       "        <tr>\n",
       "            <th>name</th>\n",
       "            <th>year</th>\n",
       "        </tr>\n",
       "    </thead>\n",
       "    <tbody>\n",
       "        <tr>\n",
       "            <td>puff</td>\n",
       "            <td>2010</td>\n",
       "        </tr>\n",
       "        <tr>\n",
       "            <td>hiccup</td>\n",
       "            <td>2010</td>\n",
       "        </tr>\n",
       "    </tbody>\n",
       "</table>"
      ],
      "text/plain": [
       "+--------+------+\n",
       "|  name  | year |\n",
       "+--------+------+\n",
       "|  puff  | 2010 |\n",
       "| hiccup | 2010 |\n",
       "+--------+------+"
      ]
     },
     "execution_count": 56,
     "metadata": {},
     "output_type": "execute_result"
    }
   ],
   "source": [
    "%%sql\n",
    "SELECT name, year\n",
    "FROM Dragon \n",
    "WHERE name IN ('puff', 'hiccup');"
   ]
  },
  {
   "cell_type": "markdown",
   "id": "7219e750-6388-42a8-a47c-65d84e4370d2",
   "metadata": {},
   "source": [
    "#### Checking against NULL"
   ]
  },
  {
   "cell_type": "code",
   "execution_count": 59,
   "id": "03dac425-d2e2-4699-99b9-5ca9bbbc1ab0",
   "metadata": {},
   "outputs": [
    {
     "data": {
      "text/html": [
       "<span style=\"None\">Running query in &#x27;duckdb&#x27;</span>"
      ],
      "text/plain": [
       "Running query in 'duckdb'"
      ]
     },
     "metadata": {},
     "output_type": "display_data"
    },
    {
     "data": {
      "text/html": [
       "<table>\n",
       "    <thead>\n",
       "        <tr>\n",
       "            <th>name</th>\n",
       "            <th>cute</th>\n",
       "        </tr>\n",
       "    </thead>\n",
       "    <tbody>\n",
       "        <tr>\n",
       "            <td>hiccup</td>\n",
       "            <td>10</td>\n",
       "        </tr>\n",
       "        <tr>\n",
       "            <td>drogon</td>\n",
       "            <td>-100</td>\n",
       "        </tr>\n",
       "        <tr>\n",
       "            <td>dragon 2</td>\n",
       "            <td>0</td>\n",
       "        </tr>\n",
       "        <tr>\n",
       "            <td>puff</td>\n",
       "            <td>100</td>\n",
       "        </tr>\n",
       "    </tbody>\n",
       "</table>"
      ],
      "text/plain": [
       "+----------+------+\n",
       "|   name   | cute |\n",
       "+----------+------+\n",
       "|  hiccup  |  10  |\n",
       "|  drogon  | -100 |\n",
       "| dragon 2 |  0   |\n",
       "|   puff   | 100  |\n",
       "+----------+------+"
      ]
     },
     "execution_count": 59,
     "metadata": {},
     "output_type": "execute_result"
    }
   ],
   "source": [
    "%%sql\n",
    "SELECT name, cute\n",
    "FROM Dragon\n",
    "WHERE cute IS NOT NULL;"
   ]
  },
  {
   "cell_type": "markdown",
   "id": "fc92df7a-14b4-4379-9c68-b1326c2a6b7d",
   "metadata": {},
   "source": [
    "### Ordering data using `ORDER BY`"
   ]
  },
  {
   "cell_type": "code",
   "execution_count": 60,
   "id": "e92fcdcb-7b45-486c-a1f7-8d6c7e25413c",
   "metadata": {},
   "outputs": [
    {
     "data": {
      "text/html": [
       "<span style=\"None\">Running query in &#x27;duckdb&#x27;</span>"
      ],
      "text/plain": [
       "Running query in 'duckdb'"
      ]
     },
     "metadata": {},
     "output_type": "display_data"
    },
    {
     "data": {
      "text/html": [
       "<table>\n",
       "    <thead>\n",
       "        <tr>\n",
       "            <th>name</th>\n",
       "            <th>year</th>\n",
       "            <th>cute</th>\n",
       "        </tr>\n",
       "    </thead>\n",
       "    <tbody>\n",
       "        <tr>\n",
       "            <td>puff</td>\n",
       "            <td>2010</td>\n",
       "            <td>100</td>\n",
       "        </tr>\n",
       "        <tr>\n",
       "            <td>hiccup</td>\n",
       "            <td>2010</td>\n",
       "            <td>10</td>\n",
       "        </tr>\n",
       "        <tr>\n",
       "            <td>dragon 2</td>\n",
       "            <td>2019</td>\n",
       "            <td>0</td>\n",
       "        </tr>\n",
       "        <tr>\n",
       "            <td>drogon</td>\n",
       "            <td>2011</td>\n",
       "            <td>-100</td>\n",
       "        </tr>\n",
       "        <tr>\n",
       "            <td>smaug</td>\n",
       "            <td>2011</td>\n",
       "            <td>None</td>\n",
       "        </tr>\n",
       "    </tbody>\n",
       "</table>"
      ],
      "text/plain": [
       "+----------+------+------+\n",
       "|   name   | year | cute |\n",
       "+----------+------+------+\n",
       "|   puff   | 2010 | 100  |\n",
       "|  hiccup  | 2010 |  10  |\n",
       "| dragon 2 | 2019 |  0   |\n",
       "|  drogon  | 2011 | -100 |\n",
       "|  smaug   | 2011 | None |\n",
       "+----------+------+------+"
      ]
     },
     "execution_count": 60,
     "metadata": {},
     "output_type": "execute_result"
    }
   ],
   "source": [
    "%%sql\n",
    "SELECT *\n",
    "FROM Dragon\n",
    "ORDER BY cute DESC;"
   ]
  },
  {
   "cell_type": "markdown",
   "id": "7972bc77-a058-477e-a945-828888c48147",
   "metadata": {},
   "source": [
    "### Restricting output with `LIMIT` and `OFFSET`"
   ]
  },
  {
   "cell_type": "code",
   "execution_count": 63,
   "id": "4b21f1a9-2862-4c9a-8208-99c62addd49a",
   "metadata": {},
   "outputs": [
    {
     "data": {
      "text/html": [
       "<span style=\"None\">Running query in &#x27;duckdb&#x27;</span>"
      ],
      "text/plain": [
       "Running query in 'duckdb'"
      ]
     },
     "metadata": {},
     "output_type": "display_data"
    },
    {
     "data": {
      "text/html": [
       "<table>\n",
       "    <thead>\n",
       "        <tr>\n",
       "            <th>name</th>\n",
       "            <th>year</th>\n",
       "            <th>cute</th>\n",
       "        </tr>\n",
       "    </thead>\n",
       "    <tbody>\n",
       "        <tr>\n",
       "            <td>hiccup</td>\n",
       "            <td>2010</td>\n",
       "            <td>10</td>\n",
       "        </tr>\n",
       "        <tr>\n",
       "            <td>drogon</td>\n",
       "            <td>2011</td>\n",
       "            <td>-100</td>\n",
       "        </tr>\n",
       "        <tr>\n",
       "            <td>dragon 2</td>\n",
       "            <td>2019</td>\n",
       "            <td>0</td>\n",
       "        </tr>\n",
       "        <tr>\n",
       "            <td>puff</td>\n",
       "            <td>2010</td>\n",
       "            <td>100</td>\n",
       "        </tr>\n",
       "        <tr>\n",
       "            <td>smaug</td>\n",
       "            <td>2011</td>\n",
       "            <td>None</td>\n",
       "        </tr>\n",
       "    </tbody>\n",
       "</table>"
      ],
      "text/plain": [
       "+----------+------+------+\n",
       "|   name   | year | cute |\n",
       "+----------+------+------+\n",
       "|  hiccup  | 2010 |  10  |\n",
       "|  drogon  | 2011 | -100 |\n",
       "| dragon 2 | 2019 |  0   |\n",
       "|   puff   | 2010 | 100  |\n",
       "|  smaug   | 2011 | None |\n",
       "+----------+------+------+"
      ]
     },
     "execution_count": 63,
     "metadata": {},
     "output_type": "execute_result"
    }
   ],
   "source": [
    "%%sql\n",
    "SELECT *\n",
    "FROM Dragon;"
   ]
  },
  {
   "cell_type": "code",
   "execution_count": 64,
   "id": "afc34d86-ab22-4b0b-aad2-959247fe2494",
   "metadata": {},
   "outputs": [
    {
     "data": {
      "text/html": [
       "<span style=\"None\">Running query in &#x27;duckdb&#x27;</span>"
      ],
      "text/plain": [
       "Running query in 'duckdb'"
      ]
     },
     "metadata": {},
     "output_type": "display_data"
    },
    {
     "data": {
      "text/html": [
       "<table>\n",
       "    <thead>\n",
       "        <tr>\n",
       "            <th>name</th>\n",
       "            <th>year</th>\n",
       "            <th>cute</th>\n",
       "        </tr>\n",
       "    </thead>\n",
       "    <tbody>\n",
       "        <tr>\n",
       "            <td>hiccup</td>\n",
       "            <td>2010</td>\n",
       "            <td>10</td>\n",
       "        </tr>\n",
       "        <tr>\n",
       "            <td>drogon</td>\n",
       "            <td>2011</td>\n",
       "            <td>-100</td>\n",
       "        </tr>\n",
       "    </tbody>\n",
       "</table>"
      ],
      "text/plain": [
       "+--------+------+------+\n",
       "|  name  | year | cute |\n",
       "+--------+------+------+\n",
       "| hiccup | 2010 |  10  |\n",
       "| drogon | 2011 | -100 |\n",
       "+--------+------+------+"
      ]
     },
     "execution_count": 64,
     "metadata": {},
     "output_type": "execute_result"
    }
   ],
   "source": [
    "%%sql\n",
    "SELECT *\n",
    "FROM Dragon\n",
    "LIMIT 2;"
   ]
  },
  {
   "cell_type": "code",
   "execution_count": 65,
   "id": "80802839-9169-4768-b2b1-49368ded674b",
   "metadata": {},
   "outputs": [
    {
     "data": {
      "text/html": [
       "<span style=\"None\">Running query in &#x27;duckdb&#x27;</span>"
      ],
      "text/plain": [
       "Running query in 'duckdb'"
      ]
     },
     "metadata": {},
     "output_type": "display_data"
    },
    {
     "data": {
      "text/html": [
       "<table>\n",
       "    <thead>\n",
       "        <tr>\n",
       "            <th>name</th>\n",
       "            <th>year</th>\n",
       "            <th>cute</th>\n",
       "        </tr>\n",
       "    </thead>\n",
       "    <tbody>\n",
       "        <tr>\n",
       "            <td>dragon 2</td>\n",
       "            <td>2019</td>\n",
       "            <td>0</td>\n",
       "        </tr>\n",
       "        <tr>\n",
       "            <td>puff</td>\n",
       "            <td>2010</td>\n",
       "            <td>100</td>\n",
       "        </tr>\n",
       "    </tbody>\n",
       "</table>"
      ],
      "text/plain": [
       "+----------+------+------+\n",
       "|   name   | year | cute |\n",
       "+----------+------+------+\n",
       "| dragon 2 | 2019 |  0   |\n",
       "|   puff   | 2010 | 100  |\n",
       "+----------+------+------+"
      ]
     },
     "execution_count": 65,
     "metadata": {},
     "output_type": "execute_result"
    }
   ],
   "source": [
    "%%sql\n",
    "SELECT *\n",
    "FROM Dragon\n",
    "LIMIT 2\n",
    "OFFSET 2;"
   ]
  },
  {
   "cell_type": "markdown",
   "id": "f6f643cb-1aa4-45f0-907e-670cf676e92d",
   "metadata": {},
   "source": [
    "## Sampling"
   ]
  },
  {
   "cell_type": "markdown",
   "id": "249ad449-99d0-422a-8058-c92aa66ad284",
   "metadata": {},
   "source": [
    "What if we wanted a random sample:"
   ]
  },
  {
   "cell_type": "code",
   "execution_count": 71,
   "id": "1dab307f-2461-4e84-9605-8d9839e979c1",
   "metadata": {},
   "outputs": [
    {
     "data": {
      "text/html": [
       "<span style=\"None\">Running query in &#x27;duckdb&#x27;</span>"
      ],
      "text/plain": [
       "Running query in 'duckdb'"
      ]
     },
     "metadata": {},
     "output_type": "display_data"
    },
    {
     "data": {
      "text/html": [
       "<table>\n",
       "    <thead>\n",
       "        <tr>\n",
       "            <th>name</th>\n",
       "            <th>year</th>\n",
       "            <th>cute</th>\n",
       "        </tr>\n",
       "    </thead>\n",
       "    <tbody>\n",
       "        <tr>\n",
       "            <td>drogon</td>\n",
       "            <td>2011</td>\n",
       "            <td>-100</td>\n",
       "        </tr>\n",
       "        <tr>\n",
       "            <td>dragon 2</td>\n",
       "            <td>2019</td>\n",
       "            <td>0</td>\n",
       "        </tr>\n",
       "    </tbody>\n",
       "</table>"
      ],
      "text/plain": [
       "+----------+------+------+\n",
       "|   name   | year | cute |\n",
       "+----------+------+------+\n",
       "|  drogon  | 2011 | -100 |\n",
       "| dragon 2 | 2019 |  0   |\n",
       "+----------+------+------+"
      ]
     },
     "execution_count": 71,
     "metadata": {},
     "output_type": "execute_result"
    }
   ],
   "source": [
    "%%sql\n",
    "SELECT *\n",
    "FROM Dragon\n",
    "ORDER BY RANDOM() \n",
    "LIMIT 2"
   ]
  },
  {
   "cell_type": "code",
   "execution_count": 86,
   "id": "14357838-8321-4c51-b1b4-6d2b644e5dbf",
   "metadata": {},
   "outputs": [],
   "source": [
    "#reservoir: 指定使用 reservoir 抽样算法。Reservoir 抽样是一种随机抽样算法，适用于大数据集。\n",
    "#(2 ROWS): 指定要抽取的样本行数为 2。\n",
    "#REPEATABLE: 用于确保每次执行查询时，抽样的结果都是相同的。\n",
    "#(42): 指定一个种子值（seed）"
   ]
  },
  {
   "cell_type": "code",
   "execution_count": 87,
   "id": "a3bc8fc2-956c-4c7b-847d-db8778ae884a",
   "metadata": {},
   "outputs": [
    {
     "data": {
      "text/html": [
       "<span style=\"None\">Running query in &#x27;duckdb&#x27;</span>"
      ],
      "text/plain": [
       "Running query in 'duckdb'"
      ]
     },
     "metadata": {},
     "output_type": "display_data"
    },
    {
     "data": {
      "text/html": [
       "<table>\n",
       "    <thead>\n",
       "        <tr>\n",
       "            <th>name</th>\n",
       "            <th>year</th>\n",
       "            <th>cute</th>\n",
       "        </tr>\n",
       "    </thead>\n",
       "    <tbody>\n",
       "        <tr>\n",
       "            <td>hiccup</td>\n",
       "            <td>2010</td>\n",
       "            <td>10</td>\n",
       "        </tr>\n",
       "        <tr>\n",
       "            <td>smaug</td>\n",
       "            <td>2011</td>\n",
       "            <td>None</td>\n",
       "        </tr>\n",
       "    </tbody>\n",
       "</table>"
      ],
      "text/plain": [
       "+--------+------+------+\n",
       "|  name  | year | cute |\n",
       "+--------+------+------+\n",
       "| hiccup | 2010 |  10  |\n",
       "| smaug  | 2011 | None |\n",
       "+--------+------+------+"
      ]
     },
     "execution_count": 87,
     "metadata": {},
     "output_type": "execute_result"
    }
   ],
   "source": [
    "%%sql\n",
    "SELECT * \n",
    "FROM Dragon USING SAMPLE reservoir(2 ROWS) REPEATABLE (42) ;\n"
   ]
  },
  {
   "cell_type": "markdown",
   "id": "62f0b944-eead-44e7-8c3c-35a2326cbe01",
   "metadata": {},
   "source": [
    "## Grouping Data with `GROUP BY`"
   ]
  },
  {
   "cell_type": "code",
   "execution_count": 88,
   "id": "660cd78d-7639-4875-aa3e-7a840d0d37a4",
   "metadata": {},
   "outputs": [
    {
     "data": {
      "text/html": [
       "<span style=\"None\">Running query in &#x27;duckdb&#x27;</span>"
      ],
      "text/plain": [
       "Running query in 'duckdb'"
      ]
     },
     "metadata": {},
     "output_type": "display_data"
    },
    {
     "data": {
      "text/html": [
       "<table>\n",
       "    <thead>\n",
       "        <tr>\n",
       "            <th>name</th>\n",
       "            <th>type</th>\n",
       "            <th>cost</th>\n",
       "        </tr>\n",
       "    </thead>\n",
       "    <tbody>\n",
       "        <tr>\n",
       "            <td>ravioli</td>\n",
       "            <td>entree</td>\n",
       "            <td>10</td>\n",
       "        </tr>\n",
       "        <tr>\n",
       "            <td>ramen</td>\n",
       "            <td>entree</td>\n",
       "            <td>13</td>\n",
       "        </tr>\n",
       "        <tr>\n",
       "            <td>taco</td>\n",
       "            <td>entree</td>\n",
       "            <td>7</td>\n",
       "        </tr>\n",
       "        <tr>\n",
       "            <td>edamame</td>\n",
       "            <td>appetizer</td>\n",
       "            <td>4</td>\n",
       "        </tr>\n",
       "        <tr>\n",
       "            <td>fries</td>\n",
       "            <td>appetizer</td>\n",
       "            <td>4</td>\n",
       "        </tr>\n",
       "        <tr>\n",
       "            <td>potsticker</td>\n",
       "            <td>appetizer</td>\n",
       "            <td>4</td>\n",
       "        </tr>\n",
       "        <tr>\n",
       "            <td>ice cream</td>\n",
       "            <td>dessert</td>\n",
       "            <td>5</td>\n",
       "        </tr>\n",
       "    </tbody>\n",
       "</table>"
      ],
      "text/plain": [
       "+------------+-----------+------+\n",
       "|    name    |    type   | cost |\n",
       "+------------+-----------+------+\n",
       "|  ravioli   |   entree  |  10  |\n",
       "|   ramen    |   entree  |  13  |\n",
       "|    taco    |   entree  |  7   |\n",
       "|  edamame   | appetizer |  4   |\n",
       "|   fries    | appetizer |  4   |\n",
       "| potsticker | appetizer |  4   |\n",
       "| ice cream  |  dessert  |  5   |\n",
       "+------------+-----------+------+"
      ]
     },
     "execution_count": 88,
     "metadata": {},
     "output_type": "execute_result"
    }
   ],
   "source": [
    "%%sql\n",
    "SELECT *\n",
    "FROM Dish;"
   ]
  },
  {
   "cell_type": "markdown",
   "id": "bb8b961a-57d6-4488-aa2a-e14e82e30f35",
   "metadata": {},
   "source": [
    "A small note: the fact that `type` is highlighted in green below is a consequence of Jupyter assuming that we are writing Python code (where `type` is a built-in keyword). `type` does *not* have a special meaning in SQL, so the color below does not indicate any special functionality. When we run the cell, Jupyter realizes it should recognize the code as SQL. "
   ]
  },
  {
   "cell_type": "code",
   "execution_count": 89,
   "id": "b8fdab3a-0f93-4e39-b344-3a5068ae228b",
   "metadata": {},
   "outputs": [
    {
     "data": {
      "text/html": [
       "<span style=\"None\">Running query in &#x27;duckdb&#x27;</span>"
      ],
      "text/plain": [
       "Running query in 'duckdb'"
      ]
     },
     "metadata": {},
     "output_type": "display_data"
    },
    {
     "data": {
      "text/html": [
       "<table>\n",
       "    <thead>\n",
       "        <tr>\n",
       "            <th>type</th>\n",
       "        </tr>\n",
       "    </thead>\n",
       "    <tbody>\n",
       "        <tr>\n",
       "            <td>entree</td>\n",
       "        </tr>\n",
       "        <tr>\n",
       "            <td>entree</td>\n",
       "        </tr>\n",
       "        <tr>\n",
       "            <td>entree</td>\n",
       "        </tr>\n",
       "        <tr>\n",
       "            <td>appetizer</td>\n",
       "        </tr>\n",
       "        <tr>\n",
       "            <td>appetizer</td>\n",
       "        </tr>\n",
       "        <tr>\n",
       "            <td>appetizer</td>\n",
       "        </tr>\n",
       "        <tr>\n",
       "            <td>dessert</td>\n",
       "        </tr>\n",
       "    </tbody>\n",
       "</table>"
      ],
      "text/plain": [
       "+-----------+\n",
       "|    type   |\n",
       "+-----------+\n",
       "|   entree  |\n",
       "|   entree  |\n",
       "|   entree  |\n",
       "| appetizer |\n",
       "| appetizer |\n",
       "| appetizer |\n",
       "|  dessert  |\n",
       "+-----------+"
      ]
     },
     "execution_count": 89,
     "metadata": {},
     "output_type": "execute_result"
    }
   ],
   "source": [
    "%%sql\n",
    "SELECT type\n",
    "FROM Dish;"
   ]
  },
  {
   "cell_type": "code",
   "execution_count": 90,
   "id": "6369bcf3-c7ae-46e3-8b63-c6adfd6e9611",
   "metadata": {},
   "outputs": [
    {
     "data": {
      "text/html": [
       "<span style=\"None\">Running query in &#x27;duckdb&#x27;</span>"
      ],
      "text/plain": [
       "Running query in 'duckdb'"
      ]
     },
     "metadata": {},
     "output_type": "display_data"
    },
    {
     "data": {
      "text/html": [
       "<table>\n",
       "    <thead>\n",
       "        <tr>\n",
       "            <th>type</th>\n",
       "        </tr>\n",
       "    </thead>\n",
       "    <tbody>\n",
       "        <tr>\n",
       "            <td>appetizer</td>\n",
       "        </tr>\n",
       "        <tr>\n",
       "            <td>entree</td>\n",
       "        </tr>\n",
       "        <tr>\n",
       "            <td>dessert</td>\n",
       "        </tr>\n",
       "    </tbody>\n",
       "</table>"
      ],
      "text/plain": [
       "+-----------+\n",
       "|    type   |\n",
       "+-----------+\n",
       "| appetizer |\n",
       "|   entree  |\n",
       "|  dessert  |\n",
       "+-----------+"
      ]
     },
     "execution_count": 90,
     "metadata": {},
     "output_type": "execute_result"
    }
   ],
   "source": [
    "%%sql\n",
    "SELECT type\n",
    "FROM Dish\n",
    "GROUP BY type;"
   ]
  },
  {
   "cell_type": "code",
   "execution_count": 35,
   "id": "50792e27-c504-43a3-9e65-a1f2aa891828",
   "metadata": {},
   "outputs": [
    {
     "data": {
      "text/html": [
       "<span style=\"None\">Running query in &#x27;duckdb&#x27;</span>"
      ],
      "text/plain": [
       "Running query in 'duckdb'"
      ]
     },
     "metadata": {},
     "output_type": "display_data"
    },
    {
     "data": {
      "text/html": [
       "<table>\n",
       "    <thead>\n",
       "        <tr>\n",
       "            <th>type</th>\n",
       "            <th>sum(\"cost\")</th>\n",
       "        </tr>\n",
       "    </thead>\n",
       "    <tbody>\n",
       "        <tr>\n",
       "            <td>entree</td>\n",
       "            <td>30</td>\n",
       "        </tr>\n",
       "        <tr>\n",
       "            <td>dessert</td>\n",
       "            <td>5</td>\n",
       "        </tr>\n",
       "        <tr>\n",
       "            <td>appetizer</td>\n",
       "            <td>12</td>\n",
       "        </tr>\n",
       "    </tbody>\n",
       "</table>\n",
       "<span style='font-style:italic;font-size:11px'><code>ResultSet</code> : to convert to pandas, call <a href='https://jupysql.ploomber.io/en/latest/integrations/pandas.html'><code>.DataFrame()</code></a> or to polars, call <a href='https://jupysql.ploomber.io/en/latest/integrations/polars.html'><code>.PolarsDataFrame()</code></a></span><br>"
      ],
      "text/plain": [
       "+-----------+-------------+\n",
       "|    type   | sum(\"cost\") |\n",
       "+-----------+-------------+\n",
       "|   entree  |      30     |\n",
       "|  dessert  |      5      |\n",
       "| appetizer |      12     |\n",
       "+-----------+-------------+"
      ]
     },
     "execution_count": 35,
     "metadata": {},
     "output_type": "execute_result"
    }
   ],
   "source": [
    "%%sql\n",
    "SELECT type, SUM(cost)\n",
    "FROM Dish\n",
    "GROUP BY type;"
   ]
  },
  {
   "cell_type": "code",
   "execution_count": 93,
   "id": "cd7495a5-0008-49ba-abb7-4e9da953f5a6",
   "metadata": {},
   "outputs": [
    {
     "data": {
      "text/html": [
       "<span style=\"None\">Running query in &#x27;duckdb&#x27;</span>"
      ],
      "text/plain": [
       "Running query in 'duckdb'"
      ]
     },
     "metadata": {},
     "output_type": "display_data"
    },
    {
     "data": {
      "text/html": [
       "<table>\n",
       "    <thead>\n",
       "        <tr>\n",
       "            <th>type</th>\n",
       "            <th>sum(\"cost\")</th>\n",
       "            <th>min(\"cost\")</th>\n",
       "            <th>min(\"name\")</th>\n",
       "        </tr>\n",
       "    </thead>\n",
       "    <tbody>\n",
       "        <tr>\n",
       "            <td>entree</td>\n",
       "            <td>30</td>\n",
       "            <td>7</td>\n",
       "            <td>ramen</td>\n",
       "        </tr>\n",
       "        <tr>\n",
       "            <td>dessert</td>\n",
       "            <td>5</td>\n",
       "            <td>5</td>\n",
       "            <td>ice cream</td>\n",
       "        </tr>\n",
       "        <tr>\n",
       "            <td>appetizer</td>\n",
       "            <td>12</td>\n",
       "            <td>4</td>\n",
       "            <td>edamame</td>\n",
       "        </tr>\n",
       "    </tbody>\n",
       "</table>"
      ],
      "text/plain": [
       "+-----------+-------------+-------------+-------------+\n",
       "|    type   | sum(\"cost\") | min(\"cost\") | min(\"name\") |\n",
       "+-----------+-------------+-------------+-------------+\n",
       "|   entree  |      30     |      7      |    ramen    |\n",
       "|  dessert  |      5      |      5      |  ice cream  |\n",
       "| appetizer |      12     |      4      |   edamame   |\n",
       "+-----------+-------------+-------------+-------------+"
      ]
     },
     "execution_count": 93,
     "metadata": {},
     "output_type": "execute_result"
    }
   ],
   "source": [
    "%%sql\n",
    "SELECT type, \n",
    "       SUM(cost), \n",
    "       MIN(cost),\n",
    "       MIN(name)\n",
    "FROM Dish\n",
    "GROUP BY type;"
   ]
  },
  {
   "cell_type": "code",
   "execution_count": 94,
   "id": "342216ee-2ee0-477f-978c-f5e817ab9dd8",
   "metadata": {},
   "outputs": [
    {
     "data": {
      "text/html": [
       "<span style=\"None\">Running query in &#x27;duckdb&#x27;</span>"
      ],
      "text/plain": [
       "Running query in 'duckdb'"
      ]
     },
     "metadata": {},
     "output_type": "display_data"
    },
    {
     "data": {
      "text/html": [
       "<table>\n",
       "    <thead>\n",
       "        <tr>\n",
       "            <th>year</th>\n",
       "            <th>count(cute)</th>\n",
       "        </tr>\n",
       "    </thead>\n",
       "    <tbody>\n",
       "        <tr>\n",
       "            <td>2010</td>\n",
       "            <td>2</td>\n",
       "        </tr>\n",
       "        <tr>\n",
       "            <td>2011</td>\n",
       "            <td>1</td>\n",
       "        </tr>\n",
       "        <tr>\n",
       "            <td>2019</td>\n",
       "            <td>1</td>\n",
       "        </tr>\n",
       "    </tbody>\n",
       "</table>"
      ],
      "text/plain": [
       "+------+-------------+\n",
       "| year | count(cute) |\n",
       "+------+-------------+\n",
       "| 2010 |      2      |\n",
       "| 2011 |      1      |\n",
       "| 2019 |      1      |\n",
       "+------+-------------+"
      ]
     },
     "execution_count": 94,
     "metadata": {},
     "output_type": "execute_result"
    }
   ],
   "source": [
    "%%sql\n",
    "SELECT year, COUNT(cute)\n",
    "FROM Dragon\n",
    "GROUP BY year;"
   ]
  },
  {
   "cell_type": "code",
   "execution_count": 95,
   "id": "17fbbb43-1b95-4756-9446-ae8cfaa8e7ad",
   "metadata": {},
   "outputs": [
    {
     "data": {
      "text/html": [
       "<span style=\"None\">Running query in &#x27;duckdb&#x27;</span>"
      ],
      "text/plain": [
       "Running query in 'duckdb'"
      ]
     },
     "metadata": {},
     "output_type": "display_data"
    },
    {
     "data": {
      "text/html": [
       "<table>\n",
       "    <thead>\n",
       "        <tr>\n",
       "            <th>year</th>\n",
       "            <th>count_star()</th>\n",
       "        </tr>\n",
       "    </thead>\n",
       "    <tbody>\n",
       "        <tr>\n",
       "            <td>2010</td>\n",
       "            <td>2</td>\n",
       "        </tr>\n",
       "        <tr>\n",
       "            <td>2011</td>\n",
       "            <td>2</td>\n",
       "        </tr>\n",
       "        <tr>\n",
       "            <td>2019</td>\n",
       "            <td>1</td>\n",
       "        </tr>\n",
       "    </tbody>\n",
       "</table>"
      ],
      "text/plain": [
       "+------+--------------+\n",
       "| year | count_star() |\n",
       "+------+--------------+\n",
       "| 2010 |      2       |\n",
       "| 2011 |      2       |\n",
       "| 2019 |      1       |\n",
       "+------+--------------+"
      ]
     },
     "execution_count": 95,
     "metadata": {},
     "output_type": "execute_result"
    }
   ],
   "source": [
    "%%sql\n",
    "SELECT year, COUNT(*)\n",
    "FROM Dragon\n",
    "GROUP BY year;"
   ]
  },
  {
   "cell_type": "markdown",
   "id": "ce5ba9fe-3bba-4be6-8101-54ce57a7d041",
   "metadata": {},
   "source": [
    "## Working with the `sql` results as Python variables\n",
    "\n",
    "By default, executing a query with a magic command produces output but doesn't save it into any Python variable:"
   ]
  },
  {
   "cell_type": "code",
   "execution_count": 96,
   "id": "5af3fbfc-484c-4981-90a6-d793040c17a1",
   "metadata": {},
   "outputs": [
    {
     "data": {
      "text/html": [
       "<span style=\"None\">Running query in &#x27;duckdb&#x27;</span>"
      ],
      "text/plain": [
       "Running query in 'duckdb'"
      ]
     },
     "metadata": {},
     "output_type": "display_data"
    },
    {
     "data": {
      "text/html": [
       "<table>\n",
       "    <thead>\n",
       "        <tr>\n",
       "            <th>name</th>\n",
       "            <th>year</th>\n",
       "            <th>cute</th>\n",
       "        </tr>\n",
       "    </thead>\n",
       "    <tbody>\n",
       "        <tr>\n",
       "            <td>hiccup</td>\n",
       "            <td>2010</td>\n",
       "            <td>10</td>\n",
       "        </tr>\n",
       "        <tr>\n",
       "            <td>drogon</td>\n",
       "            <td>2011</td>\n",
       "            <td>-100</td>\n",
       "        </tr>\n",
       "        <tr>\n",
       "            <td>dragon 2</td>\n",
       "            <td>2019</td>\n",
       "            <td>0</td>\n",
       "        </tr>\n",
       "        <tr>\n",
       "            <td>puff</td>\n",
       "            <td>2010</td>\n",
       "            <td>100</td>\n",
       "        </tr>\n",
       "        <tr>\n",
       "            <td>smaug</td>\n",
       "            <td>2011</td>\n",
       "            <td>None</td>\n",
       "        </tr>\n",
       "    </tbody>\n",
       "</table>"
      ],
      "text/plain": [
       "+----------+------+------+\n",
       "|   name   | year | cute |\n",
       "+----------+------+------+\n",
       "|  hiccup  | 2010 |  10  |\n",
       "|  drogon  | 2011 | -100 |\n",
       "| dragon 2 | 2019 |  0   |\n",
       "|   puff   | 2010 | 100  |\n",
       "|  smaug   | 2011 | None |\n",
       "+----------+------+------+"
      ]
     },
     "execution_count": 96,
     "metadata": {},
     "output_type": "execute_result"
    }
   ],
   "source": [
    "%sql SELECT * FROM Dragon"
   ]
  },
  {
   "cell_type": "markdown",
   "id": "5861cf8d-828e-4dd8-a85f-caf4905ec95d",
   "metadata": {},
   "source": [
    "This can be inconvenient if you later want to do further processing of these data in Python."
   ]
  },
  {
   "cell_type": "markdown",
   "id": "72eadb81-d00f-4ae5-91e1-b401f7c00060",
   "metadata": {},
   "source": [
    "### Storing one-line `%sql` queries\n",
    "\n",
    "For simple one-line queries, you can use IPython's ability to store the result of a magic command like `%sql` as if it were any other Python statement and save the output to a variable:"
   ]
  },
  {
   "cell_type": "code",
   "execution_count": 97,
   "id": "ab49b102-b47b-4304-b131-169ddb5c8d9d",
   "metadata": {},
   "outputs": [
    {
     "data": {
      "text/html": [
       "<span style=\"None\">Running query in &#x27;duckdb&#x27;</span>"
      ],
      "text/plain": [
       "Running query in 'duckdb'"
      ]
     },
     "metadata": {},
     "output_type": "display_data"
    },
    {
     "data": {
      "text/html": [
       "<table>\n",
       "    <thead>\n",
       "        <tr>\n",
       "            <th>name</th>\n",
       "            <th>year</th>\n",
       "            <th>cute</th>\n",
       "        </tr>\n",
       "    </thead>\n",
       "    <tbody>\n",
       "        <tr>\n",
       "            <td>hiccup</td>\n",
       "            <td>2010</td>\n",
       "            <td>10</td>\n",
       "        </tr>\n",
       "        <tr>\n",
       "            <td>drogon</td>\n",
       "            <td>2011</td>\n",
       "            <td>-100</td>\n",
       "        </tr>\n",
       "        <tr>\n",
       "            <td>dragon 2</td>\n",
       "            <td>2019</td>\n",
       "            <td>0</td>\n",
       "        </tr>\n",
       "        <tr>\n",
       "            <td>puff</td>\n",
       "            <td>2010</td>\n",
       "            <td>100</td>\n",
       "        </tr>\n",
       "        <tr>\n",
       "            <td>smaug</td>\n",
       "            <td>2011</td>\n",
       "            <td>None</td>\n",
       "        </tr>\n",
       "    </tbody>\n",
       "</table>"
      ],
      "text/plain": [
       "+----------+------+------+\n",
       "|   name   | year | cute |\n",
       "+----------+------+------+\n",
       "|  hiccup  | 2010 |  10  |\n",
       "|  drogon  | 2011 | -100 |\n",
       "| dragon 2 | 2019 |  0   |\n",
       "|   puff   | 2010 | 100  |\n",
       "|  smaug   | 2011 | None |\n",
       "+----------+------+------+"
      ]
     },
     "execution_count": 97,
     "metadata": {},
     "output_type": "execute_result"
    }
   ],
   "source": [
    "dragon_table = %sql SELECT * FROM Dragon\n",
    "dragon_table"
   ]
  },
  {
   "cell_type": "markdown",
   "id": "01fadebc-7c50-494e-a364-48f5ab0afb82",
   "metadata": {},
   "source": [
    "As noted above, the result of the query is a Python variable of type `ResultSet`, more specifically:"
   ]
  },
  {
   "cell_type": "code",
   "execution_count": 98,
   "id": "bb205d1e-3456-458b-ba1d-04166dd355f7",
   "metadata": {},
   "outputs": [
    {
     "data": {
      "text/plain": [
       "sql.run.resultset.ResultSet"
      ]
     },
     "execution_count": 98,
     "metadata": {},
     "output_type": "execute_result"
    }
   ],
   "source": [
    "type(dragon_table)"
   ]
  },
  {
   "cell_type": "markdown",
   "id": "e3db136e-3c3f-48fd-a75a-012c5d9b9609",
   "metadata": {},
   "source": [
    "You need to manually convert it to a `pandas` DataFrame if you want to do pandas-things with its content:"
   ]
  },
  {
   "cell_type": "code",
   "execution_count": 99,
   "id": "3c35735a-e30e-47a2-acfe-5486550a52bf",
   "metadata": {},
   "outputs": [
    {
     "data": {
      "text/html": [
       "<div>\n",
       "<style scoped>\n",
       "    .dataframe tbody tr th:only-of-type {\n",
       "        vertical-align: middle;\n",
       "    }\n",
       "\n",
       "    .dataframe tbody tr th {\n",
       "        vertical-align: top;\n",
       "    }\n",
       "\n",
       "    .dataframe thead th {\n",
       "        text-align: right;\n",
       "    }\n",
       "</style>\n",
       "<table border=\"1\" class=\"dataframe\">\n",
       "  <thead>\n",
       "    <tr style=\"text-align: right;\">\n",
       "      <th></th>\n",
       "      <th>name</th>\n",
       "      <th>year</th>\n",
       "      <th>cute</th>\n",
       "    </tr>\n",
       "  </thead>\n",
       "  <tbody>\n",
       "    <tr>\n",
       "      <th>0</th>\n",
       "      <td>hiccup</td>\n",
       "      <td>2010</td>\n",
       "      <td>10.0</td>\n",
       "    </tr>\n",
       "    <tr>\n",
       "      <th>1</th>\n",
       "      <td>drogon</td>\n",
       "      <td>2011</td>\n",
       "      <td>-100.0</td>\n",
       "    </tr>\n",
       "    <tr>\n",
       "      <th>2</th>\n",
       "      <td>dragon 2</td>\n",
       "      <td>2019</td>\n",
       "      <td>0.0</td>\n",
       "    </tr>\n",
       "    <tr>\n",
       "      <th>3</th>\n",
       "      <td>puff</td>\n",
       "      <td>2010</td>\n",
       "      <td>100.0</td>\n",
       "    </tr>\n",
       "    <tr>\n",
       "      <th>4</th>\n",
       "      <td>smaug</td>\n",
       "      <td>2011</td>\n",
       "      <td>NaN</td>\n",
       "    </tr>\n",
       "  </tbody>\n",
       "</table>\n",
       "</div>"
      ],
      "text/plain": [
       "       name  year   cute\n",
       "0    hiccup  2010   10.0\n",
       "1    drogon  2011 -100.0\n",
       "2  dragon 2  2019    0.0\n",
       "3      puff  2010  100.0\n",
       "4     smaug  2011    NaN"
      ]
     },
     "execution_count": 99,
     "metadata": {},
     "output_type": "execute_result"
    }
   ],
   "source": [
    "dragon_df = dragon_table.DataFrame()\n",
    "dragon_df"
   ]
  },
  {
   "cell_type": "markdown",
   "id": "63e0c53b-4481-4727-b72d-2aa7f3b66184",
   "metadata": {},
   "source": [
    "You can configure `jupysql` to _automatically_ convert all outputs to Pandas DataFrames. This can be handy if you intend all your Python-side work to be done with Pandas, as it saves you from manually having to call `.DataFrame()` first on all outputs. On the other hand, you don't get access to the original SQL `ResultSet` object, which has a number of interesting properties and capabilities. You can learn more about those in the [jupysql documentation](https://jupysql.ploomber.io).\n",
    "\n",
    "For now, let's turn this on so you can see how this simplified \"pandas all the way\" workflow looks like:"
   ]
  },
  {
   "cell_type": "code",
   "execution_count": 13,
   "id": "997ad531-c5e0-4b60-96b7-4d8c0d78890c",
   "metadata": {},
   "outputs": [],
   "source": [
    "%config SqlMagic.autopandas = True"
   ]
  },
  {
   "cell_type": "code",
   "execution_count": 14,
   "id": "c4b32c92-97d1-4044-b8e3-7a0ccbded620",
   "metadata": {},
   "outputs": [
    {
     "data": {
      "text/html": [
       "<span style=\"None\">Running query in &#x27;duckdb&#x27;</span>"
      ],
      "text/plain": [
       "Running query in 'duckdb'"
      ]
     },
     "metadata": {},
     "output_type": "display_data"
    },
    {
     "data": {
      "text/html": [
       "<div>\n",
       "<style scoped>\n",
       "    .dataframe tbody tr th:only-of-type {\n",
       "        vertical-align: middle;\n",
       "    }\n",
       "\n",
       "    .dataframe tbody tr th {\n",
       "        vertical-align: top;\n",
       "    }\n",
       "\n",
       "    .dataframe thead th {\n",
       "        text-align: right;\n",
       "    }\n",
       "</style>\n",
       "<table border=\"1\" class=\"dataframe\">\n",
       "  <thead>\n",
       "    <tr style=\"text-align: right;\">\n",
       "      <th></th>\n",
       "      <th>name</th>\n",
       "      <th>year</th>\n",
       "      <th>cute</th>\n",
       "    </tr>\n",
       "  </thead>\n",
       "  <tbody>\n",
       "    <tr>\n",
       "      <th>0</th>\n",
       "      <td>hiccup</td>\n",
       "      <td>2010</td>\n",
       "      <td>10.0</td>\n",
       "    </tr>\n",
       "    <tr>\n",
       "      <th>1</th>\n",
       "      <td>drogon</td>\n",
       "      <td>2011</td>\n",
       "      <td>-100.0</td>\n",
       "    </tr>\n",
       "    <tr>\n",
       "      <th>2</th>\n",
       "      <td>dragon 2</td>\n",
       "      <td>2019</td>\n",
       "      <td>0.0</td>\n",
       "    </tr>\n",
       "    <tr>\n",
       "      <th>3</th>\n",
       "      <td>puff</td>\n",
       "      <td>2010</td>\n",
       "      <td>100.0</td>\n",
       "    </tr>\n",
       "    <tr>\n",
       "      <th>4</th>\n",
       "      <td>smaug</td>\n",
       "      <td>2011</td>\n",
       "      <td>NaN</td>\n",
       "    </tr>\n",
       "  </tbody>\n",
       "</table>\n",
       "</div>"
      ],
      "text/plain": [
       "       name  year   cute\n",
       "0    hiccup  2010   10.0\n",
       "1    drogon  2011 -100.0\n",
       "2  dragon 2  2019    0.0\n",
       "3      puff  2010  100.0\n",
       "4     smaug  2011    NaN"
      ]
     },
     "execution_count": 14,
     "metadata": {},
     "output_type": "execute_result"
    }
   ],
   "source": [
    "dragon_df = %sql SELECT * FROM Dragon\n",
    "dragon_df"
   ]
  },
  {
   "cell_type": "code",
   "execution_count": 102,
   "id": "18f834c2-8511-4c9a-8562-ddd6ed4a6ff4",
   "metadata": {},
   "outputs": [
    {
     "data": {
      "text/plain": [
       "pandas.core.frame.DataFrame"
      ]
     },
     "execution_count": 102,
     "metadata": {},
     "output_type": "execute_result"
    }
   ],
   "source": [
    "type(dragon_df)"
   ]
  },
  {
   "cell_type": "markdown",
   "id": "930ed96a-fdcd-492b-96b6-8cc596942fe7",
   "metadata": {},
   "source": [
    "### Storing multi-line `%%sql` queries"
   ]
  },
  {
   "cell_type": "markdown",
   "id": "3d2bd891-0ffe-43a7-913e-b6f2cea10c19",
   "metadata": {},
   "source": [
    "For a more complex query that won't fit in one line, such as for example:"
   ]
  },
  {
   "cell_type": "code",
   "execution_count": 46,
   "id": "7f5f9312-e60b-4b56-a31a-54494b185271",
   "metadata": {},
   "outputs": [
    {
     "data": {
      "text/html": [
       "<span style=\"None\">Running query in &#x27;duckdb&#x27;</span>"
      ],
      "text/plain": [
       "Running query in 'duckdb'"
      ]
     },
     "metadata": {},
     "output_type": "display_data"
    },
    {
     "data": {
      "text/html": [
       "<div>\n",
       "<style scoped>\n",
       "    .dataframe tbody tr th:only-of-type {\n",
       "        vertical-align: middle;\n",
       "    }\n",
       "\n",
       "    .dataframe tbody tr th {\n",
       "        vertical-align: top;\n",
       "    }\n",
       "\n",
       "    .dataframe thead th {\n",
       "        text-align: right;\n",
       "    }\n",
       "</style>\n",
       "<table border=\"1\" class=\"dataframe\">\n",
       "  <thead>\n",
       "    <tr style=\"text-align: right;\">\n",
       "      <th></th>\n",
       "      <th>year</th>\n",
       "      <th>count_star()</th>\n",
       "    </tr>\n",
       "  </thead>\n",
       "  <tbody>\n",
       "    <tr>\n",
       "      <th>0</th>\n",
       "      <td>2010</td>\n",
       "      <td>2</td>\n",
       "    </tr>\n",
       "    <tr>\n",
       "      <th>1</th>\n",
       "      <td>2011</td>\n",
       "      <td>2</td>\n",
       "    </tr>\n",
       "    <tr>\n",
       "      <th>2</th>\n",
       "      <td>2019</td>\n",
       "      <td>1</td>\n",
       "    </tr>\n",
       "  </tbody>\n",
       "</table>\n",
       "</div>"
      ],
      "text/plain": [
       "   year  count_star()\n",
       "0  2010             2\n",
       "1  2011             2\n",
       "2  2019             1"
      ]
     },
     "execution_count": 46,
     "metadata": {},
     "output_type": "execute_result"
    }
   ],
   "source": [
    "%%sql\n",
    "SELECT year, COUNT(*)\n",
    "FROM Dragon\n",
    "GROUP BY year;"
   ]
  },
  {
   "cell_type": "markdown",
   "id": "be733f9a-d903-46a7-96a3-ee427af6848f",
   "metadata": {},
   "source": [
    "You can use the `variable <<` syntax in `jupysql` to store its output (this will honor your `autopandas` state and store either a `sql.run.ResultState` or a Pandas `DataFrame`):"
   ]
  },
  {
   "cell_type": "code",
   "execution_count": 16,
   "id": "a063ab8d-5e97-4bee-b2a1-d1120bd5a947",
   "metadata": {},
   "outputs": [
    {
     "data": {
      "text/html": [
       "<span style=\"None\">Running query in &#x27;duckdb&#x27;</span>"
      ],
      "text/plain": [
       "Running query in 'duckdb'"
      ]
     },
     "metadata": {},
     "output_type": "display_data"
    }
   ],
   "source": [
    "%%sql dragon_years <<\n",
    "SELECT year, COUNT(*)\n",
    "FROM Dragon\n",
    "GROUP BY year;"
   ]
  },
  {
   "cell_type": "code",
   "execution_count": 17,
   "id": "983c5be0-f248-4da4-b934-79491a312ffe",
   "metadata": {},
   "outputs": [
    {
     "data": {
      "text/plain": [
       "pandas.core.frame.DataFrame"
      ]
     },
     "execution_count": 17,
     "metadata": {},
     "output_type": "execute_result"
    }
   ],
   "source": [
    "type(dragon_years)"
   ]
  },
  {
   "cell_type": "code",
   "execution_count": null,
   "id": "a2b336a9-f049-4927-81f8-4ef806afc3fe",
   "metadata": {},
   "outputs": [],
   "source": []
  }
 ],
 "metadata": {
  "kernelspec": {
   "display_name": "Python 3 (ipykernel)",
   "language": "python",
   "name": "python3"
  },
  "language_info": {
   "codemirror_mode": {
    "name": "ipython",
    "version": 3
   },
   "file_extension": ".py",
   "mimetype": "text/x-python",
   "name": "python",
   "nbconvert_exporter": "python",
   "pygments_lexer": "ipython3",
   "version": "3.12.7"
  },
  "vscode": {
   "interpreter": {
    "hash": "b0fa6594d8f4cbf19f97940f81e996739fb7646882a419484c72d19e05852a7e"
   }
  }
 },
 "nbformat": 4,
 "nbformat_minor": 5
}
