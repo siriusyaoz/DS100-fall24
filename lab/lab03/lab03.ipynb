{
 "cells": [
  {
   "cell_type": "code",
   "execution_count": 152,
   "metadata": {
    "deletable": false,
    "editable": false
   },
   "outputs": [],
   "source": [
    "# Initialize Otter\n",
    "import otter\n",
    "grader = otter.Notebook(\"lab03.ipynb\")"
   ]
  },
  {
   "cell_type": "markdown",
   "metadata": {
    "nbgrader": {
     "grade": false,
     "grade_id": "intro",
     "locked": true,
     "schema_version": 2,
     "solution": false
    },
    "tags": []
   },
   "source": [
    "### Content Warning\n",
    "This lab includes an analysis of crime in Berkeley. If you feel uncomfortable with this topic, **please contact your TA or the instructors, or reach out via the Fall 2024 Additional Accomodations form.**\n",
    "\n",
    "\n",
    "# Lab 03: Regex, EDA\n",
    "\n",
    "In this lab, you will be working on visualizing a dataset from the City of Berkeley containing data on calls to the Berkeley Police Department. Information about the dataset can be found [at this link](https://data.cityofberkeley.info/Public-Safety/Berkeley-PD-Calls-for-Service/k2nh-s5h5).\n",
    "\n",
    "\n",
    "To receive credit for a lab, answer all questions correctly and submit before the deadline.\n",
    "\n",
    "You must submit this assignment to Gradescope by the on-time deadline, **Tuesday, September 24th, 11:59 PM**. Please read the syllabus for the Slip Day policy. No late submissions beyond what is detailed in the Slip Day policy will be accepted. While course staff is happy to help you if you encounter difficulties with submission, we may not be able to respond to late-night requests for assistance (TAs need to sleep, after all!). **We strongly encourage you to plan to submit your work to Gradescope several hours before the stated deadline.** This way, you will have ample time to contact staff for submission support. \n",
    "### Lab Walkthrough\n",
    "In addition to the lab notebook, we have also released a prerecorded walkthrough video of the lab. This playlist includes a walkthrough for every question in the lab. We encourage you to reference this video as you work through the lab. Run the cell below to display the video.\n",
    "<br>\n",
    "\n",
    "**Note:** This video was recorded in Spring 2022. There may be slight inconsistencies between the version you are viewing and the version used in the recording, but the content is largely identical. The key difference is that we are using the most updated 2022 dataset for the Berkeley crime data, not the 2021 dataset."
   ]
  },
  {
   "cell_type": "code",
   "execution_count": 153,
   "metadata": {},
   "outputs": [
    {
     "data": {
      "image/jpeg": "[encoded data removed]",
      "text/html": [
       "\n",
       "        <iframe\n",
       "            width=\"400\"\n",
       "            height=\"300\"\n",
       "            src=\"https://www.youtube.com/embed/LcIXTx49o2A?list=PLQCcNQgUcDfrG1xueBsgwDy0x5vQmi5j0&listType=playlist\"\n",
       "            frameborder=\"0\"\n",
       "            allowfullscreen\n",
       "            \n",
       "        ></iframe>\n",
       "        "
      ],
      "text/plain": [
       "<IPython.lib.display.YouTubeVideo at 0x1fb2cf8d130>"
      ]
     },
     "execution_count": 153,
     "metadata": {},
     "output_type": "execute_result"
    }
   ],
   "source": [
    "from IPython.display import YouTubeVideo\n",
    "YouTubeVideo(\"LcIXTx49o2A\", list = 'PLQCcNQgUcDfrG1xueBsgwDy0x5vQmi5j0', listType = 'playlist')"
   ]
  },
  {
   "cell_type": "markdown",
   "metadata": {},
   "source": [
    "### Collaboration Policy\n",
    "\n",
    "Data science is a collaborative activity. While you may talk with others about this assignment, we ask that you **write your solutions individually**. If you discuss the assignment with others, please **include their names** in the cell below."
   ]
  },
  {
   "cell_type": "markdown",
   "metadata": {},
   "source": [
    "**Collaborators:** *list names here*"
   ]
  },
  {
   "cell_type": "markdown",
   "metadata": {},
   "source": [
    "---\n",
    "### Debugging Guide\n",
    "If you run into any technical issues, we highly recommend checking out the [Data 100 Debugging Guide](https://ds100.org/debugging-guide/). In this guide, you can find general questions about Jupyter notebooks / Datahub, Gradescope, and common pandas errors."
   ]
  },
  {
   "cell_type": "markdown",
   "metadata": {
    "nbgrader": {
     "grade": false,
     "grade_id": "setup",
     "locked": true,
     "schema_version": 2,
     "solution": false
    }
   },
   "source": [
    "---\n",
    "### Setup\n",
    "\n",
    "In this lab, we'll perform Exploratory Data Analysis and learn some preliminary tips for working with `matplotlib` (a Python plotting library). In the cell below, we configure a custom default figure size. Virtually every default aspect of `matplotlib` [can be customized](https://matplotlib.org/stable/users/explain/customizing.html). `matplotlib` will formally be taught in lectures 7 and 8."
   ]
  },
  {
   "cell_type": "code",
   "execution_count": 154,
   "metadata": {
    "nbgrader": {
     "grade": false,
     "grade_id": "imports",
     "locked": true,
     "schema_version": 2,
     "solution": false
    }
   },
   "outputs": [],
   "source": [
    "import pandas as pd\n",
    "import numpy as np\n",
    "import zipfile\n",
    "import matplotlib\n",
    "import matplotlib.pyplot as plt\n",
    "\n",
    "plt.rcParams['figure.figsize'] = (12, 9)"
   ]
  },
  {
   "cell_type": "markdown",
   "metadata": {
    "nbgrader": {
     "grade": false,
     "grade_id": "part1",
     "locked": true,
     "schema_version": 2,
     "solution": false
    }
   },
   "source": [
    "<br/>\n",
    "<hr style=\"border: 5px solid #003262;\" />\n",
    "<hr style=\"border: 1px solid #fdb515;\" />\n",
    "\n",
    "# Part 1: Acquire the Data\n",
    "\n",
    "Here, we start by acquiring the data that this lab is based on. **Please don't worry about understanding all the code in this section**; the steps shown here are out of scope and provided here for student interest!\n",
    "\n",
    "**1. Obtain data**<br/>\n",
    "To retrieve the dataset, we will use the `ds100_utils.download_lab3_data` utility, a helper function that Data 100 staff created. You can see how this is implemented by opening the file `ds100_utils.py` on the left."
   ]
  },
  {
   "cell_type": "code",
   "execution_count": 155,
   "metadata": {
    "collapsed": false,
    "jupyter": {
     "outputs_hidden": false
    }
   },
   "outputs": [
    {
     "name": "stdout",
     "output_type": "stream",
     "text": [
      "Using cached version that was downloaded (UTC): Tue Nov 12 16:27:02 2024\n",
      "Located at data\\lab03_data_sp24.zip\n"
     ]
    }
   ],
   "source": [
    "# Run this cell to download the data, no further action is needed.\n",
    "from ds100_utils import download_lab3_data\n",
    "\n",
    "dest_path = download_lab3_data()\n",
    "print(f'Located at {dest_path}')"
   ]
  },
  {
   "cell_type": "markdown",
   "metadata": {
    "nbgrader": {
     "grade": false,
     "grade_id": "unzip-data-1",
     "locked": true,
     "schema_version": 2,
     "solution": false
    }
   },
   "source": [
    "**2. Unzip file**<br/>\n",
    "We will now directly unzip the ZIP archive and start working with the uncompressed files."
   ]
  },
  {
   "cell_type": "code",
   "execution_count": 156,
   "metadata": {},
   "outputs": [],
   "source": [
    "# Run this cell to unzip the data, no further action is needed.\n",
    "my_zip = zipfile.ZipFile(dest_path, 'r')\n",
    "my_zip.extractall('data')"
   ]
  },
  {
   "cell_type": "markdown",
   "metadata": {},
   "source": [
    "There is no single right answer regarding whether to work with compressed files in their compressed state or to uncompress them on disk permanently. For example, if you need to work with multiple tools on the same files or write many notebooks to analyze them—and they are not too large—it may be more convenient to uncompress them once. But you may also have situations where you find it preferable to work with the compressed data directly.  \n",
    "\n",
    "`Python` gives you tools for both approaches, so it can be helpful to know how to perform both tasks in order to choose the one that best suits the problem at hand."
   ]
  },
  {
   "cell_type": "markdown",
   "metadata": {
    "nbgrader": {
     "grade": false,
     "grade_id": "q0",
     "locked": true,
     "schema_version": 2,
     "solution": false
    }
   },
   "source": [
    "**3. View files**\n",
    "\n",
    "Now, we'll use the `os` package to list all files in the `data` directory. `os.walk()` recursively traverses the directory, and `os.path.join()` creates the full pathname of each file.\n",
    "\n",
    "If you're interested in learning more, check out the `Python3` documentation pages for `os.walk` ([link](https://docs.python.org/3/library/os.html#os.walk)) and `os.path.join` ([link](https://docs.python.org/3/library/os.path.html#os.path.join)).\n",
    "\n",
    "We use `Python3` [format strings](https://docs.python.org/3/tutorial/inputoutput.html) to nicely format the printed variables `dpath` and `fpath`."
   ]
  },
  {
   "cell_type": "code",
   "execution_count": 157,
   "metadata": {
    "collapsed": false,
    "jupyter": {
     "outputs_hidden": false
    }
   },
   "outputs": [
    {
     "name": "stdout",
     "output_type": "stream",
     "text": [
      "direc data\\secret\n",
      "files data\\Berkeley_PD_-_Calls_for_Service_2022.csv\n",
      "files data\\dummy.txt\n",
      "files data\\hello_world.py\n",
      "files data\\lab03_data_sp24.zip\n",
      "files data\\secret\\do_not_readme.md\n"
     ]
    }
   ],
   "source": [
    "# Run this cell to view the content in the zip file, no further action is needed.\n",
    "import os\n",
    "\n",
    "for root, directories, filenames in os.walk('data'):\n",
    "    # first, print out all directories\n",
    "    for directory in directories:\n",
    "        dpath = os.path.join(root, directory)\n",
    "        print(f\"direc {dpath}\")\n",
    "        \n",
    "    # next, print out all files\n",
    "    for filename in filenames:  \n",
    "        fpath = os.path.join(root,filename)\n",
    "        print(f\"files {fpath}\")"
   ]
  },
  {
   "cell_type": "markdown",
   "metadata": {
    "nbgrader": {
     "grade": false,
     "grade_id": "explore-0",
     "locked": true,
     "schema_version": 2,
     "solution": false
    }
   },
   "source": [
    "In this Lab, we'll be working with the `Berkeley_PD_-_Calls_for_Service_2022.csv` file. Feel free to check out the other files, though."
   ]
  },
  {
   "cell_type": "markdown",
   "metadata": {},
   "source": [
    "<br/>\n",
    "\n",
    "<hr style=\"border: 1px solid #fdb515;\" />\n",
    "\n",
    "# Part 2: Clean and Explore the Data\n",
    "\n",
    "Let's now load the CSV file we have into a `DataFrame`, and start exploring the data. We added a line at the top of the cell to suppress a couple of warnings related to how we use `pd.to_datetime` here, but you need not worry about that."
   ]
  },
  {
   "cell_type": "code",
   "execution_count": 158,
   "metadata": {},
   "outputs": [
    {
     "data": {
      "text/html": [
       "<div>\n",
       "<style scoped>\n",
       "    .dataframe tbody tr th:only-of-type {\n",
       "        vertical-align: middle;\n",
       "    }\n",
       "\n",
       "    .dataframe tbody tr th {\n",
       "        vertical-align: top;\n",
       "    }\n",
       "\n",
       "    .dataframe thead th {\n",
       "        text-align: right;\n",
       "    }\n",
       "</style>\n",
       "<table border=\"1\" class=\"dataframe\">\n",
       "  <thead>\n",
       "    <tr style=\"text-align: right;\">\n",
       "      <th></th>\n",
       "      <th>CASENO</th>\n",
       "      <th>OFFENSE</th>\n",
       "      <th>EVENTDT</th>\n",
       "      <th>EVENTTM</th>\n",
       "      <th>CVLEGEND</th>\n",
       "      <th>CVDOW</th>\n",
       "      <th>InDbDate</th>\n",
       "      <th>Block_Location</th>\n",
       "      <th>BLKADDR</th>\n",
       "      <th>City</th>\n",
       "      <th>State</th>\n",
       "      <th>Day</th>\n",
       "      <th>Hour</th>\n",
       "      <th>Lat_x</th>\n",
       "      <th>Lon_x</th>\n",
       "      <th>Lat_y</th>\n",
       "      <th>Lon_y</th>\n",
       "      <th>Lat</th>\n",
       "      <th>Lon</th>\n",
       "    </tr>\n",
       "  </thead>\n",
       "  <tbody>\n",
       "    <tr>\n",
       "      <th>0</th>\n",
       "      <td>22036516</td>\n",
       "      <td>THEFT FROM AUTO</td>\n",
       "      <td>08/10/2022 12:00:00 AM</td>\n",
       "      <td>06:10:00 AM</td>\n",
       "      <td>LARCENY - FROM VEHICLE</td>\n",
       "      <td>3</td>\n",
       "      <td>10/13/2022 04:42:00 PM</td>\n",
       "      <td>Berkeley, CA\\n(37.86988, -122.27054)</td>\n",
       "      <td>NaN</td>\n",
       "      <td>Berkeley</td>\n",
       "      <td>CA</td>\n",
       "      <td>Wednesday</td>\n",
       "      <td>6</td>\n",
       "      <td>37.86988</td>\n",
       "      <td>-122.27054</td>\n",
       "      <td>37.86988</td>\n",
       "      <td>-122.27054</td>\n",
       "      <td>37.86988</td>\n",
       "      <td>-122.27054</td>\n",
       "    </tr>\n",
       "    <tr>\n",
       "      <th>1</th>\n",
       "      <td>22027674</td>\n",
       "      <td>BURGLARY RESIDENTIAL</td>\n",
       "      <td>06/16/2022 12:00:00 AM</td>\n",
       "      <td>20:25:00 PM</td>\n",
       "      <td>BURGLARY - RESIDENTIAL</td>\n",
       "      <td>4</td>\n",
       "      <td>10/13/2022 04:42:00 PM</td>\n",
       "      <td>1700 BLOCK OXFORD ST\\nBerkeley, CA\\n(37.87674,...</td>\n",
       "      <td>1700 BLOCK OXFORD ST</td>\n",
       "      <td>Berkeley</td>\n",
       "      <td>CA</td>\n",
       "      <td>Thursday</td>\n",
       "      <td>20</td>\n",
       "      <td>37.87674</td>\n",
       "      <td>-122.26665</td>\n",
       "      <td>37.87674</td>\n",
       "      <td>-122.26665</td>\n",
       "      <td>37.87674</td>\n",
       "      <td>-122.26665</td>\n",
       "    </tr>\n",
       "    <tr>\n",
       "      <th>2</th>\n",
       "      <td>22023993</td>\n",
       "      <td>VANDALISM</td>\n",
       "      <td>05/25/2022 12:00:00 AM</td>\n",
       "      <td>08:00:00 AM</td>\n",
       "      <td>VANDALISM</td>\n",
       "      <td>3</td>\n",
       "      <td>10/13/2022 04:42:00 PM</td>\n",
       "      <td>2400 BLOCK 8TH ST\\nBerkeley, CA\\n(37.86206, -1...</td>\n",
       "      <td>2400 BLOCK 8TH ST</td>\n",
       "      <td>Berkeley</td>\n",
       "      <td>CA</td>\n",
       "      <td>Wednesday</td>\n",
       "      <td>8</td>\n",
       "      <td>37.86206</td>\n",
       "      <td>-122.29346</td>\n",
       "      <td>37.86206</td>\n",
       "      <td>-122.29346</td>\n",
       "      <td>37.86206</td>\n",
       "      <td>-122.29346</td>\n",
       "    </tr>\n",
       "    <tr>\n",
       "      <th>3</th>\n",
       "      <td>22026547</td>\n",
       "      <td>DISTURBANCE</td>\n",
       "      <td>06/10/2022 12:00:00 AM</td>\n",
       "      <td>21:35:00 PM</td>\n",
       "      <td>DISORDERLY CONDUCT</td>\n",
       "      <td>5</td>\n",
       "      <td>10/13/2022 04:42:00 PM</td>\n",
       "      <td>1300 BLOCK HEARST AVE\\nBerkeley, CA\\n(37.87133...</td>\n",
       "      <td>1300 BLOCK HEARST AVE</td>\n",
       "      <td>Berkeley</td>\n",
       "      <td>CA</td>\n",
       "      <td>Friday</td>\n",
       "      <td>21</td>\n",
       "      <td>37.87133</td>\n",
       "      <td>-122.28656</td>\n",
       "      <td>37.87133</td>\n",
       "      <td>-122.28656</td>\n",
       "      <td>37.87133</td>\n",
       "      <td>-122.28656</td>\n",
       "    </tr>\n",
       "    <tr>\n",
       "      <th>4</th>\n",
       "      <td>22018126</td>\n",
       "      <td>ASSAULT/BATTERY FEL.</td>\n",
       "      <td>04/20/2022 12:00:00 AM</td>\n",
       "      <td>15:31:00 PM</td>\n",
       "      <td>ASSAULT</td>\n",
       "      <td>3</td>\n",
       "      <td>10/13/2022 04:42:00 PM</td>\n",
       "      <td>3000 BLOCK SHATTUCK AVE\\nBerkeley, CA\\n(37.855...</td>\n",
       "      <td>3000 BLOCK SHATTUCK AVE</td>\n",
       "      <td>Berkeley</td>\n",
       "      <td>CA</td>\n",
       "      <td>Wednesday</td>\n",
       "      <td>15</td>\n",
       "      <td>37.85507</td>\n",
       "      <td>-122.26677</td>\n",
       "      <td>37.85507</td>\n",
       "      <td>-122.26677</td>\n",
       "      <td>37.85507</td>\n",
       "      <td>-122.26677</td>\n",
       "    </tr>\n",
       "  </tbody>\n",
       "</table>\n",
       "</div>"
      ],
      "text/plain": [
       "     CASENO               OFFENSE                 EVENTDT      EVENTTM  \\\n",
       "0  22036516       THEFT FROM AUTO  08/10/2022 12:00:00 AM  06:10:00 AM   \n",
       "1  22027674  BURGLARY RESIDENTIAL  06/16/2022 12:00:00 AM  20:25:00 PM   \n",
       "2  22023993             VANDALISM  05/25/2022 12:00:00 AM  08:00:00 AM   \n",
       "3  22026547           DISTURBANCE  06/10/2022 12:00:00 AM  21:35:00 PM   \n",
       "4  22018126  ASSAULT/BATTERY FEL.  04/20/2022 12:00:00 AM  15:31:00 PM   \n",
       "\n",
       "                 CVLEGEND  CVDOW                InDbDate  \\\n",
       "0  LARCENY - FROM VEHICLE      3  10/13/2022 04:42:00 PM   \n",
       "1  BURGLARY - RESIDENTIAL      4  10/13/2022 04:42:00 PM   \n",
       "2               VANDALISM      3  10/13/2022 04:42:00 PM   \n",
       "3      DISORDERLY CONDUCT      5  10/13/2022 04:42:00 PM   \n",
       "4                 ASSAULT      3  10/13/2022 04:42:00 PM   \n",
       "\n",
       "                                      Block_Location                  BLKADDR  \\\n",
       "0               Berkeley, CA\\n(37.86988, -122.27054)                      NaN   \n",
       "1  1700 BLOCK OXFORD ST\\nBerkeley, CA\\n(37.87674,...     1700 BLOCK OXFORD ST   \n",
       "2  2400 BLOCK 8TH ST\\nBerkeley, CA\\n(37.86206, -1...        2400 BLOCK 8TH ST   \n",
       "3  1300 BLOCK HEARST AVE\\nBerkeley, CA\\n(37.87133...    1300 BLOCK HEARST AVE   \n",
       "4  3000 BLOCK SHATTUCK AVE\\nBerkeley, CA\\n(37.855...  3000 BLOCK SHATTUCK AVE   \n",
       "\n",
       "       City State        Day  Hour     Lat_x       Lon_x     Lat_y  \\\n",
       "0  Berkeley    CA  Wednesday     6  37.86988  -122.27054  37.86988   \n",
       "1  Berkeley    CA   Thursday    20  37.87674  -122.26665  37.87674   \n",
       "2  Berkeley    CA  Wednesday     8  37.86206  -122.29346  37.86206   \n",
       "3  Berkeley    CA     Friday    21  37.87133  -122.28656  37.87133   \n",
       "4  Berkeley    CA  Wednesday    15  37.85507  -122.26677  37.85507   \n",
       "\n",
       "        Lon_y       Lat         Lon  \n",
       "0  -122.27054  37.86988  -122.27054  \n",
       "1  -122.26665  37.87674  -122.26665  \n",
       "2  -122.29346  37.86206  -122.29346  \n",
       "3  -122.28656  37.87133  -122.28656  \n",
       "4  -122.26677  37.85507  -122.26677  "
      ]
     },
     "execution_count": 158,
     "metadata": {},
     "output_type": "execute_result"
    }
   ],
   "source": [
    "calls.head()"
   ]
  },
  {
   "cell_type": "code",
   "execution_count": 159,
   "metadata": {
    "collapsed": false,
    "jupyter": {
     "outputs_hidden": false
    }
   },
   "outputs": [],
   "source": [
    "%%capture --no-stdout\n",
    "\n",
    "# Run this cell to read the data into a DataFrame and do some initial formatting, no further action is needed.\n",
    "calls = pd.read_csv(\"data/Berkeley_PD_-_Calls_for_Service_2022.csv\")\n",
    "calls['EVENTTM'] = pd.to_datetime(calls['EVENTTM']).dt.strftime('%H:%M:%S %p')"
   ]
  },
  {
   "cell_type": "markdown",
   "metadata": {},
   "source": [
    "We see that the fields include a case number, the offense type, the date and time of the offense, the \"CVLEGEND\" which appears to be related to the offense type, a \"CVDOW\" which has no apparent meaning, the date the record was added to the database, and the location spread across four fields. We can read more about each field from the City of Berkeley's [open dataset webpage](https://data.cityofberkeley.info/Public-Safety/Berkeley-PD-Calls-for-Service/k2nh-s5h5).\n",
    "\n",
    "Let's also check some basic information about this `DataFrame` using the `pandas.DataFrame.info` ([documentation](https://pandas.pydata.org/pandas-docs/stable/reference/api/pandas.DataFrame.info.html)) and `pandas.DataFrame.describe` methods ([documentation](https://pandas.pydata.org/pandas-docs/stable/reference/api/pandas.DataFrame.describe.html))."
   ]
  },
  {
   "cell_type": "code",
   "execution_count": 160,
   "metadata": {
    "collapsed": false,
    "jupyter": {
     "outputs_hidden": false
    }
   },
   "outputs": [
    {
     "name": "stdout",
     "output_type": "stream",
     "text": [
      "<class 'pandas.core.frame.DataFrame'>\n",
      "RangeIndex: 4490 entries, 0 to 4489\n",
      "Data columns (total 11 columns):\n",
      " #   Column          Non-Null Count  Dtype \n",
      "---  ------          --------------  ----- \n",
      " 0   CASENO          4490 non-null   int64 \n",
      " 1   OFFENSE         4490 non-null   object\n",
      " 2   EVENTDT         4490 non-null   object\n",
      " 3   EVENTTM         4490 non-null   object\n",
      " 4   CVLEGEND        4490 non-null   object\n",
      " 5   CVDOW           4490 non-null   int64 \n",
      " 6   InDbDate        4490 non-null   object\n",
      " 7   Block_Location  4490 non-null   object\n",
      " 8   BLKADDR         4476 non-null   object\n",
      " 9   City            4490 non-null   object\n",
      " 10  State           4490 non-null   object\n",
      "dtypes: int64(2), object(9)\n",
      "memory usage: 386.0+ KB\n"
     ]
    }
   ],
   "source": [
    "# df.info() displays name and type of each column, and\n",
    "# number of non-null entries in each column\n",
    "calls.info()"
   ]
  },
  {
   "cell_type": "markdown",
   "metadata": {},
   "source": [
    "Note that the BLKADDR column only has 4476 non-null entries, while the other columns all have 4490 entries. This is because the `.info()` method only counts non-null entries."
   ]
  },
  {
   "cell_type": "code",
   "execution_count": 161,
   "metadata": {
    "collapsed": false,
    "jupyter": {
     "outputs_hidden": false
    }
   },
   "outputs": [
    {
     "data": {
      "text/html": [
       "<div>\n",
       "<style scoped>\n",
       "    .dataframe tbody tr th:only-of-type {\n",
       "        vertical-align: middle;\n",
       "    }\n",
       "\n",
       "    .dataframe tbody tr th {\n",
       "        vertical-align: top;\n",
       "    }\n",
       "\n",
       "    .dataframe thead th {\n",
       "        text-align: right;\n",
       "    }\n",
       "</style>\n",
       "<table border=\"1\" class=\"dataframe\">\n",
       "  <thead>\n",
       "    <tr style=\"text-align: right;\">\n",
       "      <th></th>\n",
       "      <th>CASENO</th>\n",
       "      <th>CVDOW</th>\n",
       "    </tr>\n",
       "  </thead>\n",
       "  <tbody>\n",
       "    <tr>\n",
       "      <th>count</th>\n",
       "      <td>4.490000e+03</td>\n",
       "      <td>4490.000000</td>\n",
       "    </tr>\n",
       "    <tr>\n",
       "      <th>mean</th>\n",
       "      <td>2.204229e+07</td>\n",
       "      <td>3.075724</td>\n",
       "    </tr>\n",
       "    <tr>\n",
       "      <th>std</th>\n",
       "      <td>2.222561e+04</td>\n",
       "      <td>1.976035</td>\n",
       "    </tr>\n",
       "    <tr>\n",
       "      <th>min</th>\n",
       "      <td>2.200110e+07</td>\n",
       "      <td>0.000000</td>\n",
       "    </tr>\n",
       "    <tr>\n",
       "      <th>25%</th>\n",
       "      <td>2.202749e+07</td>\n",
       "      <td>1.000000</td>\n",
       "    </tr>\n",
       "    <tr>\n",
       "      <th>50%</th>\n",
       "      <td>2.203642e+07</td>\n",
       "      <td>3.000000</td>\n",
       "    </tr>\n",
       "    <tr>\n",
       "      <th>75%</th>\n",
       "      <td>2.204490e+07</td>\n",
       "      <td>5.000000</td>\n",
       "    </tr>\n",
       "    <tr>\n",
       "      <th>max</th>\n",
       "      <td>2.209134e+07</td>\n",
       "      <td>6.000000</td>\n",
       "    </tr>\n",
       "  </tbody>\n",
       "</table>\n",
       "</div>"
      ],
      "text/plain": [
       "             CASENO        CVDOW\n",
       "count  4.490000e+03  4490.000000\n",
       "mean   2.204229e+07     3.075724\n",
       "std    2.222561e+04     1.976035\n",
       "min    2.200110e+07     0.000000\n",
       "25%    2.202749e+07     1.000000\n",
       "50%    2.203642e+07     3.000000\n",
       "75%    2.204490e+07     5.000000\n",
       "max    2.209134e+07     6.000000"
      ]
     },
     "execution_count": 161,
     "metadata": {},
     "output_type": "execute_result"
    }
   ],
   "source": [
    "calls.describe()"
   ]
  },
  {
   "cell_type": "markdown",
   "metadata": {
    "nbgrader": {
     "grade": false,
     "grade_id": "explore-4",
     "locked": true,
     "schema_version": 2,
     "solution": false
    }
   },
   "source": [
    "Notice that the functions above reveal type information for the columns, as well as some basic statistics about the numerical columns found in the `DataFrame`. However, we still need more information about what each column represents. Let's explore the data further in Question 1.\n",
    "\n",
    "Before we go over the fields to deduce their meanings, the cell below will verify that all the events happened in Berkeley by grouping on the `City` and `State` columns. You should see that all of our data falls into one group."
   ]
  },
  {
   "cell_type": "code",
   "execution_count": 162,
   "metadata": {
    "collapsed": false,
    "jupyter": {
     "outputs_hidden": false
    }
   },
   "outputs": [
    {
     "data": {
      "text/plain": [
       "City      State\n",
       "Berkeley  CA       4490\n",
       "dtype: int64"
      ]
     },
     "execution_count": 162,
     "metadata": {},
     "output_type": "execute_result"
    }
   ],
   "source": [
    "# .size() returns the number of rows in each DataFrameGroupBy object\n",
    "calls.groupby([\"City\", \"State\"]).size()"
   ]
  },
  {
   "cell_type": "markdown",
   "metadata": {
    "nbgrader": {
     "grade": false,
     "grade_id": "q1",
     "locked": true,
     "schema_version": 2,
     "solution": false
    }
   },
   "source": [
    "When we called `.head()` on the `DataFrame` `calls`, it seemed like `OFFENSE` and `CVLEGEND` both contained information about the type of event reported. What is the difference in meaning between the two columns? One way to probe this is to look at the `value_counts` for each `Series`."
   ]
  },
  {
   "cell_type": "code",
   "execution_count": 163,
   "metadata": {
    "collapsed": false,
    "jupyter": {
     "outputs_hidden": false
    }
   },
   "outputs": [
    {
     "data": {
      "text/plain": [
       "OFFENSE\n",
       "THEFT MISD. (UNDER $950)    660\n",
       "THEFT FELONY (OVER $950)    454\n",
       "BURGLARY AUTO               446\n",
       "DISTURBANCE                 437\n",
       "VEHICLE STOLEN              332\n",
       "THEFT FROM AUTO             294\n",
       "VANDALISM                   264\n",
       "ASSAULT/BATTERY MISD.       249\n",
       "BURGLARY RESIDENTIAL        244\n",
       "BURGLARY COMMERCIAL         174\n",
       "Name: count, dtype: int64"
      ]
     },
     "execution_count": 163,
     "metadata": {},
     "output_type": "execute_result"
    }
   ],
   "source": [
    "calls['OFFENSE'].value_counts().head(10)"
   ]
  },
  {
   "cell_type": "code",
   "execution_count": 164,
   "metadata": {
    "collapsed": false,
    "jupyter": {
     "outputs_hidden": false
    }
   },
   "outputs": [
    {
     "data": {
      "text/plain": [
       "CVLEGEND\n",
       "LARCENY                   1127\n",
       "BURGLARY - VEHICLE         446\n",
       "DISORDERLY CONDUCT         437\n",
       "ASSAULT                    344\n",
       "MOTOR VEHICLE THEFT        332\n",
       "LARCENY - FROM VEHICLE     294\n",
       "VANDALISM                  264\n",
       "BURGLARY - RESIDENTIAL     244\n",
       "FRAUD                      209\n",
       "BURGLARY - COMMERCIAL      174\n",
       "Name: count, dtype: int64"
      ]
     },
     "execution_count": 164,
     "metadata": {},
     "output_type": "execute_result"
    }
   ],
   "source": [
    "calls['CVLEGEND'].value_counts().head(10)"
   ]
  },
  {
   "cell_type": "markdown",
   "metadata": {
    "nbgrader": {
     "grade": false,
     "grade_id": "q1a",
     "locked": true,
     "schema_version": 2,
     "solution": false
    }
   },
   "source": [
    "It seems like `OFFENSE` is more specific than `CVLEGEND`, e.g., \"LARCENY\" vs. \"THEFT FELONY (OVER $950)\". If you're unfamiliar with the term, \"larceny\" is a legal term for theft of personal property.\n",
    "\n",
    "To get a sense of how many sub-categories there are for each `OFFENSE`, we will set `calls_by_cvlegend_and_offense` equal to a multi-indexed `Series` where the data is first indexed on the `CVLEGEND` and then on the `OFFENSE`, and the data is equal to the number of offenses in the database that match the respective `CVLEGEND` and `OFFENSE`. As you can see, `calls_by_cvlegend_and_offense[\"LARCENY\", \"THEFT FROM PERSON\"]` returns `13` which means there are 13 instances of larceny with offense of type \"THEFT FROM PERSON\" in the database."
   ]
  },
  {
   "cell_type": "code",
   "execution_count": 165,
   "metadata": {},
   "outputs": [
    {
     "data": {
      "text/plain": [
       "CVLEGEND                OFFENSE              \n",
       "ALL OTHER OFFENSES      MUNICIPAL CODE             1\n",
       "ARSON                   ARSON                     19\n",
       "ASSAULT                 ASSAULT/BATTERY FEL.      95\n",
       "                        ASSAULT/BATTERY MISD.    249\n",
       "BURGLARY - COMMERCIAL   BURGLARY COMMERCIAL      174\n",
       "BURGLARY - RESIDENTIAL  BURGLARY RESIDENTIAL     244\n",
       "BURGLARY - VEHICLE      BURGLARY AUTO            446\n",
       "DISORDERLY CONDUCT      DISTURBANCE              437\n",
       "DRUG VIOLATION          NARCOTICS                106\n",
       "FAMILY OFFENSE          DOMESTIC VIOLENCE         99\n",
       "dtype: int64"
      ]
     },
     "execution_count": 165,
     "metadata": {},
     "output_type": "execute_result"
    }
   ],
   "source": [
    "calls_by_cvlegend_and_offense = calls.groupby([\"CVLEGEND\", \"OFFENSE\"]).size()\n",
    "calls_by_cvlegend_and_offense[\"LARCENY\", \"THEFT FROM PERSON\"]\n",
    "calls_by_cvlegend_and_offense.head(10)"
   ]
  },
  {
   "cell_type": "markdown",
   "metadata": {
    "deletable": false,
    "editable": false
   },
   "source": [
    "<br>\n",
    "\n",
    "---\n",
    "\n",
    "## Question 1\n",
    "\n",
    "In the cell below, set `answer1` equal to a `list` of strings corresponding to the possible values for `OFFENSE` when `CVLEGEND` is \"LARCENY\". You can type the answer manually, or you can create an expression that automatically extracts the names.\n"
   ]
  },
  {
   "cell_type": "code",
   "execution_count": 166,
   "metadata": {
    "collapsed": false,
    "jupyter": {
     "outputs_hidden": false
    },
    "tags": []
   },
   "outputs": [],
   "source": [
    "answer1 = calls[(calls['CVLEGEND']=='LARCENY')]['OFFENSE'].unique().tolist()"
   ]
  },
  {
   "cell_type": "code",
   "execution_count": 167,
   "metadata": {
    "deletable": false,
    "editable": false
   },
   "outputs": [
    {
     "data": {
      "text/html": [
       "<p><strong><pre style='display: inline;'>q1</pre></strong> passed! 💯</p>"
      ],
      "text/plain": [
       "q1 results: All test cases passed!"
      ]
     },
     "execution_count": 167,
     "metadata": {},
     "output_type": "execute_result"
    }
   ],
   "source": [
    "grader.check(\"q1\")"
   ]
  },
  {
   "cell_type": "markdown",
   "metadata": {
    "nbgrader": {
     "grade": false,
     "grade_id": "setup",
     "locked": true,
     "schema_version": 2,
     "solution": false
    }
   },
   "source": [
    "<br/>\n",
    "\n",
    "<hr style=\"border: 1px solid #fdb515;\" />\n",
    "\n",
    "# Part 3: Visualize the Data\n"
   ]
  },
  {
   "cell_type": "markdown",
   "metadata": {
    "nbgrader": {
     "grade": false,
     "grade_id": "part2",
     "locked": true,
     "schema_version": 2,
     "solution": false
    }
   },
   "source": [
    "### `Matplotlib` demo\n",
    "\n",
    "You've seen some `matplotlib` in this class already (in homework 1), but now we will explain how to work with the object-oriented plotting API mentioned in this [matplotlib.pyplot tutorial](https://matplotlib.org/stable/tutorials/pyplot.html). In `matplotlib`, plotting occurs on a set of `Axes` that are associated with a `Figure`. An analogy is that on a blank canvas (`Figure`), you choose a location to plot (`Axes`) and then fill it in (plot).\n",
    "\n",
    "There are two approaches to labeling and manipulating figure contents, which we'll discuss below. Approach 1 is closest to the plotting paradigm of MATLAB, the namesake of `matplotlib`; Approach 2 is also common because many `matplotlib`-based packages (such as `seaborn`) explicitly return the current set of axes after plotting data. Both are essentially equivalent, and at the end of this class, you'll be comfortable with both. \n",
    "\n",
    "**Approach 1**: `matplotlib` will auto-plot onto the current set of `Axes` or (if none exists) create a new figure/set of default axes. You can plot data using methods from `plt`, which is shorthand for the `matplotlib.pyplot` package. Then subsequent `plt` calls all edit the same set of default-created axes.\n",
    "\n",
    "**Approach 2**:  \n",
    "After creating the initial plot, you can also use `plt.gca()` to explicitly get the current set of axes and then edit those specific axes using axes methods. Note the method naming is slightly different!"
   ]
  },
  {
   "cell_type": "markdown",
   "metadata": {},
   "source": [
    "`pandas` also offers basic functionality for plotting. For example, the `DataFrame` and `Series` classes both have a `plot` method, which uses `matplotlib` under the hood. For now, we'll focus on `matplotlib` itself so you get used to the syntax, but just know that convenient `pandas` plotting methods exist for your own future data science exploration.\n",
    "\n",
    "Below, we show both approaches by generating a horizontal bar plot to visually display the value counts for `CVLEGEND`. See the `barh` [documentation](https://matplotlib.org/stable/api/_as_gen/matplotlib.pyplot.barh.html?highlight=barh#matplotlib.pyplot.barh) for more details."
   ]
  },
  {
   "cell_type": "code",
   "execution_count": 168,
   "metadata": {},
   "outputs": [
    {
     "name": "stdout",
     "output_type": "stream",
     "text": [
      "Demo 2: Using axes methods to update plot\n"
     ]
    },
    {
     "data": {
      "image/png": "[encoded data removed]",
      "text/plain": [
       "<Figure size 1200x900 with 1 Axes>"
      ]
     },
     "metadata": {},
     "output_type": "display_data"
    }
   ],
   "source": [
    "# DEMO CELL: assign demo to 1 or 2.\n",
    "demo = 2\n",
    "\n",
    "calls_cvlegend = calls['CVLEGEND'].value_counts()\n",
    "\n",
    "if demo == 1:\n",
    "    plt.barh(calls_cvlegend.index, calls_cvlegend) # Creates figure and axes\n",
    "    print(f\"Demo {demo}: Using plt methods to update plot\")\n",
    "    plt.ylabel(\"Crime Category\")               # Uses most recently plotted axes\n",
    "    plt.xlabel(\"Number of Calls\")\n",
    "    plt.title(\"Number of Calls by Crime Type\")\n",
    "elif demo == 2:\n",
    "    print(f\"Demo {demo}: Using axes methods to update plot\")\n",
    "    plt.barh(calls_cvlegend.index, calls_cvlegend) # Creates figure and axes\n",
    "    ax = plt.gca()\n",
    "    ax.set_ylabel(\"Crime Category\")\n",
    "    ax.set_xlabel(\"Number of Calls\")\n",
    "    ax.set_title(\"Axes methods: Number of Calls by Crime Type\")\n",
    "else:\n",
    "    print(\"Error: Please assign the demo variable to 1 or 2.\")\n",
    "\n",
    "plt.show()"
   ]
  },
  {
   "cell_type": "markdown",
   "metadata": {
    "nbgrader": {
     "grade": false,
     "grade_id": "plot-demo6",
     "locked": true,
     "schema_version": 2,
     "solution": false
    }
   },
   "source": [
    "\n",
    "### An Additional Note on Plotting in Jupyter Notebooks\n",
    "\n",
    "You may have noticed that some of our plotting code cells end with a semicolon `;` or `plt.show()`. The former prevents any extra output from the last line of the cell; the latter explicitly returns (and outputs) the figure. Try adding this to your own code in the following questions!"
   ]
  },
  {
   "cell_type": "markdown",
   "metadata": {
    "deletable": false,
    "editable": false
   },
   "source": [
    "<br>\n",
    "\n",
    "---\n",
    "\n",
    "## Question 2\n",
    "\n",
    "Now it is your turn to make a plot using `matplotlib`. Let's start by transforming the data so that it is easier to work with.\n",
    "\n",
    "The `CVDOW` field isn't named helpfully, and it is hard to see the meaning from the data alone. According to the website [linked](https://data.cityofberkeley.info/Public-Safety/Berkeley-PD-Calls-for-Service/k2nh-s5h5) at the top of this notebook, `CVDOW` is actually indicating the day that events happened. 0->Sunday, 1->Monday ... 6->Saturday. \n",
    "\n",
    "### Question 2a\n",
    "\n",
    "Add a new column `Day` to `calls` that has the string weekday (e.g., \"Sunday\") for the corresponding value in CVDOW. For example, if the first 3 values of `CVDOW` are `[3, 6, 0]`, then the first 3 values of the `Day` column should be `[\"Wednesday\", \"Saturday\", \"Sunday\"]`.\n",
    "\n",
    "**Hint:** Try using the [Series.map](https://pandas.pydata.org/pandas-docs/stable/reference/api/pandas.Series.map.html) function on `calls[\"CVDOW\"]`. Can you assign this to the new column `calls[\"Day\"]`?"
   ]
  },
  {
   "cell_type": "code",
   "execution_count": 169,
   "metadata": {
    "nbgrader": {
     "grade": false,
     "grade_id": "q3a-answer",
     "locked": false,
     "schema_version": 2,
     "solution": true
    },
    "tags": []
   },
   "outputs": [
    {
     "data": {
      "text/plain": [
       "0       Wednesday\n",
       "1        Thursday\n",
       "2       Wednesday\n",
       "3          Friday\n",
       "4       Wednesday\n",
       "          ...    \n",
       "4485       Monday\n",
       "4486       Sunday\n",
       "4487     Thursday\n",
       "4488    Wednesday\n",
       "4489      Tuesday\n",
       "Name: Day, Length: 4490, dtype: object"
      ]
     },
     "execution_count": 169,
     "metadata": {},
     "output_type": "execute_result"
    }
   ],
   "source": [
    "days = [\"Sunday\", \"Monday\", \"Tuesday\", \"Wednesday\", \"Thursday\", \"Friday\", \"Saturday\"]\n",
    "day_indices = range(7)\n",
    "indices_to_days_dict = dict(zip(day_indices, days)) # Should look like {0:\"Sunday\", 1:\"Monday\", ..., 6:\"Saturday\"}\n",
    "\n",
    "calls[\"Day\"] = calls['CVDOW'].map(indices_to_days_dict)\n",
    "calls[\"Day\"]"
   ]
  },
  {
   "cell_type": "code",
   "execution_count": 170,
   "metadata": {
    "deletable": false,
    "editable": false
   },
   "outputs": [
    {
     "data": {
      "text/html": [
       "<p><strong><pre style='display: inline;'>q2a</pre></strong> passed! 🙌</p>"
      ],
      "text/plain": [
       "q2a results: All test cases passed!"
      ]
     },
     "execution_count": 170,
     "metadata": {},
     "output_type": "execute_result"
    }
   ],
   "source": [
    "grader.check(\"q2a\")"
   ]
  },
  {
   "cell_type": "markdown",
   "metadata": {
    "deletable": false,
    "editable": false
   },
   "source": [
    "<br>\n",
    "\n",
    "---\n",
    "### Question 2b\n",
    "\n",
    "Now let's look at the `EVENTTM` column which indicates the time for events. Since it contains hour and minute information, let's extract the hour info and create a new column named `Hour` in the `calls` `DataFrame`. **You should save the hour as an `int`**. The format of the `'EVENTTM'` column and some of the associated reasoning about the answer in the lab walkthrough is slightly different. However, the answer shown in the walkthrough is still applicable to the question below. \n",
    "\n",
    "**Hint:** Your code should only require one line. <br/>"
   ]
  },
  {
   "cell_type": "code",
   "execution_count": 171,
   "metadata": {
    "tags": []
   },
   "outputs": [
    {
     "data": {
      "text/plain": [
       "0        6\n",
       "1       20\n",
       "2        8\n",
       "3       21\n",
       "4       15\n",
       "        ..\n",
       "4485    16\n",
       "4486     1\n",
       "4487     5\n",
       "4488    20\n",
       "4489    12\n",
       "Name: Hour, Length: 4490, dtype: int32"
      ]
     },
     "execution_count": 171,
     "metadata": {},
     "output_type": "execute_result"
    }
   ],
   "source": [
    "calls[\"Hour\"] = pd.to_datetime(calls['EVENTTM'], format='%H:%M:%S %p').dt.hour\n",
    "calls[\"Hour\"]"
   ]
  },
  {
   "cell_type": "code",
   "execution_count": 172,
   "metadata": {
    "deletable": false,
    "editable": false
   },
   "outputs": [
    {
     "data": {
      "text/html": [
       "<p><strong><pre style='display: inline;'>q2b</pre></strong> passed! 🍀</p>"
      ],
      "text/plain": [
       "q2b results: All test cases passed!"
      ]
     },
     "execution_count": 172,
     "metadata": {},
     "output_type": "execute_result"
    }
   ],
   "source": [
    "grader.check(\"q2b\")"
   ]
  },
  {
   "cell_type": "markdown",
   "metadata": {
    "deletable": false,
    "editable": false
   },
   "source": [
    "<br>\n",
    "\n",
    "---\n",
    "### Question 2c\n",
    "\n",
    "Using `matplotlib`, construct a line plot with the count of the number of calls (entries in the table) for each hour of the day  **ordered by the time** (e.g., `12:00 AM`, `1:00 AM`, ...). Be sure that your axes are labeled and that your plot is titled. The solution shown in the lab walkthrough is not the only way to answer this question, an alternative approach could involve using `.sort_index()`.\n",
    "\n",
    "**Hint 1**: Check out the `plt.plot` method in the `matplotlib` [tutorial](https://matplotlib.org/stable/tutorials/introductory/pyplot.html#intro-to-pyplot), as well as our demo above."
   ]
  },
  {
   "cell_type": "code",
   "execution_count": 173,
   "metadata": {
    "collapsed": false,
    "jupyter": {
     "outputs_hidden": false
    },
    "tags": []
   },
   "outputs": [
    {
     "data": {
      "image/png": "[encoded data removed]",
      "text/plain": [
       "<Figure size 1200x900 with 1 Axes>"
      ]
     },
     "metadata": {},
     "output_type": "display_data"
    }
   ],
   "source": [
    "...\n",
    "calls_hour=calls['Hour'].value_counts().sort_index()\n",
    "plt.plot(calls_hour.index, calls_hour) # Creates figure and axes\n",
    "plt.ylabel(\"time\")               # Uses most recently plotted axes\n",
    "plt.xlabel(\"counts\")\n",
    "\n",
    "# Leave this for grading purposes.\n",
    "ax_3d = plt.gca()"
   ]
  },
  {
   "cell_type": "code",
   "execution_count": 174,
   "metadata": {
    "deletable": false,
    "editable": false
   },
   "outputs": [
    {
     "data": {
      "text/html": [
       "<p><strong><pre style='display: inline;'>q2c</pre></strong> passed! 🎉</p>"
      ],
      "text/plain": [
       "q2c results: All test cases passed!"
      ]
     },
     "execution_count": 174,
     "metadata": {},
     "output_type": "execute_result"
    }
   ],
   "source": [
    "grader.check(\"q2c\")"
   ]
  },
  {
   "cell_type": "markdown",
   "metadata": {},
   "source": [
    "To better understand the time of day a report occurs, we could **stratify the analysis by the day of the week.** To do this we will use **violin plots** (a variation of a **box plot**).\n",
    "\n",
    "A violin plot shows an estimated distribution of quantitative data (e.g., distribution of calls by hour) over a categorical variable (day of the week). More calls occur in hours corresponding to the fatter part of each violin; the median hour of all calls in a particular day is marked by the white dot in the corresponding violin."
   ]
  },
  {
   "cell_type": "code",
   "execution_count": 175,
   "metadata": {},
   "outputs": [
    {
     "name": "stderr",
     "output_type": "stream",
     "text": [
      "C:\\Users\\siriusyz\\AppData\\Local\\Temp\\ipykernel_28608\\801389169.py:4: FutureWarning: \n",
      "\n",
      "Passing `palette` without assigning `hue` is deprecated and will be removed in v0.14.0. Assign the `x` variable to `hue` and set `legend=False` for the same effect.\n",
      "\n",
      "  ax = sns.violinplot(data=calls.sort_values(\"CVDOW\"),\n"
     ]
    },
    {
     "data": {
      "image/png": "[encoded data removed]",
      "text/plain": [
       "<Figure size 1200x900 with 1 Axes>"
      ]
     },
     "metadata": {},
     "output_type": "display_data"
    }
   ],
   "source": [
    "# Run this cell to to generate the plot, no further action is needed\n",
    "\n",
    "import seaborn as sns\n",
    "ax = sns.violinplot(data=calls.sort_values(\"CVDOW\"),\n",
    "                    x=\"Day\", y=\"Hour\",\n",
    "                    saturation=0.5, palette=\"Set2\")\n",
    "ax.set_title(\"Stratified Analysis of Phone Calls by Day\");"
   ]
  },
  {
   "cell_type": "markdown",
   "metadata": {
    "deletable": false,
    "editable": false
   },
   "source": [
    "<!-- BEGIN QUESTION -->\n",
    "\n",
    "<br>\n",
    "\n",
    "---\n",
    "### Question 2d\n",
    "\n",
    "Based on your line plot and our violin plot above, what observations can you make about the patterns of calls? Here are some dimensions to consider:\n",
    "* Are there more calls in the day or at night?\n",
    "* What are the most and least popular times?\n",
    "* Do call patterns vary by day of the week?\n"
   ]
  },
  {
   "cell_type": "markdown",
   "metadata": {},
   "source": [
    "_Type your answer here, replacing this text._"
   ]
  },
  {
   "cell_type": "markdown",
   "metadata": {
    "deletable": false,
    "editable": false
   },
   "source": [
    "<!-- END QUESTION -->\n",
    "\n",
    "<br/>\n",
    "\n",
    "<hr style=\"border: 1px solid #fdb515;\" />\n",
    "\n",
    "# Part 4: Data Faithfulness vs. Reality\n",
    "<br>\n",
    "\n",
    "## Question 3\n",
    "In this last part of the lab, let's extract the GPS coordinates (latitude, longitude) from the `Block_Location` of each record."
   ]
  },
  {
   "cell_type": "code",
   "execution_count": 176,
   "metadata": {},
   "outputs": [
    {
     "data": {
      "text/plain": [
       "'3000 BLOCK SHATTUCK AVE\\nBerkeley, CA\\n(37.85507, -122.26677)'"
      ]
     },
     "execution_count": 176,
     "metadata": {},
     "output_type": "execute_result"
    }
   ],
   "source": [
    "# An example block location entry.\n",
    "calls.loc[4, 'Block_Location']"
   ]
  },
  {
   "cell_type": "markdown",
   "metadata": {
    "deletable": false,
    "editable": false
   },
   "source": [
    "### Question 3a: Regular Expressions\n",
    "\n",
    "Use [regular expressions](https://ds100.org/course-notes/regex/regex.html) to create a new `DataFrame` `calls_lat_lon` that has two columns titled `Lat` and `Lon`, containing the respective latitude and longitude of each record in `calls`. You should use the `Block_Location` column to extract the latitude and longitude coordinates.\n",
    "\n",
    "**Hint**: Check out the `Series.str.extract` [documentation](https://pandas.pydata.org/pandas-docs/stable/reference/api/pandas.Series.str.extract.html?highlight=extract#pandas.Series.str.extract)."
   ]
  },
  {
   "cell_type": "code",
   "execution_count": 177,
   "metadata": {
    "tags": []
   },
   "outputs": [
    {
     "data": {
      "text/html": [
       "<div>\n",
       "<style scoped>\n",
       "    .dataframe tbody tr th:only-of-type {\n",
       "        vertical-align: middle;\n",
       "    }\n",
       "\n",
       "    .dataframe tbody tr th {\n",
       "        vertical-align: top;\n",
       "    }\n",
       "\n",
       "    .dataframe thead th {\n",
       "        text-align: right;\n",
       "    }\n",
       "</style>\n",
       "<table border=\"1\" class=\"dataframe\">\n",
       "  <thead>\n",
       "    <tr style=\"text-align: right;\">\n",
       "      <th></th>\n",
       "      <th>Lat</th>\n",
       "      <th>Lon</th>\n",
       "    </tr>\n",
       "  </thead>\n",
       "  <tbody>\n",
       "    <tr>\n",
       "      <th>0</th>\n",
       "      <td>37.86988</td>\n",
       "      <td>-122.27054</td>\n",
       "    </tr>\n",
       "    <tr>\n",
       "      <th>1</th>\n",
       "      <td>37.87674</td>\n",
       "      <td>-122.26665</td>\n",
       "    </tr>\n",
       "    <tr>\n",
       "      <th>2</th>\n",
       "      <td>37.86206</td>\n",
       "      <td>-122.29346</td>\n",
       "    </tr>\n",
       "    <tr>\n",
       "      <th>3</th>\n",
       "      <td>37.87133</td>\n",
       "      <td>-122.28656</td>\n",
       "    </tr>\n",
       "    <tr>\n",
       "      <th>4</th>\n",
       "      <td>37.85507</td>\n",
       "      <td>-122.26677</td>\n",
       "    </tr>\n",
       "    <tr>\n",
       "      <th>5</th>\n",
       "      <td>37.86397</td>\n",
       "      <td>-122.26036</td>\n",
       "    </tr>\n",
       "    <tr>\n",
       "      <th>6</th>\n",
       "      <td>37.87025</td>\n",
       "      <td>-122.29843</td>\n",
       "    </tr>\n",
       "    <tr>\n",
       "      <th>7</th>\n",
       "      <td>37.87637</td>\n",
       "      <td>-122.26229</td>\n",
       "    </tr>\n",
       "    <tr>\n",
       "      <th>8</th>\n",
       "      <td>37.86725</td>\n",
       "      <td>-122.26326</td>\n",
       "    </tr>\n",
       "    <tr>\n",
       "      <th>9</th>\n",
       "      <td>37.86746</td>\n",
       "      <td>-122.29285</td>\n",
       "    </tr>\n",
       "  </tbody>\n",
       "</table>\n",
       "</div>"
      ],
      "text/plain": [
       "        Lat         Lon\n",
       "0  37.86988  -122.27054\n",
       "1  37.87674  -122.26665\n",
       "2  37.86206  -122.29346\n",
       "3  37.87133  -122.28656\n",
       "4  37.85507  -122.26677\n",
       "5  37.86397  -122.26036\n",
       "6  37.87025  -122.29843\n",
       "7  37.87637  -122.26229\n",
       "8  37.86725  -122.26326\n",
       "9  37.86746  -122.29285"
      ]
     },
     "execution_count": 177,
     "metadata": {},
     "output_type": "execute_result"
    }
   ],
   "source": [
    "pattern=r\"\\((\\d+\\.\\d+),\\s(.\\d+\\.\\d+)\\)\"\n",
    "calls_lat_lon = calls['Block_Location'].str.extract(pattern).rename(columns={0:\"Lat\",1:'Lon'})\n",
    "\n",
    "\n",
    "calls_lat_lon.head(10)"
   ]
  },
  {
   "cell_type": "code",
   "execution_count": 178,
   "metadata": {
    "deletable": false,
    "editable": false
   },
   "outputs": [
    {
     "data": {
      "text/html": [
       "<p><strong><pre style='display: inline;'>q3a</pre></strong> passed! 🍀</p>"
      ],
      "text/plain": [
       "q3a results: All test cases passed!"
      ]
     },
     "execution_count": 178,
     "metadata": {},
     "output_type": "execute_result"
    }
   ],
   "source": [
    "grader.check(\"q3a\")"
   ]
  },
  {
   "cell_type": "markdown",
   "metadata": {
    "deletable": false,
    "editable": false
   },
   "source": [
    "<br>\n",
    "\n",
    "---\n",
    "\n",
    "### Question 3b: Join Tables\n",
    "\n",
    "Let's include the GPS data into our `calls` data. In the below cell, use `calls_lat_lon` to add two new columns called `Lat` and `Lon` to `calls`.\n",
    "\n",
    "**Hint 1**: Note that the order of records in `calls` and `calls_lat_lon` are the same. \n",
    "\n",
    "**Hint 2**: Another way to achieve our goal could be using `pd.merge`, look through the [documentation](https://pandas.pydata.org/docs/reference/api/pandas.DataFrame.merge.html) to see how we can merge using the `left_index` and `right_index` arguments."
   ]
  },
  {
   "cell_type": "code",
   "execution_count": 179,
   "metadata": {
    "scrolled": true,
    "tags": []
   },
   "outputs": [
    {
     "data": {
      "text/html": [
       "<div>\n",
       "<style scoped>\n",
       "    .dataframe tbody tr th:only-of-type {\n",
       "        vertical-align: middle;\n",
       "    }\n",
       "\n",
       "    .dataframe tbody tr th {\n",
       "        vertical-align: top;\n",
       "    }\n",
       "\n",
       "    .dataframe thead th {\n",
       "        text-align: right;\n",
       "    }\n",
       "</style>\n",
       "<table border=\"1\" class=\"dataframe\">\n",
       "  <thead>\n",
       "    <tr style=\"text-align: right;\">\n",
       "      <th></th>\n",
       "      <th>CASENO</th>\n",
       "      <th>OFFENSE</th>\n",
       "      <th>EVENTDT</th>\n",
       "      <th>EVENTTM</th>\n",
       "      <th>CVLEGEND</th>\n",
       "      <th>CVDOW</th>\n",
       "      <th>InDbDate</th>\n",
       "      <th>Block_Location</th>\n",
       "      <th>BLKADDR</th>\n",
       "      <th>City</th>\n",
       "      <th>State</th>\n",
       "      <th>Day</th>\n",
       "      <th>Hour</th>\n",
       "      <th>Lat</th>\n",
       "      <th>Lon</th>\n",
       "    </tr>\n",
       "  </thead>\n",
       "  <tbody>\n",
       "    <tr>\n",
       "      <th>2488</th>\n",
       "      <td>22090866</td>\n",
       "      <td>BURGLARY AUTO</td>\n",
       "      <td>07/22/2022 12:00:00 AM</td>\n",
       "      <td>22:30:00 PM</td>\n",
       "      <td>BURGLARY - VEHICLE</td>\n",
       "      <td>5</td>\n",
       "      <td>10/13/2022 04:42:00 PM</td>\n",
       "      <td>900 BLOCK PAGE ST\\nBerkeley, CA\\n(37.87669, -1...</td>\n",
       "      <td>900 BLOCK PAGE ST</td>\n",
       "      <td>Berkeley</td>\n",
       "      <td>CA</td>\n",
       "      <td>Friday</td>\n",
       "      <td>22</td>\n",
       "      <td>37.87669</td>\n",
       "      <td>-122.29916</td>\n",
       "    </tr>\n",
       "    <tr>\n",
       "      <th>2943</th>\n",
       "      <td>22024299</td>\n",
       "      <td>VANDALISM</td>\n",
       "      <td>05/24/2022 12:00:00 AM</td>\n",
       "      <td>12:00:00 PM</td>\n",
       "      <td>VANDALISM</td>\n",
       "      <td>2</td>\n",
       "      <td>10/13/2022 04:42:00 PM</td>\n",
       "      <td>1800 BLOCK 63RD ST\\nBerkeley, CA\\n(37.84793, -...</td>\n",
       "      <td>1800 BLOCK 63RD ST</td>\n",
       "      <td>Berkeley</td>\n",
       "      <td>CA</td>\n",
       "      <td>Tuesday</td>\n",
       "      <td>12</td>\n",
       "      <td>37.84793</td>\n",
       "      <td>-122.27063</td>\n",
       "    </tr>\n",
       "    <tr>\n",
       "      <th>2546</th>\n",
       "      <td>22040471</td>\n",
       "      <td>FRAUD/FORGERY</td>\n",
       "      <td>08/31/2022 12:00:00 AM</td>\n",
       "      <td>16:20:00 PM</td>\n",
       "      <td>FRAUD</td>\n",
       "      <td>3</td>\n",
       "      <td>10/13/2022 04:42:00 PM</td>\n",
       "      <td>900 BLOCK ARLINGTON AVE\\nBerkeley, CA\\n(37.891...</td>\n",
       "      <td>900 BLOCK ARLINGTON AVE</td>\n",
       "      <td>Berkeley</td>\n",
       "      <td>CA</td>\n",
       "      <td>Wednesday</td>\n",
       "      <td>16</td>\n",
       "      <td>37.89196</td>\n",
       "      <td>-122.27412</td>\n",
       "    </tr>\n",
       "    <tr>\n",
       "      <th>1337</th>\n",
       "      <td>22017843</td>\n",
       "      <td>THEFT MISD. (UNDER $950)</td>\n",
       "      <td>04/18/2022 12:00:00 AM</td>\n",
       "      <td>20:00:00 PM</td>\n",
       "      <td>LARCENY</td>\n",
       "      <td>1</td>\n",
       "      <td>10/13/2022 04:42:00 PM</td>\n",
       "      <td>1400 BLOCK SHATTUCK AVE\\nBerkeley, CA\\n(37.881...</td>\n",
       "      <td>1400 BLOCK SHATTUCK AVE</td>\n",
       "      <td>Berkeley</td>\n",
       "      <td>CA</td>\n",
       "      <td>Monday</td>\n",
       "      <td>20</td>\n",
       "      <td>37.8819</td>\n",
       "      <td>-122.26952</td>\n",
       "    </tr>\n",
       "    <tr>\n",
       "      <th>2975</th>\n",
       "      <td>22025789</td>\n",
       "      <td>VEHICLE STOLEN</td>\n",
       "      <td>06/04/2022 12:00:00 AM</td>\n",
       "      <td>20:00:00 PM</td>\n",
       "      <td>MOTOR VEHICLE THEFT</td>\n",
       "      <td>6</td>\n",
       "      <td>10/13/2022 04:42:00 PM</td>\n",
       "      <td>1000 BLOCK GRAYSON ST\\nBerkeley, CA\\n(37.85577...</td>\n",
       "      <td>1000 BLOCK GRAYSON ST</td>\n",
       "      <td>Berkeley</td>\n",
       "      <td>CA</td>\n",
       "      <td>Saturday</td>\n",
       "      <td>20</td>\n",
       "      <td>37.85577</td>\n",
       "      <td>-122.29008</td>\n",
       "    </tr>\n",
       "  </tbody>\n",
       "</table>\n",
       "</div>"
      ],
      "text/plain": [
       "        CASENO                   OFFENSE                 EVENTDT      EVENTTM  \\\n",
       "2488  22090866             BURGLARY AUTO  07/22/2022 12:00:00 AM  22:30:00 PM   \n",
       "2943  22024299                 VANDALISM  05/24/2022 12:00:00 AM  12:00:00 PM   \n",
       "2546  22040471             FRAUD/FORGERY  08/31/2022 12:00:00 AM  16:20:00 PM   \n",
       "1337  22017843  THEFT MISD. (UNDER $950)  04/18/2022 12:00:00 AM  20:00:00 PM   \n",
       "2975  22025789            VEHICLE STOLEN  06/04/2022 12:00:00 AM  20:00:00 PM   \n",
       "\n",
       "                 CVLEGEND  CVDOW                InDbDate  \\\n",
       "2488   BURGLARY - VEHICLE      5  10/13/2022 04:42:00 PM   \n",
       "2943            VANDALISM      2  10/13/2022 04:42:00 PM   \n",
       "2546                FRAUD      3  10/13/2022 04:42:00 PM   \n",
       "1337              LARCENY      1  10/13/2022 04:42:00 PM   \n",
       "2975  MOTOR VEHICLE THEFT      6  10/13/2022 04:42:00 PM   \n",
       "\n",
       "                                         Block_Location  \\\n",
       "2488  900 BLOCK PAGE ST\\nBerkeley, CA\\n(37.87669, -1...   \n",
       "2943  1800 BLOCK 63RD ST\\nBerkeley, CA\\n(37.84793, -...   \n",
       "2546  900 BLOCK ARLINGTON AVE\\nBerkeley, CA\\n(37.891...   \n",
       "1337  1400 BLOCK SHATTUCK AVE\\nBerkeley, CA\\n(37.881...   \n",
       "2975  1000 BLOCK GRAYSON ST\\nBerkeley, CA\\n(37.85577...   \n",
       "\n",
       "                      BLKADDR      City State        Day  Hour       Lat  \\\n",
       "2488        900 BLOCK PAGE ST  Berkeley    CA     Friday    22  37.87669   \n",
       "2943       1800 BLOCK 63RD ST  Berkeley    CA    Tuesday    12  37.84793   \n",
       "2546  900 BLOCK ARLINGTON AVE  Berkeley    CA  Wednesday    16  37.89196   \n",
       "1337  1400 BLOCK SHATTUCK AVE  Berkeley    CA     Monday    20   37.8819   \n",
       "2975    1000 BLOCK GRAYSON ST  Berkeley    CA   Saturday    20  37.85577   \n",
       "\n",
       "             Lon  \n",
       "2488  -122.29916  \n",
       "2943  -122.27063  \n",
       "2546  -122.27412  \n",
       "1337  -122.26952  \n",
       "2975  -122.29008  "
      ]
     },
     "execution_count": 179,
     "metadata": {},
     "output_type": "execute_result"
    }
   ],
   "source": [
    "calls=pd.merge(calls,calls_lat_lon,\n",
    "            left_index=True,right_index=True)\n",
    "\n",
    "calls.sample(5)      # random rows\n"
   ]
  },
  {
   "cell_type": "code",
   "execution_count": 180,
   "metadata": {
    "deletable": false,
    "editable": false
   },
   "outputs": [
    {
     "data": {
      "text/html": [
       "<p><strong><pre style='display: inline;'>q3b</pre></strong> passed! 🍀</p>"
      ],
      "text/plain": [
       "q3b results: All test cases passed!"
      ]
     },
     "execution_count": 180,
     "metadata": {},
     "output_type": "execute_result"
    }
   ],
   "source": [
    "grader.check(\"q3b\")"
   ]
  },
  {
   "cell_type": "markdown",
   "metadata": {},
   "source": [
    "<br>\n",
    "\n",
    "---\n",
    "### Question 3c: Check for Invalid Values\n",
    "\n",
    "It seems like every record has valid GPS coordinates. That is, there are no `NaN` values in either column as we can verify below"
   ]
  },
  {
   "cell_type": "code",
   "execution_count": 181,
   "metadata": {},
   "outputs": [
    {
     "data": {
      "text/plain": [
       "Lat    1.0\n",
       "Lon    1.0\n",
       "dtype: float64"
      ]
     },
     "execution_count": 181,
     "metadata": {},
     "output_type": "execute_result"
    }
   ],
   "source": [
    "# Run this cell to obtain fraction of valid lat/lon entries, no further action is needed.\n",
    "(~calls[[\"Lat\", \"Lon\"]].isna()).mean()"
   ]
  },
  {
   "cell_type": "markdown",
   "metadata": {},
   "source": [
    "However, a closer examination of the data reveals something else. Here's the first few records of `calls` again:"
   ]
  },
  {
   "cell_type": "code",
   "execution_count": 182,
   "metadata": {
    "scrolled": true
   },
   "outputs": [
    {
     "data": {
      "text/html": [
       "<div>\n",
       "<style scoped>\n",
       "    .dataframe tbody tr th:only-of-type {\n",
       "        vertical-align: middle;\n",
       "    }\n",
       "\n",
       "    .dataframe tbody tr th {\n",
       "        vertical-align: top;\n",
       "    }\n",
       "\n",
       "    .dataframe thead th {\n",
       "        text-align: right;\n",
       "    }\n",
       "</style>\n",
       "<table border=\"1\" class=\"dataframe\">\n",
       "  <thead>\n",
       "    <tr style=\"text-align: right;\">\n",
       "      <th></th>\n",
       "      <th>CASENO</th>\n",
       "      <th>OFFENSE</th>\n",
       "      <th>EVENTDT</th>\n",
       "      <th>EVENTTM</th>\n",
       "      <th>CVLEGEND</th>\n",
       "      <th>CVDOW</th>\n",
       "      <th>InDbDate</th>\n",
       "      <th>Block_Location</th>\n",
       "      <th>BLKADDR</th>\n",
       "      <th>City</th>\n",
       "      <th>State</th>\n",
       "      <th>Day</th>\n",
       "      <th>Hour</th>\n",
       "      <th>Lat</th>\n",
       "      <th>Lon</th>\n",
       "    </tr>\n",
       "  </thead>\n",
       "  <tbody>\n",
       "    <tr>\n",
       "      <th>0</th>\n",
       "      <td>22036516</td>\n",
       "      <td>THEFT FROM AUTO</td>\n",
       "      <td>08/10/2022 12:00:00 AM</td>\n",
       "      <td>06:10:00 AM</td>\n",
       "      <td>LARCENY - FROM VEHICLE</td>\n",
       "      <td>3</td>\n",
       "      <td>10/13/2022 04:42:00 PM</td>\n",
       "      <td>Berkeley, CA\\n(37.86988, -122.27054)</td>\n",
       "      <td>NaN</td>\n",
       "      <td>Berkeley</td>\n",
       "      <td>CA</td>\n",
       "      <td>Wednesday</td>\n",
       "      <td>6</td>\n",
       "      <td>37.86988</td>\n",
       "      <td>-122.27054</td>\n",
       "    </tr>\n",
       "    <tr>\n",
       "      <th>1</th>\n",
       "      <td>22027674</td>\n",
       "      <td>BURGLARY RESIDENTIAL</td>\n",
       "      <td>06/16/2022 12:00:00 AM</td>\n",
       "      <td>20:25:00 PM</td>\n",
       "      <td>BURGLARY - RESIDENTIAL</td>\n",
       "      <td>4</td>\n",
       "      <td>10/13/2022 04:42:00 PM</td>\n",
       "      <td>1700 BLOCK OXFORD ST\\nBerkeley, CA\\n(37.87674,...</td>\n",
       "      <td>1700 BLOCK OXFORD ST</td>\n",
       "      <td>Berkeley</td>\n",
       "      <td>CA</td>\n",
       "      <td>Thursday</td>\n",
       "      <td>20</td>\n",
       "      <td>37.87674</td>\n",
       "      <td>-122.26665</td>\n",
       "    </tr>\n",
       "    <tr>\n",
       "      <th>2</th>\n",
       "      <td>22023993</td>\n",
       "      <td>VANDALISM</td>\n",
       "      <td>05/25/2022 12:00:00 AM</td>\n",
       "      <td>08:00:00 AM</td>\n",
       "      <td>VANDALISM</td>\n",
       "      <td>3</td>\n",
       "      <td>10/13/2022 04:42:00 PM</td>\n",
       "      <td>2400 BLOCK 8TH ST\\nBerkeley, CA\\n(37.86206, -1...</td>\n",
       "      <td>2400 BLOCK 8TH ST</td>\n",
       "      <td>Berkeley</td>\n",
       "      <td>CA</td>\n",
       "      <td>Wednesday</td>\n",
       "      <td>8</td>\n",
       "      <td>37.86206</td>\n",
       "      <td>-122.29346</td>\n",
       "    </tr>\n",
       "    <tr>\n",
       "      <th>3</th>\n",
       "      <td>22026547</td>\n",
       "      <td>DISTURBANCE</td>\n",
       "      <td>06/10/2022 12:00:00 AM</td>\n",
       "      <td>21:35:00 PM</td>\n",
       "      <td>DISORDERLY CONDUCT</td>\n",
       "      <td>5</td>\n",
       "      <td>10/13/2022 04:42:00 PM</td>\n",
       "      <td>1300 BLOCK HEARST AVE\\nBerkeley, CA\\n(37.87133...</td>\n",
       "      <td>1300 BLOCK HEARST AVE</td>\n",
       "      <td>Berkeley</td>\n",
       "      <td>CA</td>\n",
       "      <td>Friday</td>\n",
       "      <td>21</td>\n",
       "      <td>37.87133</td>\n",
       "      <td>-122.28656</td>\n",
       "    </tr>\n",
       "    <tr>\n",
       "      <th>4</th>\n",
       "      <td>22018126</td>\n",
       "      <td>ASSAULT/BATTERY FEL.</td>\n",
       "      <td>04/20/2022 12:00:00 AM</td>\n",
       "      <td>15:31:00 PM</td>\n",
       "      <td>ASSAULT</td>\n",
       "      <td>3</td>\n",
       "      <td>10/13/2022 04:42:00 PM</td>\n",
       "      <td>3000 BLOCK SHATTUCK AVE\\nBerkeley, CA\\n(37.855...</td>\n",
       "      <td>3000 BLOCK SHATTUCK AVE</td>\n",
       "      <td>Berkeley</td>\n",
       "      <td>CA</td>\n",
       "      <td>Wednesday</td>\n",
       "      <td>15</td>\n",
       "      <td>37.85507</td>\n",
       "      <td>-122.26677</td>\n",
       "    </tr>\n",
       "  </tbody>\n",
       "</table>\n",
       "</div>"
      ],
      "text/plain": [
       "     CASENO               OFFENSE                 EVENTDT      EVENTTM  \\\n",
       "0  22036516       THEFT FROM AUTO  08/10/2022 12:00:00 AM  06:10:00 AM   \n",
       "1  22027674  BURGLARY RESIDENTIAL  06/16/2022 12:00:00 AM  20:25:00 PM   \n",
       "2  22023993             VANDALISM  05/25/2022 12:00:00 AM  08:00:00 AM   \n",
       "3  22026547           DISTURBANCE  06/10/2022 12:00:00 AM  21:35:00 PM   \n",
       "4  22018126  ASSAULT/BATTERY FEL.  04/20/2022 12:00:00 AM  15:31:00 PM   \n",
       "\n",
       "                 CVLEGEND  CVDOW                InDbDate  \\\n",
       "0  LARCENY - FROM VEHICLE      3  10/13/2022 04:42:00 PM   \n",
       "1  BURGLARY - RESIDENTIAL      4  10/13/2022 04:42:00 PM   \n",
       "2               VANDALISM      3  10/13/2022 04:42:00 PM   \n",
       "3      DISORDERLY CONDUCT      5  10/13/2022 04:42:00 PM   \n",
       "4                 ASSAULT      3  10/13/2022 04:42:00 PM   \n",
       "\n",
       "                                      Block_Location                  BLKADDR  \\\n",
       "0               Berkeley, CA\\n(37.86988, -122.27054)                      NaN   \n",
       "1  1700 BLOCK OXFORD ST\\nBerkeley, CA\\n(37.87674,...     1700 BLOCK OXFORD ST   \n",
       "2  2400 BLOCK 8TH ST\\nBerkeley, CA\\n(37.86206, -1...        2400 BLOCK 8TH ST   \n",
       "3  1300 BLOCK HEARST AVE\\nBerkeley, CA\\n(37.87133...    1300 BLOCK HEARST AVE   \n",
       "4  3000 BLOCK SHATTUCK AVE\\nBerkeley, CA\\n(37.855...  3000 BLOCK SHATTUCK AVE   \n",
       "\n",
       "       City State        Day  Hour       Lat         Lon  \n",
       "0  Berkeley    CA  Wednesday     6  37.86988  -122.27054  \n",
       "1  Berkeley    CA   Thursday    20  37.87674  -122.26665  \n",
       "2  Berkeley    CA  Wednesday     8  37.86206  -122.29346  \n",
       "3  Berkeley    CA     Friday    21  37.87133  -122.28656  \n",
       "4  Berkeley    CA  Wednesday    15  37.85507  -122.26677  "
      ]
     },
     "execution_count": 182,
     "metadata": {},
     "output_type": "execute_result"
    }
   ],
   "source": [
    "calls.head(5)"
   ]
  },
  {
   "cell_type": "markdown",
   "metadata": {
    "deletable": false,
    "editable": false
   },
   "source": [
    "There is another field that tells us whether we have a valid `Block_Location` entry per record - i.e., with GPS coordinates (latitude, longitude) that match the listed block location. What is it?\n",
    "\n",
    "In the below cell, use the field you found to create a new `DataFrame`, `invalid_block_loc`, that contains only the rows of `calls` that have invalid `Block_Location`. Your new `DataFrame` should have all the same columns of `calls`."
   ]
  },
  {
   "cell_type": "code",
   "execution_count": 183,
   "metadata": {
    "tags": []
   },
   "outputs": [
    {
     "data": {
      "text/html": [
       "<div>\n",
       "<style scoped>\n",
       "    .dataframe tbody tr th:only-of-type {\n",
       "        vertical-align: middle;\n",
       "    }\n",
       "\n",
       "    .dataframe tbody tr th {\n",
       "        vertical-align: top;\n",
       "    }\n",
       "\n",
       "    .dataframe thead th {\n",
       "        text-align: right;\n",
       "    }\n",
       "</style>\n",
       "<table border=\"1\" class=\"dataframe\">\n",
       "  <thead>\n",
       "    <tr style=\"text-align: right;\">\n",
       "      <th></th>\n",
       "      <th>CASENO</th>\n",
       "      <th>OFFENSE</th>\n",
       "      <th>EVENTDT</th>\n",
       "      <th>EVENTTM</th>\n",
       "      <th>CVLEGEND</th>\n",
       "      <th>CVDOW</th>\n",
       "      <th>InDbDate</th>\n",
       "      <th>Block_Location</th>\n",
       "      <th>BLKADDR</th>\n",
       "      <th>City</th>\n",
       "      <th>State</th>\n",
       "      <th>Day</th>\n",
       "      <th>Hour</th>\n",
       "      <th>Lat</th>\n",
       "      <th>Lon</th>\n",
       "    </tr>\n",
       "  </thead>\n",
       "  <tbody>\n",
       "    <tr>\n",
       "      <th>0</th>\n",
       "      <td>22036516</td>\n",
       "      <td>THEFT FROM AUTO</td>\n",
       "      <td>08/10/2022 12:00:00 AM</td>\n",
       "      <td>06:10:00 AM</td>\n",
       "      <td>LARCENY - FROM VEHICLE</td>\n",
       "      <td>3</td>\n",
       "      <td>10/13/2022 04:42:00 PM</td>\n",
       "      <td>Berkeley, CA\\n(37.86988, -122.27054)</td>\n",
       "      <td>NaN</td>\n",
       "      <td>Berkeley</td>\n",
       "      <td>CA</td>\n",
       "      <td>Wednesday</td>\n",
       "      <td>6</td>\n",
       "      <td>37.86988</td>\n",
       "      <td>-122.27054</td>\n",
       "    </tr>\n",
       "    <tr>\n",
       "      <th>574</th>\n",
       "      <td>22091101</td>\n",
       "      <td>THEFT FELONY (OVER $950)</td>\n",
       "      <td>09/04/2022 12:00:00 AM</td>\n",
       "      <td>11:55:00 AM</td>\n",
       "      <td>LARCENY</td>\n",
       "      <td>0</td>\n",
       "      <td>10/13/2022 04:42:00 PM</td>\n",
       "      <td>Berkeley, CA\\n(37.86988, -122.27054)</td>\n",
       "      <td>NaN</td>\n",
       "      <td>Berkeley</td>\n",
       "      <td>CA</td>\n",
       "      <td>Sunday</td>\n",
       "      <td>11</td>\n",
       "      <td>37.86988</td>\n",
       "      <td>-122.27054</td>\n",
       "    </tr>\n",
       "    <tr>\n",
       "      <th>703</th>\n",
       "      <td>22091162</td>\n",
       "      <td>BURGLARY AUTO</td>\n",
       "      <td>08/29/2022 12:00:00 AM</td>\n",
       "      <td>10:15:00 AM</td>\n",
       "      <td>BURGLARY - VEHICLE</td>\n",
       "      <td>1</td>\n",
       "      <td>10/13/2022 04:42:00 PM</td>\n",
       "      <td>Berkeley, CA\\n(37.86988, -122.27054)</td>\n",
       "      <td>NaN</td>\n",
       "      <td>Berkeley</td>\n",
       "      <td>CA</td>\n",
       "      <td>Monday</td>\n",
       "      <td>10</td>\n",
       "      <td>37.86988</td>\n",
       "      <td>-122.27054</td>\n",
       "    </tr>\n",
       "    <tr>\n",
       "      <th>1135</th>\n",
       "      <td>22090479</td>\n",
       "      <td>BURGLARY AUTO</td>\n",
       "      <td>04/20/2022 12:00:00 AM</td>\n",
       "      <td>01:00:00 AM</td>\n",
       "      <td>BURGLARY - VEHICLE</td>\n",
       "      <td>3</td>\n",
       "      <td>10/13/2022 04:42:00 PM</td>\n",
       "      <td>Berkeley, CA\\n(37.86988, -122.27054)</td>\n",
       "      <td>NaN</td>\n",
       "      <td>Berkeley</td>\n",
       "      <td>CA</td>\n",
       "      <td>Wednesday</td>\n",
       "      <td>1</td>\n",
       "      <td>37.86988</td>\n",
       "      <td>-122.27054</td>\n",
       "    </tr>\n",
       "    <tr>\n",
       "      <th>1314</th>\n",
       "      <td>22045306</td>\n",
       "      <td>THEFT FELONY (OVER $950)</td>\n",
       "      <td>09/27/2022 12:00:00 AM</td>\n",
       "      <td>02:10:00 AM</td>\n",
       "      <td>LARCENY</td>\n",
       "      <td>2</td>\n",
       "      <td>10/13/2022 04:42:00 PM</td>\n",
       "      <td>Berkeley, CA\\n(37.86988, -122.27054)</td>\n",
       "      <td>NaN</td>\n",
       "      <td>Berkeley</td>\n",
       "      <td>CA</td>\n",
       "      <td>Tuesday</td>\n",
       "      <td>2</td>\n",
       "      <td>37.86988</td>\n",
       "      <td>-122.27054</td>\n",
       "    </tr>\n",
       "  </tbody>\n",
       "</table>\n",
       "</div>"
      ],
      "text/plain": [
       "        CASENO                   OFFENSE                 EVENTDT      EVENTTM  \\\n",
       "0     22036516           THEFT FROM AUTO  08/10/2022 12:00:00 AM  06:10:00 AM   \n",
       "574   22091101  THEFT FELONY (OVER $950)  09/04/2022 12:00:00 AM  11:55:00 AM   \n",
       "703   22091162             BURGLARY AUTO  08/29/2022 12:00:00 AM  10:15:00 AM   \n",
       "1135  22090479             BURGLARY AUTO  04/20/2022 12:00:00 AM  01:00:00 AM   \n",
       "1314  22045306  THEFT FELONY (OVER $950)  09/27/2022 12:00:00 AM  02:10:00 AM   \n",
       "\n",
       "                    CVLEGEND  CVDOW                InDbDate  \\\n",
       "0     LARCENY - FROM VEHICLE      3  10/13/2022 04:42:00 PM   \n",
       "574                  LARCENY      0  10/13/2022 04:42:00 PM   \n",
       "703       BURGLARY - VEHICLE      1  10/13/2022 04:42:00 PM   \n",
       "1135      BURGLARY - VEHICLE      3  10/13/2022 04:42:00 PM   \n",
       "1314                 LARCENY      2  10/13/2022 04:42:00 PM   \n",
       "\n",
       "                            Block_Location BLKADDR      City State        Day  \\\n",
       "0     Berkeley, CA\\n(37.86988, -122.27054)     NaN  Berkeley    CA  Wednesday   \n",
       "574   Berkeley, CA\\n(37.86988, -122.27054)     NaN  Berkeley    CA     Sunday   \n",
       "703   Berkeley, CA\\n(37.86988, -122.27054)     NaN  Berkeley    CA     Monday   \n",
       "1135  Berkeley, CA\\n(37.86988, -122.27054)     NaN  Berkeley    CA  Wednesday   \n",
       "1314  Berkeley, CA\\n(37.86988, -122.27054)     NaN  Berkeley    CA    Tuesday   \n",
       "\n",
       "      Hour       Lat         Lon  \n",
       "0        6  37.86988  -122.27054  \n",
       "574     11  37.86988  -122.27054  \n",
       "703     10  37.86988  -122.27054  \n",
       "1135     1  37.86988  -122.27054  \n",
       "1314     2  37.86988  -122.27054  "
      ]
     },
     "execution_count": 183,
     "metadata": {},
     "output_type": "execute_result"
    }
   ],
   "source": [
    "invalid_block_loc = calls[calls['BLKADDR'].isna()]\n",
    "invalid_block_loc.head()"
   ]
  },
  {
   "cell_type": "code",
   "execution_count": 184,
   "metadata": {
    "deletable": false,
    "editable": false
   },
   "outputs": [
    {
     "data": {
      "text/html": [
       "<p><strong><pre style='display: inline;'>q3c</pre></strong> passed! 🚀</p>"
      ],
      "text/plain": [
       "q3c results: All test cases passed!"
      ]
     },
     "execution_count": 184,
     "metadata": {},
     "output_type": "execute_result"
    }
   ],
   "source": [
    "grader.check(\"q3c\")"
   ]
  },
  {
   "cell_type": "markdown",
   "metadata": {},
   "source": [
    "<br>\n",
    "\n",
    "---\n",
    "### Question 3d: Patterns in Invalid Values\n",
    "\n",
    "Now let's explore if there is a pattern to which types of records have invalid block locations.\n",
    "\n",
    "We've implemented the plotting code for you below, but read through it and verify you understand what we're doing (we've thrown in a bonus `plt.subplots()` call, documentation [here](https://matplotlib.org/stable/gallery/subplots_axes_and_figures/subplots_demo.html#stacking-subplots-in-one-direction))."
   ]
  },
  {
   "cell_type": "code",
   "execution_count": 185,
   "metadata": {},
   "outputs": [
    {
     "data": {
      "image/png": "[encoded data removed]",
      "text/plain": [
       "<Figure size 1200x900 with 2 Axes>"
      ]
     },
     "metadata": {},
     "output_type": "display_data"
    }
   ],
   "source": [
    "# Run this cell to generate the plot, no further action is needed\n",
    "missing_by_time = (pd.to_datetime(invalid_block_loc['EVENTDT'], format='%m/%d/%Y %I:%M:%S %p')\n",
    "                   .value_counts()\n",
    "                   .sort_index()\n",
    "                  )\n",
    "missing_by_crime = (invalid_block_loc['CVLEGEND']\n",
    "                    .value_counts() \n",
    "                    / calls['CVLEGEND'].value_counts()\n",
    "                   ).dropna().sort_values(ascending=False)\n",
    "\n",
    "fig, ax = plt.subplots(2)\n",
    "ax[0].bar(missing_by_time.index, missing_by_time)\n",
    "ax[0].set_ylabel(\"Calls with Invalid Data\")\n",
    "ax[1].barh(missing_by_crime.index, missing_by_crime)\n",
    "ax[1].set_xlabel(\"Fraction of Invalid Data per Event Type\")\n",
    "fig.suptitle(\"Characteristics of Invalid Lat/Lon Data\")\n",
    "plt.show()"
   ]
  },
  {
   "cell_type": "markdown",
   "metadata": {
    "deletable": false,
    "editable": false
   },
   "source": [
    "<!-- BEGIN QUESTION -->\n",
    "\n",
    "\n",
    "Based on the plots above, are there any patterns among entries that are invalid latitude/longitude data? The dataset information [linked](https://data.cityofberkeley.info/Public-Safety/Berkeley-PD-Calls-for-Service/k2nh-s5h5) at the top of this notebook may also give more context."
   ]
  },
  {
   "cell_type": "markdown",
   "metadata": {},
   "source": [
    "_Type your answer here, replacing this text._"
   ]
  },
  {
   "cell_type": "markdown",
   "metadata": {
    "deletable": false,
    "editable": false
   },
   "source": [
    "<!-- END QUESTION -->\n",
    "\n",
    "<br>\n",
    "\n",
    "---\n",
    "### Question 3e: Explore\n",
    "\n",
    "The below cell plots a map of phone calls by GPS coordinates (latitude, longitude); we drop invalid location data."
   ]
  },
  {
   "cell_type": "code",
   "execution_count": 186,
   "metadata": {},
   "outputs": [
    {
     "ename": "ModuleNotFoundError",
     "evalue": "No module named 'folium'",
     "output_type": "error",
     "traceback": [
      "\u001b[1;31m---------------------------------------------------------------------------\u001b[0m",
      "\u001b[1;31mModuleNotFoundError\u001b[0m                       Traceback (most recent call last)",
      "Cell \u001b[1;32mIn[186], line 2\u001b[0m\n\u001b[0;32m      1\u001b[0m \u001b[38;5;66;03m# Run this cell to generate the interactive plot, no further code is needed.\u001b[39;00m\n\u001b[1;32m----> 2\u001b[0m \u001b[38;5;28;01mimport\u001b[39;00m \u001b[38;5;21;01mfolium\u001b[39;00m\n\u001b[0;32m      3\u001b[0m \u001b[38;5;28;01mimport\u001b[39;00m \u001b[38;5;21;01mfolium\u001b[39;00m\u001b[38;5;21;01m.\u001b[39;00m\u001b[38;5;21;01mplugins\u001b[39;00m\n\u001b[0;32m      5\u001b[0m BERKELEY_COORDINATES \u001b[38;5;241m=\u001b[39m (\u001b[38;5;241m37.87\u001b[39m, \u001b[38;5;241m-\u001b[39m\u001b[38;5;241m122.28\u001b[39m)\n",
      "\u001b[1;31mModuleNotFoundError\u001b[0m: No module named 'folium'"
     ]
    }
   ],
   "source": [
    "# Run this cell to generate the interactive plot, no further code is needed.\n",
    "import folium\n",
    "import folium.plugins\n",
    "\n",
    "BERKELEY_COORDINATES = (37.87, -122.28)\n",
    "berkeley_map = folium.Map(location=BERKELEY_COORDINATES, zoom_start=13)\n",
    "locs = calls.drop(invalid_block_loc.index)[['Lat', 'Lon']].astype('float').values\n",
    "heatmap = folium.plugins.HeatMap(locs.tolist(), radius=10)\n",
    "berkeley_map.add_child(heatmap)"
   ]
  },
  {
   "cell_type": "markdown",
   "metadata": {
    "deletable": false,
    "editable": false
   },
   "source": [
    "<!-- BEGIN QUESTION -->\n",
    "\n",
    "Based on the above map, what could be some **drawbacks** of using the location fields in this dataset to draw conclusions about crime in Berkeley? This is an open-ended question. Here are some sub-questions to consider:\n",
    "* Is campus really the safest place to be?\n",
    "* Why are all the calls located at street intersections, outdoors, and not within buildings?"
   ]
  },
  {
   "cell_type": "markdown",
   "metadata": {},
   "source": [
    "_Type your answer here, replacing this text._"
   ]
  },
  {
   "cell_type": "markdown",
   "metadata": {
    "deletable": false,
    "editable": false
   },
   "source": [
    "<!-- END QUESTION -->\n",
    "\n",
    "<hr style=\"border: 5px solid #003262;\" />\n",
    "<hr style=\"border: 1px solid #fdb515;\" />\n",
    "\n",
    "## Congratulations! You have finished Lab 03!"
   ]
  },
  {
   "cell_type": "markdown",
   "metadata": {},
   "source": [
    "### Course Content Feedback\n",
    "\n",
    "If you have any feedback about this assignment or about any of our other weekly, weekly assignments, lectures, or discussions, please fill out the [Course Content Feedback Form](https://docs.google.com/forms/d/e/1FAIpQLSdpKA_E3b7PGqKSRqBUgSebb9bVFhRwRBv1ueisGsnKFkZkYg/viewform?usp=sf_link). Your input is valuable in helping us improve the quality and relevance of our content to better meet your needs and expectations!"
   ]
  },
  {
   "cell_type": "markdown",
   "metadata": {},
   "source": [
    "### Submission Instructions\n",
    "\n",
    "Below, you will see a cell. Running this cell will automatically generate a zip file with your autograded answers. Submit this file to the Lab 03 assignment on Gradescope. If you run into any issues when running this cell, feel free to check this [section](https://ds100.org/debugging-guide/autograder_gradescope/autograder_gradescope.html#why-does-grader.exportrun_teststrue-fail-if-all-previous-tests-passed) in the Data 100 Debugging Guide."
   ]
  },
  {
   "cell_type": "markdown",
   "metadata": {
    "deletable": false,
    "editable": false
   },
   "source": [
    "## Submission\n",
    "\n",
    "Make sure you have run all cells in your notebook in order before running the cell below, so that all images/graphs appear in the output. The cell below will generate a zip file for you to submit. **Please save before exporting!**"
   ]
  },
  {
   "cell_type": "code",
   "execution_count": null,
   "metadata": {
    "deletable": false,
    "editable": false
   },
   "outputs": [],
   "source": [
    "# Save your notebook first, then run this cell to export your submission.\n",
    "grader.export(pdf=False, run_tests=True)"
   ]
  },
  {
   "cell_type": "markdown",
   "metadata": {},
   "source": [
    " "
   ]
  }
 ],
 "metadata": {
  "celltoolbar": "Create Assignment",
  "kernelspec": {
   "display_name": "Python 3 (ipykernel)",
   "language": "python",
   "name": "python3"
  },
  "language_info": {
   "codemirror_mode": {
    "name": "ipython",
    "version": 3
   },
   "file_extension": ".py",
   "mimetype": "text/x-python",
   "name": "python",
   "nbconvert_exporter": "python",
   "pygments_lexer": "ipython3",
   "version": "3.12.7"
  },
  "otter": {
   "OK_FORMAT": true,
   "tests": {
    "q1": {
     "name": "q1",
     "points": null,
     "suites": [
      {
       "cases": [
        {
         "code": ">>> isinstance(answer1, list)\nTrue",
         "hidden": false,
         "locked": false
        },
        {
         "code": ">>> all([isinstance(elt, str) for elt in answer1])\nTrue",
         "hidden": false,
         "locked": false
        },
        {
         "code": ">>> len(answer1) == 3\nTrue",
         "hidden": false,
         "locked": false
        },
        {
         "code": ">>> all([elt in calls['OFFENSE'].values for elt in answer1])\nTrue",
         "hidden": false,
         "locked": false
        },
        {
         "code": ">>> set([a.strip().upper() for a in answer1]) == set(['THEFT FELONY (OVER $950)', 'THEFT FROM PERSON', 'THEFT MISD. (UNDER $950)'])\nTrue",
         "hidden": false,
         "locked": false
        }
       ],
       "scored": true,
       "setup": "",
       "teardown": "",
       "type": "doctest"
      }
     ]
    },
    "q2a": {
     "name": "q2a",
     "points": null,
     "suites": [
      {
       "cases": [
        {
         "code": ">>> set(calls['Day']) == {'Friday', 'Monday', 'Saturday', 'Sunday', 'Thursday', 'Tuesday', 'Wednesday'}\nTrue",
         "hidden": false,
         "locked": false
        },
        {
         "code": ">>> list(calls['Day'][:5]) == ['Wednesday', 'Thursday', 'Wednesday', 'Friday', 'Wednesday']\nTrue",
         "hidden": false,
         "locked": false
        }
       ],
       "scored": true,
       "setup": "",
       "teardown": "",
       "type": "doctest"
      }
     ]
    },
    "q2b": {
     "name": "q2b",
     "points": null,
     "suites": [
      {
       "cases": [
        {
         "code": ">>> isinstance(calls.loc[72, 'Hour'], (int, np.integer))\nTrue",
         "hidden": false,
         "locked": false
        },
        {
         "code": ">>> calls['Hour'][72] == 18\nTrue",
         "hidden": false,
         "locked": false
        }
       ],
       "scored": true,
       "setup": "",
       "teardown": "",
       "type": "doctest"
      }
     ]
    },
    "q2c": {
     "name": "q2c",
     "points": null,
     "suites": [
      {
       "cases": [
        {
         "code": ">>> hours = list(range(24))\n>>> xy_data = ax_3d.lines[0].get_xydata()\n>>> expected_xy_data = np.vstack((hours, calls['Hour'].value_counts()[hours].to_numpy())).T\n>>> np.allclose(xy_data, expected_xy_data)\nTrue",
         "hidden": false,
         "locked": false
        },
        {
         "code": ">>> plt.close('all')\n",
         "hidden": false,
         "locked": false
        }
       ],
       "scored": true,
       "setup": "",
       "teardown": "",
       "type": "doctest"
      }
     ]
    },
    "q3a": {
     "name": "q3a",
     "points": null,
     "suites": [
      {
       "cases": [
        {
         "code": ">>> calls_lat_lon.shape\n(4490, 2)",
         "hidden": false,
         "locked": false
        },
        {
         "code": ">>> set(calls_lat_lon.columns) == {'Lat', 'Lon'}\nTrue",
         "hidden": false,
         "locked": false
        }
       ],
       "scored": true,
       "setup": "",
       "teardown": "",
       "type": "doctest"
      }
     ]
    },
    "q3b": {
     "name": "q3b",
     "points": null,
     "suites": [
      {
       "cases": [
        {
         "code": ">>> 'Lat' in calls.columns and 'Lon' in calls.columns\nTrue",
         "hidden": false,
         "locked": false
        },
        {
         "code": ">>> str(calls.loc[1137, 'Lat']) == '37.8801'\nTrue",
         "hidden": false,
         "locked": false
        },
        {
         "code": ">>> str(calls.loc[689]['Lon']) == '-122.26857'\nTrue",
         "hidden": false,
         "locked": false
        }
       ],
       "scored": true,
       "setup": "",
       "teardown": "",
       "type": "doctest"
      }
     ]
    },
    "q3c": {
     "name": "q3c",
     "points": null,
     "suites": [
      {
       "cases": [
        {
         "code": ">>> invalid_block_loc.shape\n(14, 15)",
         "hidden": false,
         "locked": false
        },
        {
         "code": ">>> invalid_block_loc['BLKADDR'].isna().sum() == len(invalid_block_loc)\nTrue",
         "hidden": false,
         "locked": false
        }
       ],
       "scored": true,
       "setup": "",
       "teardown": "",
       "type": "doctest"
      }
     ]
    }
   }
  }
 },
 "nbformat": 4,
 "nbformat_minor": 4
}
