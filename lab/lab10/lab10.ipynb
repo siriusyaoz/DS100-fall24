{
 "cells": [
  {
   "cell_type": "code",
   "execution_count": 1,
   "id": "90dcf75e",
   "metadata": {
    "deletable": false,
    "editable": false
   },
   "outputs": [],
   "source": [
    "# Initialize Otter\n",
    "import otter\n",
    "grader = otter.Notebook(\"lab10.ipynb\")"
   ]
  },
  {
   "cell_type": "markdown",
   "id": "a2a26076",
   "metadata": {
    "nbgrader": {
     "grade": false,
     "grade_id": "title",
     "locked": true,
     "schema_version": 2,
     "solution": false
    }
   },
   "source": [
    "# Lab 10: SQL\n",
    "\n",
    "In this lab, we are going to practice viewing, sorting, grouping, and merging tables with SQL. We will explore two datasets:\n",
    "1. A \"minified\" version of the [Internet Movie Database](https://www.imdb.com/interfaces/) (IMDb). This SQLite database (~10MB) is a tiny sample of the much larger database (more than a few GBs). As a result, disclaimer that we may get wildly different results than if we use the whole database!\n",
    "\n",
    "1. The money donated during the 2016 election using the [Federal Election Commission (FEC)'s public records](https://www.fec.gov/data/). You will be connecting to a SQLite database containing the data. The data we will be working with in this lab is relatively small (~106MB); however, it is a sample taken from a much larger database (more than a few GBs).\n",
    "\n",
    "\n",
    "To receive credit for a lab, answer all questions correctly and submit before the deadline.\n",
    "\n",
    "**The on-time deadline is Tuesday, November 12, 11:59 PM**. As a reminder, the slip-day policy does not apply to labs. We strongly encourage you to plan to submit your work to Gradescope several hours before the stated deadline. This way, you will have ample time to contact staff for submission support."
   ]
  },
  {
   "cell_type": "markdown",
   "id": "24771ac9-2ead-4d34-b07e-65da120c657e",
   "metadata": {},
   "source": [
    "### Important Note!"
   ]
  },
  {
   "cell_type": "markdown",
   "id": "cc517749-6c9c-451f-b4a5-db17c54cc4a8",
   "metadata": {},
   "source": [
    "**Please only have ONE active SQL database running at once on DataHub, meaning do not have multiple homework/lab/lecture notebooks running at the same time**"
   ]
  },
  {
   "cell_type": "markdown",
   "id": "35e6d18d-4a86-4ba2-93e6-44b102509927",
   "metadata": {},
   "source": [
    "### Lab Walk-Through\n",
    "In addition to the lab notebook, we have also released a prerecorded walk-through video of the lab. We encourage you to reference this video as you work through the lab. Run the cell below to display the video.\n",
    "\n",
    "**Note:** the walkthrough video is from Spring 2022, where the format of answers was different than it is this semester."
   ]
  },
  {
   "cell_type": "code",
   "execution_count": null,
   "id": "2aea6b71-59f3-4f0a-9992-92ba8d7afc60",
   "metadata": {},
   "outputs": [],
   "source": [
    "from IPython.display import YouTubeVideo\n",
    "YouTubeVideo(\"uQ3E4pejmD8\", list = 'PLQCcNQgUcDfpdBnhS-lPq8LPas48tkMgp', listType = 'playlist')"
   ]
  },
  {
   "cell_type": "markdown",
   "id": "94edd2bc",
   "metadata": {},
   "source": [
    "### Collaboration Policy\n",
    "Data science is a collaborative activity. While you may talk with others about this assignment, we ask that you **write your solutions individually**. If you discuss the assignment with others, please **include their names** in the cell below."
   ]
  },
  {
   "cell_type": "markdown",
   "id": "33f67b32",
   "metadata": {},
   "source": [
    "**Collaborators:** *list names here*"
   ]
  },
  {
   "cell_type": "markdown",
   "id": "046bd770-419b-4625-bdd4-05d6af7a4f92",
   "metadata": {},
   "source": [
    "### Debugging Guide\n",
    "If you run into any technical issues, we highly recommend checking out the [Data 100 Debugging Guide](https://ds100.org/debugging-guide/). In this guide, you can find general questions about Jupyter notebooks / Datahub, Gradescope, common SQL errors, and more."
   ]
  },
  {
   "cell_type": "code",
   "execution_count": 3,
   "id": "95184380",
   "metadata": {
    "nbgrader": {
     "grade": false,
     "grade_id": "setup",
     "locked": true,
     "schema_version": 2,
     "solution": false
    },
    "tags": []
   },
   "outputs": [
    {
     "name": "stdout",
     "output_type": "stream",
     "text": [
      "..\\..\\..\\..\\..\\..\\..\\tmp\n"
     ]
    }
   ],
   "source": [
    "# Run this cell to set up your notebook.\n",
    "import numpy as np\n",
    "import pandas as pd\n",
    "import matplotlib.pyplot as plt\n",
    "import sqlalchemy\n",
    "from pathlib import Path\n",
    "from zipfile import ZipFile\n",
    "\n",
    "if Path('../../../../../../../gradescope').is_dir():\n",
    "    path = Path('.') \n",
    "else:\n",
    "    path = Path('../../../../../../../tmp') \n",
    "\n",
    "with ZipFile('data.zip', 'r') as zipObj:\n",
    "    # Extract all the contents of zip file to the tmp directory\n",
    "    zipObj.extractall(path = path)\n",
    "print(path)\n",
    "imdb_sqlite_conn = 'duckdb:///' + str(path / 'imdbmini.db')\n",
    "fec_nyc_sqlite_conn = 'duckdb:///' + str(path / 'fec_nyc.db')"
   ]
  },
  {
   "cell_type": "markdown",
   "id": "c3c4e066",
   "metadata": {},
   "source": [
    "## SQL Query Syntax\n",
    "\n",
    "Throughout this lab, you will become familiar with the following syntax for the `SELECT` query:\n",
    "\n",
    "```\n",
    "SELECT <column list>\n",
    "FROM <table>\n",
    "[WHERE <predicate>]\n",
    "[GROUP BY <column list>]\n",
    "[HAVING <predicate>]\n",
    "[ORDER BY <column list>]\n",
    "[LIMIT <number of rows>]\n",
    "[OFFSET <number of rows>]\n",
    "```"
   ]
  },
  {
   "cell_type": "markdown",
   "id": "6b9fdc9f",
   "metadata": {},
   "source": [
    "<br/><br/>\n",
    "<hr style=\"border: 5px solid #003262;\" />\n",
    "<hr style=\"border: 1px solid #fdb515;\" />\n",
    "\n",
    "# Part 0 [Tutorial]: Writing SQL in Jupyter Notebooks"
   ]
  },
  {
   "cell_type": "markdown",
   "id": "bd5d6771-8474-4264-b452-69d9aedc5c1a",
   "metadata": {},
   "source": [
    "**Caution: Be careful with large SQL queries!!** You may need to reboot your Jupyter Hub instance if it stops responding. To avoid printing out 100k-sized tables, we've adjusted the display limit to ensure that the tables displayed are truncated to 20 rows (though they may contain more rows in reality).\n"
   ]
  },
  {
   "cell_type": "code",
   "execution_count": 16,
   "id": "79407333-0b41-4391-8ef4-c42d44ec6784",
   "metadata": {},
   "outputs": [],
   "source": [
    "%config SqlMagic.displaylimit = 20\n",
    "%config SqlMagic.style = 'DEFAULT'"
   ]
  },
  {
   "cell_type": "code",
   "execution_count": 17,
   "id": "4cbe0c30-f1c0-4188-8983-f4a647d72df6",
   "metadata": {},
   "outputs": [
    {
     "name": "stdout",
     "output_type": "stream",
     "text": [
      "The sql extension is already loaded. To reload it, use:\n",
      "  %reload_ext sql\n"
     ]
    }
   ],
   "source": [
    "# Run this cell to set up SQL. \n",
    "import duckdb\n",
    "%load_ext sql"
   ]
  },
  {
   "cell_type": "markdown",
   "id": "8d10f866",
   "metadata": {},
   "source": [
    "### 1. `%%sql` cell magic\n",
    "\n",
    "In lecture, we used the `sqlalchemy` extension to use **`%%sql` cell magic**, which enables us to connect to SQL databases and issue SQL commands within Jupyter Notebooks.\n",
    "\n",
    "Run the below cells to connect to a mini IMDb database using `duckdb` as the backend."
   ]
  },
  {
   "cell_type": "code",
   "execution_count": 18,
   "id": "f7c14f5d-4c33-46d4-b54e-b6f040b5aa01",
   "metadata": {},
   "outputs": [],
   "source": [
    "# Run this cell to connect to duckdb\n",
    "conn = duckdb.connect()\n",
    "conn.query(\"INSTALL sqlite\")"
   ]
  },
  {
   "cell_type": "code",
   "execution_count": 19,
   "id": "9b367541-8c6d-4e1e-9f38-9990aa32b078",
   "metadata": {},
   "outputs": [
    {
     "data": {
      "text/html": [
       "<span style=\"None\">Connecting to &#x27;imdb_engine&#x27;</span>"
      ],
      "text/plain": [
       "Connecting to 'imdb_engine'"
      ]
     },
     "metadata": {},
     "output_type": "display_data"
    }
   ],
   "source": [
    "# Run this cell to connect to the imdbmini database\n",
    "imdb_mini_db = 'duckdb:///' + str(path / 'imdbmini.db')\n",
    "%sql duckdb:///../../../../../../../tmp/imdbmini.db --alias imdb_engine"
   ]
  },
  {
   "cell_type": "markdown",
   "id": "667d6da2",
   "metadata": {},
   "source": [
    "The above cell connects to the same database using the SQLAlchemy Python library, which can connect to several different database management systems, including sqlite3, MySQL, PostgreSQL, and Oracle; we use `duckdb`. The library also supports an advanced feature for generating queries called an [object relational mapper](https://docs.sqlalchemy.org/en/20/tutorial/index.html#unified-tutorial) or ORM, which we won't discuss in this course but is quite useful for application development."
   ]
  },
  {
   "cell_type": "markdown",
   "id": "4539c47c",
   "metadata": {},
   "source": [
    "Above, prefixing our single-line command with `%sql` means that the entire line will be treated as a SQL command (this is called \"line magic\"). In this class we will most often write multi-line SQL, meaning we need \"cell magic\", where the first line has `%%sql` (note the double `%` operator).\n",
    "\n",
    "The database `imdbmini.db` includes several tables, one of which is `Name`. Running the below cell will return first 5 lines of that table. Note that `%%sql` is on its own line.\n",
    "\n",
    "We've also included syntax for single-line comments, which are surrounded by `--`, and multi-line comments, which are surrounded by `/*` and `*/`."
   ]
  },
  {
   "cell_type": "code",
   "execution_count": 21,
   "id": "022748d4",
   "metadata": {},
   "outputs": [
    {
     "data": {
      "text/html": [
       "<span style=\"None\">Running query in &#x27;imdb_engine&#x27;</span>"
      ],
      "text/plain": [
       "Running query in 'imdb_engine'"
      ]
     },
     "metadata": {},
     "output_type": "display_data"
    },
    {
     "data": {
      "text/html": [
       "<table>\n",
       "    <thead>\n",
       "        <tr>\n",
       "            <th>nconst</th>\n",
       "            <th>primaryName</th>\n",
       "            <th>birthYear</th>\n",
       "            <th>deathYear</th>\n",
       "            <th>primaryProfession</th>\n",
       "        </tr>\n",
       "    </thead>\n",
       "    <tbody>\n",
       "        <tr>\n",
       "            <td>1</td>\n",
       "            <td>Fred Astaire</td>\n",
       "            <td>1899</td>\n",
       "            <td>1987</td>\n",
       "            <td>soundtrack,actor,miscellaneous</td>\n",
       "        </tr>\n",
       "        <tr>\n",
       "            <td>2</td>\n",
       "            <td>Lauren Bacall</td>\n",
       "            <td>1924</td>\n",
       "            <td>2014</td>\n",
       "            <td>actress,soundtrack</td>\n",
       "        </tr>\n",
       "        <tr>\n",
       "            <td>3</td>\n",
       "            <td>Brigitte Bardot</td>\n",
       "            <td>1934</td>\n",
       "            <td>None</td>\n",
       "            <td>actress,soundtrack,music_department</td>\n",
       "        </tr>\n",
       "        <tr>\n",
       "            <td>4</td>\n",
       "            <td>John Belushi</td>\n",
       "            <td>1949</td>\n",
       "            <td>1982</td>\n",
       "            <td>actor,soundtrack,writer</td>\n",
       "        </tr>\n",
       "        <tr>\n",
       "            <td>5</td>\n",
       "            <td>Ingmar Bergman</td>\n",
       "            <td>1918</td>\n",
       "            <td>2007</td>\n",
       "            <td>writer,director,actor</td>\n",
       "        </tr>\n",
       "    </tbody>\n",
       "</table>"
      ],
      "text/plain": [
       "+--------+-----------------+-----------+-----------+-------------------------------------+\n",
       "| nconst |   primaryName   | birthYear | deathYear |          primaryProfession          |\n",
       "+--------+-----------------+-----------+-----------+-------------------------------------+\n",
       "|   1    |   Fred Astaire  |    1899   |    1987   |    soundtrack,actor,miscellaneous   |\n",
       "|   2    |  Lauren Bacall  |    1924   |    2014   |          actress,soundtrack         |\n",
       "|   3    | Brigitte Bardot |    1934   |    None   | actress,soundtrack,music_department |\n",
       "|   4    |   John Belushi  |    1949   |    1982   |       actor,soundtrack,writer       |\n",
       "|   5    |  Ingmar Bergman |    1918   |    2007   |        writer,director,actor        |\n",
       "+--------+-----------------+-----------+-----------+-------------------------------------+"
      ]
     },
     "execution_count": 21,
     "metadata": {},
     "output_type": "execute_result"
    }
   ],
   "source": [
    "%%sql\n",
    "/*\n",
    " * This is a\n",
    " * multi-line comment.\n",
    " */\n",
    "-- This is a single-line/inline comment. --\n",
    "SELECT *\n",
    "FROM Name\n",
    "LIMIT 5;"
   ]
  },
  {
   "cell_type": "markdown",
   "id": "5555e738",
   "metadata": {},
   "source": [
    "<br/>\n",
    "\n",
    "### 2. The `pandas` command `pd.read_sql`"
   ]
  },
  {
   "cell_type": "markdown",
   "id": "4a5399aa",
   "metadata": {},
   "source": [
    "This section describes how data scientists use SQL and `python` in practice, using the `pandas` command `pd.read_sql` ([documentation](https://pandas.pydata.org/docs/reference/api/pandas.read_sql.html)). **You will see both `%sql` magic and `pd.read_sql` in this course**."
   ]
  },
  {
   "cell_type": "markdown",
   "id": "b13ff03c",
   "metadata": {},
   "source": [
    "With the SQLAlchemy object `engine`, we can call `pd.read_sql` which takes in a `query` **string**. Note the `\"\"\"` to define our multi-line string, which allows us to have a query span multiple lines. The resulting `DataFrame` `df` stores the results of the same SQL query from the previous section."
   ]
  },
  {
   "cell_type": "code",
   "execution_count": 23,
   "id": "9afea90f-ef16-4531-b96f-0f81d961946f",
   "metadata": {},
   "outputs": [
    {
     "data": {
      "text/html": [
       "<div>\n",
       "<style scoped>\n",
       "    .dataframe tbody tr th:only-of-type {\n",
       "        vertical-align: middle;\n",
       "    }\n",
       "\n",
       "    .dataframe tbody tr th {\n",
       "        vertical-align: top;\n",
       "    }\n",
       "\n",
       "    .dataframe thead th {\n",
       "        text-align: right;\n",
       "    }\n",
       "</style>\n",
       "<table border=\"1\" class=\"dataframe\">\n",
       "  <thead>\n",
       "    <tr style=\"text-align: right;\">\n",
       "      <th></th>\n",
       "      <th>nconst</th>\n",
       "      <th>primaryName</th>\n",
       "      <th>birthYear</th>\n",
       "      <th>deathYear</th>\n",
       "      <th>primaryProfession</th>\n",
       "    </tr>\n",
       "  </thead>\n",
       "  <tbody>\n",
       "    <tr>\n",
       "      <th>0</th>\n",
       "      <td>1</td>\n",
       "      <td>Fred Astaire</td>\n",
       "      <td>1899</td>\n",
       "      <td>1987</td>\n",
       "      <td>soundtrack,actor,miscellaneous</td>\n",
       "    </tr>\n",
       "    <tr>\n",
       "      <th>1</th>\n",
       "      <td>2</td>\n",
       "      <td>Lauren Bacall</td>\n",
       "      <td>1924</td>\n",
       "      <td>2014</td>\n",
       "      <td>actress,soundtrack</td>\n",
       "    </tr>\n",
       "    <tr>\n",
       "      <th>2</th>\n",
       "      <td>3</td>\n",
       "      <td>Brigitte Bardot</td>\n",
       "      <td>1934</td>\n",
       "      <td>None</td>\n",
       "      <td>actress,soundtrack,music_department</td>\n",
       "    </tr>\n",
       "    <tr>\n",
       "      <th>3</th>\n",
       "      <td>4</td>\n",
       "      <td>John Belushi</td>\n",
       "      <td>1949</td>\n",
       "      <td>1982</td>\n",
       "      <td>actor,soundtrack,writer</td>\n",
       "    </tr>\n",
       "    <tr>\n",
       "      <th>4</th>\n",
       "      <td>5</td>\n",
       "      <td>Ingmar Bergman</td>\n",
       "      <td>1918</td>\n",
       "      <td>2007</td>\n",
       "      <td>writer,director,actor</td>\n",
       "    </tr>\n",
       "  </tbody>\n",
       "</table>\n",
       "</div>"
      ],
      "text/plain": [
       "   nconst      primaryName birthYear deathYear  \\\n",
       "0       1     Fred Astaire      1899      1987   \n",
       "1       2    Lauren Bacall      1924      2014   \n",
       "2       3  Brigitte Bardot      1934      None   \n",
       "3       4     John Belushi      1949      1982   \n",
       "4       5   Ingmar Bergman      1918      2007   \n",
       "\n",
       "                     primaryProfession  \n",
       "0       soundtrack,actor,miscellaneous  \n",
       "1                   actress,soundtrack  \n",
       "2  actress,soundtrack,music_department  \n",
       "3              actor,soundtrack,writer  \n",
       "4                writer,director,actor  "
      ]
     },
     "execution_count": 23,
     "metadata": {},
     "output_type": "execute_result"
    }
   ],
   "source": [
    "# Run this cell to see the demo.\n",
    "query = \"\"\"\n",
    "SELECT *\n",
    "FROM name\n",
    "LIMIT 5;\n",
    "\"\"\"\n",
    "\n",
    "df = pd.read_sql(query, imdb_mini_db)\n",
    "df"
   ]
  },
  {
   "cell_type": "markdown",
   "id": "0b59afe5-3b7a-405d-abfc-91b68126d9e3",
   "metadata": {},
   "source": [
    "#### `pd.read_sql` vs. `%sql` magic error messages"
   ]
  },
  {
   "cell_type": "markdown",
   "id": "137b6768",
   "metadata": {},
   "source": [
    "`pd.read_sql` has **long error messages**: Given that the SQL query is now in the string, the errors become more unintelligible. Consider the below (incorrect) query.\n",
    "\n",
    "**Note**: Uncomment the below code and check out the error. You can uncomment/comment out multiple cells at the same time by selecting the lines and press ctrl+/ or command+/ "
   ]
  },
  {
   "cell_type": "code",
   "execution_count": 24,
   "id": "eaa676e4-f557-4a66-80d8-171c39d4e38d",
   "metadata": {},
   "outputs": [
    {
     "ename": "ProgrammingError",
     "evalue": "(duckdb.duckdb.ParserException) Parser Error: syntax error at or near \"LIMIT\"\n[SQL: \nSELECT *\nFROM Title;\nLIMIT 5\n]\n(Background on this error at: https://sqlalche.me/e/20/f405)",
     "output_type": "error",
     "traceback": [
      "\u001b[1;31m---------------------------------------------------------------------------\u001b[0m",
      "\u001b[1;31mParserException\u001b[0m                           Traceback (most recent call last)",
      "File \u001b[1;32m~\\.conda\\envs\\cs189\\Lib\\site-packages\\sqlalchemy\\engine\\base.py:1967\u001b[0m, in \u001b[0;36mConnection._exec_single_context\u001b[1;34m(self, dialect, context, statement, parameters)\u001b[0m\n\u001b[0;32m   1966\u001b[0m     \u001b[38;5;28;01mif\u001b[39;00m \u001b[38;5;129;01mnot\u001b[39;00m evt_handled:\n\u001b[1;32m-> 1967\u001b[0m         \u001b[38;5;28;43mself\u001b[39;49m\u001b[38;5;241;43m.\u001b[39;49m\u001b[43mdialect\u001b[49m\u001b[38;5;241;43m.\u001b[39;49m\u001b[43mdo_execute\u001b[49m\u001b[43m(\u001b[49m\n\u001b[0;32m   1968\u001b[0m \u001b[43m            \u001b[49m\u001b[43mcursor\u001b[49m\u001b[43m,\u001b[49m\u001b[43m \u001b[49m\u001b[43mstr_statement\u001b[49m\u001b[43m,\u001b[49m\u001b[43m \u001b[49m\u001b[43meffective_parameters\u001b[49m\u001b[43m,\u001b[49m\u001b[43m \u001b[49m\u001b[43mcontext\u001b[49m\n\u001b[0;32m   1969\u001b[0m \u001b[43m        \u001b[49m\u001b[43m)\u001b[49m\n\u001b[0;32m   1971\u001b[0m \u001b[38;5;28;01mif\u001b[39;00m \u001b[38;5;28mself\u001b[39m\u001b[38;5;241m.\u001b[39m_has_events \u001b[38;5;129;01mor\u001b[39;00m \u001b[38;5;28mself\u001b[39m\u001b[38;5;241m.\u001b[39mengine\u001b[38;5;241m.\u001b[39m_has_events:\n",
      "File \u001b[1;32m~\\.conda\\envs\\cs189\\Lib\\site-packages\\sqlalchemy\\engine\\default.py:941\u001b[0m, in \u001b[0;36mDefaultDialect.do_execute\u001b[1;34m(self, cursor, statement, parameters, context)\u001b[0m\n\u001b[0;32m    940\u001b[0m \u001b[38;5;28;01mdef\u001b[39;00m \u001b[38;5;21mdo_execute\u001b[39m(\u001b[38;5;28mself\u001b[39m, cursor, statement, parameters, context\u001b[38;5;241m=\u001b[39m\u001b[38;5;28;01mNone\u001b[39;00m):\n\u001b[1;32m--> 941\u001b[0m     \u001b[43mcursor\u001b[49m\u001b[38;5;241;43m.\u001b[39;49m\u001b[43mexecute\u001b[49m\u001b[43m(\u001b[49m\u001b[43mstatement\u001b[49m\u001b[43m,\u001b[49m\u001b[43m \u001b[49m\u001b[43mparameters\u001b[49m\u001b[43m)\u001b[49m\n",
      "File \u001b[1;32m~\\.conda\\envs\\cs189\\Lib\\site-packages\\duckdb_engine\\__init__.py:140\u001b[0m, in \u001b[0;36mCursorWrapper.execute\u001b[1;34m(self, statement, parameters, context)\u001b[0m\n\u001b[0;32m    139\u001b[0m     \u001b[38;5;28;01melse\u001b[39;00m:\n\u001b[1;32m--> 140\u001b[0m         \u001b[38;5;28;43mself\u001b[39;49m\u001b[38;5;241;43m.\u001b[39;49m\u001b[43m__c\u001b[49m\u001b[38;5;241;43m.\u001b[39;49m\u001b[43mexecute\u001b[49m\u001b[43m(\u001b[49m\u001b[43mstatement\u001b[49m\u001b[43m,\u001b[49m\u001b[43m \u001b[49m\u001b[43mparameters\u001b[49m\u001b[43m)\u001b[49m\n\u001b[0;32m    141\u001b[0m \u001b[38;5;28;01mexcept\u001b[39;00m \u001b[38;5;167;01mRuntimeError\u001b[39;00m \u001b[38;5;28;01mas\u001b[39;00m e:\n",
      "\u001b[1;31mParserException\u001b[0m: Parser Error: syntax error at or near \"LIMIT\"",
      "\nThe above exception was the direct cause of the following exception:\n",
      "\u001b[1;31mProgrammingError\u001b[0m                          Traceback (most recent call last)",
      "Cell \u001b[1;32mIn[24], line 7\u001b[0m\n\u001b[0;32m      1\u001b[0m \u001b[38;5;66;03m# Uncomment the below code and check out the error.\u001b[39;00m\n\u001b[0;32m      2\u001b[0m query \u001b[38;5;241m=\u001b[39m \u001b[38;5;124m\"\"\"\u001b[39m\n\u001b[0;32m      3\u001b[0m \u001b[38;5;124mSELECT *\u001b[39m\n\u001b[0;32m      4\u001b[0m \u001b[38;5;124mFROM Title;\u001b[39m\n\u001b[0;32m      5\u001b[0m \u001b[38;5;124mLIMIT 5\u001b[39m\n\u001b[0;32m      6\u001b[0m \u001b[38;5;124m\"\"\"\u001b[39m\n\u001b[1;32m----> 7\u001b[0m \u001b[43mpd\u001b[49m\u001b[38;5;241;43m.\u001b[39;49m\u001b[43mread_sql\u001b[49m\u001b[43m(\u001b[49m\u001b[43mquery\u001b[49m\u001b[43m,\u001b[49m\u001b[43m \u001b[49m\u001b[43mimdb_mini_db\u001b[49m\u001b[43m)\u001b[49m\n",
      "File \u001b[1;32m~\\.conda\\envs\\cs189\\Lib\\site-packages\\pandas\\io\\sql.py:734\u001b[0m, in \u001b[0;36mread_sql\u001b[1;34m(sql, con, index_col, coerce_float, params, parse_dates, columns, chunksize, dtype_backend, dtype)\u001b[0m\n\u001b[0;32m    724\u001b[0m     \u001b[38;5;28;01mreturn\u001b[39;00m pandas_sql\u001b[38;5;241m.\u001b[39mread_table(\n\u001b[0;32m    725\u001b[0m         sql,\n\u001b[0;32m    726\u001b[0m         index_col\u001b[38;5;241m=\u001b[39mindex_col,\n\u001b[1;32m   (...)\u001b[0m\n\u001b[0;32m    731\u001b[0m         dtype_backend\u001b[38;5;241m=\u001b[39mdtype_backend,\n\u001b[0;32m    732\u001b[0m     )\n\u001b[0;32m    733\u001b[0m \u001b[38;5;28;01melse\u001b[39;00m:\n\u001b[1;32m--> 734\u001b[0m     \u001b[38;5;28;01mreturn\u001b[39;00m \u001b[43mpandas_sql\u001b[49m\u001b[38;5;241;43m.\u001b[39;49m\u001b[43mread_query\u001b[49m\u001b[43m(\u001b[49m\n\u001b[0;32m    735\u001b[0m \u001b[43m        \u001b[49m\u001b[43msql\u001b[49m\u001b[43m,\u001b[49m\n\u001b[0;32m    736\u001b[0m \u001b[43m        \u001b[49m\u001b[43mindex_col\u001b[49m\u001b[38;5;241;43m=\u001b[39;49m\u001b[43mindex_col\u001b[49m\u001b[43m,\u001b[49m\n\u001b[0;32m    737\u001b[0m \u001b[43m        \u001b[49m\u001b[43mparams\u001b[49m\u001b[38;5;241;43m=\u001b[39;49m\u001b[43mparams\u001b[49m\u001b[43m,\u001b[49m\n\u001b[0;32m    738\u001b[0m \u001b[43m        \u001b[49m\u001b[43mcoerce_float\u001b[49m\u001b[38;5;241;43m=\u001b[39;49m\u001b[43mcoerce_float\u001b[49m\u001b[43m,\u001b[49m\n\u001b[0;32m    739\u001b[0m \u001b[43m        \u001b[49m\u001b[43mparse_dates\u001b[49m\u001b[38;5;241;43m=\u001b[39;49m\u001b[43mparse_dates\u001b[49m\u001b[43m,\u001b[49m\n\u001b[0;32m    740\u001b[0m \u001b[43m        \u001b[49m\u001b[43mchunksize\u001b[49m\u001b[38;5;241;43m=\u001b[39;49m\u001b[43mchunksize\u001b[49m\u001b[43m,\u001b[49m\n\u001b[0;32m    741\u001b[0m \u001b[43m        \u001b[49m\u001b[43mdtype_backend\u001b[49m\u001b[38;5;241;43m=\u001b[39;49m\u001b[43mdtype_backend\u001b[49m\u001b[43m,\u001b[49m\n\u001b[0;32m    742\u001b[0m \u001b[43m        \u001b[49m\u001b[43mdtype\u001b[49m\u001b[38;5;241;43m=\u001b[39;49m\u001b[43mdtype\u001b[49m\u001b[43m,\u001b[49m\n\u001b[0;32m    743\u001b[0m \u001b[43m    \u001b[49m\u001b[43m)\u001b[49m\n",
      "File \u001b[1;32m~\\.conda\\envs\\cs189\\Lib\\site-packages\\pandas\\io\\sql.py:1836\u001b[0m, in \u001b[0;36mSQLDatabase.read_query\u001b[1;34m(self, sql, index_col, coerce_float, parse_dates, params, chunksize, dtype, dtype_backend)\u001b[0m\n\u001b[0;32m   1779\u001b[0m \u001b[38;5;28;01mdef\u001b[39;00m \u001b[38;5;21mread_query\u001b[39m(\n\u001b[0;32m   1780\u001b[0m     \u001b[38;5;28mself\u001b[39m,\n\u001b[0;32m   1781\u001b[0m     sql: \u001b[38;5;28mstr\u001b[39m,\n\u001b[1;32m   (...)\u001b[0m\n\u001b[0;32m   1788\u001b[0m     dtype_backend: DtypeBackend \u001b[38;5;241m|\u001b[39m Literal[\u001b[38;5;124m\"\u001b[39m\u001b[38;5;124mnumpy\u001b[39m\u001b[38;5;124m\"\u001b[39m] \u001b[38;5;241m=\u001b[39m \u001b[38;5;124m\"\u001b[39m\u001b[38;5;124mnumpy\u001b[39m\u001b[38;5;124m\"\u001b[39m,\n\u001b[0;32m   1789\u001b[0m ) \u001b[38;5;241m-\u001b[39m\u001b[38;5;241m>\u001b[39m DataFrame \u001b[38;5;241m|\u001b[39m Iterator[DataFrame]:\n\u001b[0;32m   1790\u001b[0m \u001b[38;5;250m    \u001b[39m\u001b[38;5;124;03m\"\"\"\u001b[39;00m\n\u001b[0;32m   1791\u001b[0m \u001b[38;5;124;03m    Read SQL query into a DataFrame.\u001b[39;00m\n\u001b[0;32m   1792\u001b[0m \n\u001b[1;32m   (...)\u001b[0m\n\u001b[0;32m   1834\u001b[0m \n\u001b[0;32m   1835\u001b[0m \u001b[38;5;124;03m    \"\"\"\u001b[39;00m\n\u001b[1;32m-> 1836\u001b[0m     result \u001b[38;5;241m=\u001b[39m \u001b[38;5;28;43mself\u001b[39;49m\u001b[38;5;241;43m.\u001b[39;49m\u001b[43mexecute\u001b[49m\u001b[43m(\u001b[49m\u001b[43msql\u001b[49m\u001b[43m,\u001b[49m\u001b[43m \u001b[49m\u001b[43mparams\u001b[49m\u001b[43m)\u001b[49m\n\u001b[0;32m   1837\u001b[0m     columns \u001b[38;5;241m=\u001b[39m result\u001b[38;5;241m.\u001b[39mkeys()\n\u001b[0;32m   1839\u001b[0m     \u001b[38;5;28;01mif\u001b[39;00m chunksize \u001b[38;5;129;01mis\u001b[39;00m \u001b[38;5;129;01mnot\u001b[39;00m \u001b[38;5;28;01mNone\u001b[39;00m:\n",
      "File \u001b[1;32m~\\.conda\\envs\\cs189\\Lib\\site-packages\\pandas\\io\\sql.py:1659\u001b[0m, in \u001b[0;36mSQLDatabase.execute\u001b[1;34m(self, sql, params)\u001b[0m\n\u001b[0;32m   1657\u001b[0m args \u001b[38;5;241m=\u001b[39m [] \u001b[38;5;28;01mif\u001b[39;00m params \u001b[38;5;129;01mis\u001b[39;00m \u001b[38;5;28;01mNone\u001b[39;00m \u001b[38;5;28;01melse\u001b[39;00m [params]\n\u001b[0;32m   1658\u001b[0m \u001b[38;5;28;01mif\u001b[39;00m \u001b[38;5;28misinstance\u001b[39m(sql, \u001b[38;5;28mstr\u001b[39m):\n\u001b[1;32m-> 1659\u001b[0m     \u001b[38;5;28;01mreturn\u001b[39;00m \u001b[38;5;28;43mself\u001b[39;49m\u001b[38;5;241;43m.\u001b[39;49m\u001b[43mcon\u001b[49m\u001b[38;5;241;43m.\u001b[39;49m\u001b[43mexec_driver_sql\u001b[49m\u001b[43m(\u001b[49m\u001b[43msql\u001b[49m\u001b[43m,\u001b[49m\u001b[43m \u001b[49m\u001b[38;5;241;43m*\u001b[39;49m\u001b[43margs\u001b[49m\u001b[43m)\u001b[49m\n\u001b[0;32m   1660\u001b[0m \u001b[38;5;28;01mreturn\u001b[39;00m \u001b[38;5;28mself\u001b[39m\u001b[38;5;241m.\u001b[39mcon\u001b[38;5;241m.\u001b[39mexecute(sql, \u001b[38;5;241m*\u001b[39margs)\n",
      "File \u001b[1;32m~\\.conda\\envs\\cs189\\Lib\\site-packages\\sqlalchemy\\engine\\base.py:1779\u001b[0m, in \u001b[0;36mConnection.exec_driver_sql\u001b[1;34m(self, statement, parameters, execution_options)\u001b[0m\n\u001b[0;32m   1774\u001b[0m execution_options \u001b[38;5;241m=\u001b[39m \u001b[38;5;28mself\u001b[39m\u001b[38;5;241m.\u001b[39m_execution_options\u001b[38;5;241m.\u001b[39mmerge_with(\n\u001b[0;32m   1775\u001b[0m     execution_options\n\u001b[0;32m   1776\u001b[0m )\n\u001b[0;32m   1778\u001b[0m dialect \u001b[38;5;241m=\u001b[39m \u001b[38;5;28mself\u001b[39m\u001b[38;5;241m.\u001b[39mdialect\n\u001b[1;32m-> 1779\u001b[0m ret \u001b[38;5;241m=\u001b[39m \u001b[38;5;28;43mself\u001b[39;49m\u001b[38;5;241;43m.\u001b[39;49m\u001b[43m_execute_context\u001b[49m\u001b[43m(\u001b[49m\n\u001b[0;32m   1780\u001b[0m \u001b[43m    \u001b[49m\u001b[43mdialect\u001b[49m\u001b[43m,\u001b[49m\n\u001b[0;32m   1781\u001b[0m \u001b[43m    \u001b[49m\u001b[43mdialect\u001b[49m\u001b[38;5;241;43m.\u001b[39;49m\u001b[43mexecution_ctx_cls\u001b[49m\u001b[38;5;241;43m.\u001b[39;49m\u001b[43m_init_statement\u001b[49m\u001b[43m,\u001b[49m\n\u001b[0;32m   1782\u001b[0m \u001b[43m    \u001b[49m\u001b[43mstatement\u001b[49m\u001b[43m,\u001b[49m\n\u001b[0;32m   1783\u001b[0m \u001b[43m    \u001b[49m\u001b[38;5;28;43;01mNone\u001b[39;49;00m\u001b[43m,\u001b[49m\n\u001b[0;32m   1784\u001b[0m \u001b[43m    \u001b[49m\u001b[43mexecution_options\u001b[49m\u001b[43m,\u001b[49m\n\u001b[0;32m   1785\u001b[0m \u001b[43m    \u001b[49m\u001b[43mstatement\u001b[49m\u001b[43m,\u001b[49m\n\u001b[0;32m   1786\u001b[0m \u001b[43m    \u001b[49m\u001b[43mdistilled_parameters\u001b[49m\u001b[43m,\u001b[49m\n\u001b[0;32m   1787\u001b[0m \u001b[43m\u001b[49m\u001b[43m)\u001b[49m\n\u001b[0;32m   1789\u001b[0m \u001b[38;5;28;01mreturn\u001b[39;00m ret\n",
      "File \u001b[1;32m~\\.conda\\envs\\cs189\\Lib\\site-packages\\sqlalchemy\\engine\\base.py:1846\u001b[0m, in \u001b[0;36mConnection._execute_context\u001b[1;34m(self, dialect, constructor, statement, parameters, execution_options, *args, **kw)\u001b[0m\n\u001b[0;32m   1844\u001b[0m     \u001b[38;5;28;01mreturn\u001b[39;00m \u001b[38;5;28mself\u001b[39m\u001b[38;5;241m.\u001b[39m_exec_insertmany_context(dialect, context)\n\u001b[0;32m   1845\u001b[0m \u001b[38;5;28;01melse\u001b[39;00m:\n\u001b[1;32m-> 1846\u001b[0m     \u001b[38;5;28;01mreturn\u001b[39;00m \u001b[38;5;28;43mself\u001b[39;49m\u001b[38;5;241;43m.\u001b[39;49m\u001b[43m_exec_single_context\u001b[49m\u001b[43m(\u001b[49m\n\u001b[0;32m   1847\u001b[0m \u001b[43m        \u001b[49m\u001b[43mdialect\u001b[49m\u001b[43m,\u001b[49m\u001b[43m \u001b[49m\u001b[43mcontext\u001b[49m\u001b[43m,\u001b[49m\u001b[43m \u001b[49m\u001b[43mstatement\u001b[49m\u001b[43m,\u001b[49m\u001b[43m \u001b[49m\u001b[43mparameters\u001b[49m\n\u001b[0;32m   1848\u001b[0m \u001b[43m    \u001b[49m\u001b[43m)\u001b[49m\n",
      "File \u001b[1;32m~\\.conda\\envs\\cs189\\Lib\\site-packages\\sqlalchemy\\engine\\base.py:1986\u001b[0m, in \u001b[0;36mConnection._exec_single_context\u001b[1;34m(self, dialect, context, statement, parameters)\u001b[0m\n\u001b[0;32m   1983\u001b[0m     result \u001b[38;5;241m=\u001b[39m context\u001b[38;5;241m.\u001b[39m_setup_result_proxy()\n\u001b[0;32m   1985\u001b[0m \u001b[38;5;28;01mexcept\u001b[39;00m \u001b[38;5;167;01mBaseException\u001b[39;00m \u001b[38;5;28;01mas\u001b[39;00m e:\n\u001b[1;32m-> 1986\u001b[0m     \u001b[38;5;28;43mself\u001b[39;49m\u001b[38;5;241;43m.\u001b[39;49m\u001b[43m_handle_dbapi_exception\u001b[49m\u001b[43m(\u001b[49m\n\u001b[0;32m   1987\u001b[0m \u001b[43m        \u001b[49m\u001b[43me\u001b[49m\u001b[43m,\u001b[49m\u001b[43m \u001b[49m\u001b[43mstr_statement\u001b[49m\u001b[43m,\u001b[49m\u001b[43m \u001b[49m\u001b[43meffective_parameters\u001b[49m\u001b[43m,\u001b[49m\u001b[43m \u001b[49m\u001b[43mcursor\u001b[49m\u001b[43m,\u001b[49m\u001b[43m \u001b[49m\u001b[43mcontext\u001b[49m\n\u001b[0;32m   1988\u001b[0m \u001b[43m    \u001b[49m\u001b[43m)\u001b[49m\n\u001b[0;32m   1990\u001b[0m \u001b[38;5;28;01mreturn\u001b[39;00m result\n",
      "File \u001b[1;32m~\\.conda\\envs\\cs189\\Lib\\site-packages\\sqlalchemy\\engine\\base.py:2355\u001b[0m, in \u001b[0;36mConnection._handle_dbapi_exception\u001b[1;34m(self, e, statement, parameters, cursor, context, is_sub_exec)\u001b[0m\n\u001b[0;32m   2353\u001b[0m \u001b[38;5;28;01melif\u001b[39;00m should_wrap:\n\u001b[0;32m   2354\u001b[0m     \u001b[38;5;28;01massert\u001b[39;00m sqlalchemy_exception \u001b[38;5;129;01mis\u001b[39;00m \u001b[38;5;129;01mnot\u001b[39;00m \u001b[38;5;28;01mNone\u001b[39;00m\n\u001b[1;32m-> 2355\u001b[0m     \u001b[38;5;28;01mraise\u001b[39;00m sqlalchemy_exception\u001b[38;5;241m.\u001b[39mwith_traceback(exc_info[\u001b[38;5;241m2\u001b[39m]) \u001b[38;5;28;01mfrom\u001b[39;00m \u001b[38;5;21;01me\u001b[39;00m\n\u001b[0;32m   2356\u001b[0m \u001b[38;5;28;01melse\u001b[39;00m:\n\u001b[0;32m   2357\u001b[0m     \u001b[38;5;28;01massert\u001b[39;00m exc_info[\u001b[38;5;241m1\u001b[39m] \u001b[38;5;129;01mis\u001b[39;00m \u001b[38;5;129;01mnot\u001b[39;00m \u001b[38;5;28;01mNone\u001b[39;00m\n",
      "File \u001b[1;32m~\\.conda\\envs\\cs189\\Lib\\site-packages\\sqlalchemy\\engine\\base.py:1967\u001b[0m, in \u001b[0;36mConnection._exec_single_context\u001b[1;34m(self, dialect, context, statement, parameters)\u001b[0m\n\u001b[0;32m   1965\u001b[0m                 \u001b[38;5;28;01mbreak\u001b[39;00m\n\u001b[0;32m   1966\u001b[0m     \u001b[38;5;28;01mif\u001b[39;00m \u001b[38;5;129;01mnot\u001b[39;00m evt_handled:\n\u001b[1;32m-> 1967\u001b[0m         \u001b[38;5;28;43mself\u001b[39;49m\u001b[38;5;241;43m.\u001b[39;49m\u001b[43mdialect\u001b[49m\u001b[38;5;241;43m.\u001b[39;49m\u001b[43mdo_execute\u001b[49m\u001b[43m(\u001b[49m\n\u001b[0;32m   1968\u001b[0m \u001b[43m            \u001b[49m\u001b[43mcursor\u001b[49m\u001b[43m,\u001b[49m\u001b[43m \u001b[49m\u001b[43mstr_statement\u001b[49m\u001b[43m,\u001b[49m\u001b[43m \u001b[49m\u001b[43meffective_parameters\u001b[49m\u001b[43m,\u001b[49m\u001b[43m \u001b[49m\u001b[43mcontext\u001b[49m\n\u001b[0;32m   1969\u001b[0m \u001b[43m        \u001b[49m\u001b[43m)\u001b[49m\n\u001b[0;32m   1971\u001b[0m \u001b[38;5;28;01mif\u001b[39;00m \u001b[38;5;28mself\u001b[39m\u001b[38;5;241m.\u001b[39m_has_events \u001b[38;5;129;01mor\u001b[39;00m \u001b[38;5;28mself\u001b[39m\u001b[38;5;241m.\u001b[39mengine\u001b[38;5;241m.\u001b[39m_has_events:\n\u001b[0;32m   1972\u001b[0m     \u001b[38;5;28mself\u001b[39m\u001b[38;5;241m.\u001b[39mdispatch\u001b[38;5;241m.\u001b[39mafter_cursor_execute(\n\u001b[0;32m   1973\u001b[0m         \u001b[38;5;28mself\u001b[39m,\n\u001b[0;32m   1974\u001b[0m         cursor,\n\u001b[1;32m   (...)\u001b[0m\n\u001b[0;32m   1978\u001b[0m         context\u001b[38;5;241m.\u001b[39mexecutemany,\n\u001b[0;32m   1979\u001b[0m     )\n",
      "File \u001b[1;32m~\\.conda\\envs\\cs189\\Lib\\site-packages\\sqlalchemy\\engine\\default.py:941\u001b[0m, in \u001b[0;36mDefaultDialect.do_execute\u001b[1;34m(self, cursor, statement, parameters, context)\u001b[0m\n\u001b[0;32m    940\u001b[0m \u001b[38;5;28;01mdef\u001b[39;00m \u001b[38;5;21mdo_execute\u001b[39m(\u001b[38;5;28mself\u001b[39m, cursor, statement, parameters, context\u001b[38;5;241m=\u001b[39m\u001b[38;5;28;01mNone\u001b[39;00m):\n\u001b[1;32m--> 941\u001b[0m     \u001b[43mcursor\u001b[49m\u001b[38;5;241;43m.\u001b[39;49m\u001b[43mexecute\u001b[49m\u001b[43m(\u001b[49m\u001b[43mstatement\u001b[49m\u001b[43m,\u001b[49m\u001b[43m \u001b[49m\u001b[43mparameters\u001b[49m\u001b[43m)\u001b[49m\n",
      "File \u001b[1;32m~\\.conda\\envs\\cs189\\Lib\\site-packages\\duckdb_engine\\__init__.py:140\u001b[0m, in \u001b[0;36mCursorWrapper.execute\u001b[1;34m(self, statement, parameters, context)\u001b[0m\n\u001b[0;32m    138\u001b[0m         \u001b[38;5;28mself\u001b[39m\u001b[38;5;241m.\u001b[39m__c\u001b[38;5;241m.\u001b[39mexecute(statement)\n\u001b[0;32m    139\u001b[0m     \u001b[38;5;28;01melse\u001b[39;00m:\n\u001b[1;32m--> 140\u001b[0m         \u001b[38;5;28;43mself\u001b[39;49m\u001b[38;5;241;43m.\u001b[39;49m\u001b[43m__c\u001b[49m\u001b[38;5;241;43m.\u001b[39;49m\u001b[43mexecute\u001b[49m\u001b[43m(\u001b[49m\u001b[43mstatement\u001b[49m\u001b[43m,\u001b[49m\u001b[43m \u001b[49m\u001b[43mparameters\u001b[49m\u001b[43m)\u001b[49m\n\u001b[0;32m    141\u001b[0m \u001b[38;5;28;01mexcept\u001b[39;00m \u001b[38;5;167;01mRuntimeError\u001b[39;00m \u001b[38;5;28;01mas\u001b[39;00m e:\n\u001b[0;32m    142\u001b[0m     \u001b[38;5;28;01mif\u001b[39;00m e\u001b[38;5;241m.\u001b[39margs[\u001b[38;5;241m0\u001b[39m]\u001b[38;5;241m.\u001b[39mstartswith(\u001b[38;5;124m\"\u001b[39m\u001b[38;5;124mNot implemented Error\u001b[39m\u001b[38;5;124m\"\u001b[39m):\n",
      "\u001b[1;31mProgrammingError\u001b[0m: (duckdb.duckdb.ParserException) Parser Error: syntax error at or near \"LIMIT\"\n[SQL: \nSELECT *\nFROM Title;\nLIMIT 5\n]\n(Background on this error at: https://sqlalche.me/e/20/f405)"
     ]
    }
   ],
   "source": [
    "# Uncomment the below code and check out the error.\n",
    "query = \"\"\"\n",
    "SELECT *\n",
    "FROM Title;\n",
    "LIMIT 5\n",
    "\"\"\"\n",
    "pd.read_sql(query, imdb_mini_db)"
   ]
  },
  {
   "cell_type": "markdown",
   "id": "bc6be967-d995-4cc4-955b-cdbd42ebbd36",
   "metadata": {},
   "source": [
    "<br/>\n",
    "<details>\n",
    "<summary>Now that's an unruly error message! Can you see what's wrong in the cell above and correct the query? Toggle this cell to check your answer!</summary>\n",
    "It has a semicolon in the wrong place!\n",
    "</details>\n",
    "\n",
    "<br/>\n",
    "\n",
    "On the other hand, `%sql` magic gives more intelligible error messages, so we will use this format more often."
   ]
  },
  {
   "cell_type": "code",
   "execution_count": 25,
   "id": "853be81b",
   "metadata": {},
   "outputs": [
    {
     "data": {
      "text/html": [
       "<span style=\"None\">Running query in &#x27;imdb_engine&#x27;</span>"
      ],
      "text/plain": [
       "Running query in 'imdb_engine'"
      ]
     },
     "metadata": {},
     "output_type": "display_data"
    },
    {
     "name": "stderr",
     "output_type": "stream",
     "text": [
      "RuntimeError: If using snippets, you may pass the --with argument explicitly.\n",
      "For more details please refer: https://jupysql.ploomber.io/en/latest/compose.html#with-argument\n",
      "\n",
      "\n",
      "Original error message from DB driver:\n",
      "(duckdb.duckdb.ParserException) Parser Error: syntax error at or near \"LIMIT\"\n",
      "[SQL: LIMIT 5]\n",
      "(Background on this error at: https://sqlalche.me/e/20/f405)\n",
      "\n",
      "If you need help solving this issue, send us a message: https://ploomber.io/community\n"
     ]
    }
   ],
   "source": [
    "%%sql\n",
    "-- Uncomment all this block and check out the error. --\n",
    "SELECT *\n",
    "FROM Title;\n",
    "LIMIT 5"
   ]
  },
  {
   "cell_type": "markdown",
   "id": "8f682833",
   "metadata": {
    "tags": []
   },
   "source": [
    "<br/>\n",
    "<!-- \n",
    "TODO\n",
    "\n",
    "### 3. A suggested workflow for writing SQL in Jupyter Notebooks\n",
    "\n",
    "Which approach is better, `%sql` magic or `pd.read_sql`?\n",
    "\n",
    "The SQL database generally contains much more data than what you would analyze in detail. As a `python`-fluent data scientist, you will often query SQL databases to perform initial exploratory data analysis, a subset of which you load into `python` for further processing.\n",
    "\n",
    "In practice, you would likely use a combination of the two approaches. First, you'd try out some SQL queries with `%sql` magic to get an interesting subset of data. Then, you'd copy over the query into a `pd.read_sql` command for visualization, modeling, and export with `pandas`, sklearn, and other `python` libraries.\n",
    "\n",
    "For SQL assignments in this course, to minimize unruly error messages while maximizing `python` compatibility, we suggest the following \"sandboxed\" workflow:\n",
    "1. Create a `%%sql` magic cell using the code below. \n",
    "\n",
    "    ```\n",
    "    %% sql\n",
    "    -- This is a comment. Put your code here... --\n",
    "    ```\n",
    "    \n",
    "<br/>\n",
    "\n",
    "2. Work on the SQL query in the `%%sql` cell; e.g., `SELECT ... ;`\n",
    "3. Then, once you're satisfied with your SQL query, copy it into the multi-string query in the answer cell (the one that contains the `pd.read_sql` call).\n",
    "\n",
    "You don't have to follow the above workflow to get full credit on assignments, but we suggest it to reduce debugging headaches. We've created the scratchwork `%%sql` cells for you in this assignment—but **if you add any cells, please delete them before submitting**. Newly added cells will cause errors when we run the autograder, and it will sometimes cause a failure to generate the PDF file. -->\n"
   ]
  },
  {
   "cell_type": "markdown",
   "id": "4149050c",
   "metadata": {},
   "source": [
    "<br/><br/>\n",
    "<hr style=\"border: 1px solid #fdb515;\" />\n",
    "\n",
    "# Part 1: The IMDb (mini) Dataset\n",
    "\n",
    "Let's explore a miniature version of the [IMDb Dataset](https://www.imdb.com/interfaces/). This is the same dataset that we will use for the upcoming homework. We'll load it in using cell magic."
   ]
  },
  {
   "cell_type": "code",
   "execution_count": 26,
   "id": "29611fa9",
   "metadata": {},
   "outputs": [
    {
     "data": {
      "text/html": [
       "<table>\n",
       "    <thead>\n",
       "        <tr>\n",
       "            <th>type</th>\n",
       "            <th>name</th>\n",
       "            <th>tbl_name</th>\n",
       "            <th>rootpage</th>\n",
       "            <th>sql</th>\n",
       "        </tr>\n",
       "    </thead>\n",
       "    <tbody>\n",
       "        <tr>\n",
       "            <td>table</td>\n",
       "            <td>Title</td>\n",
       "            <td>Title</td>\n",
       "            <td>0</td>\n",
       "            <td>CREATE TABLE Title(tconst BIGINT, titleType VARCHAR, primaryTitle VARCHAR, originalTitle VARCHAR, isAdult VARCHAR, startYear VARCHAR, endYear VARCHAR, runtimeMinutes VARCHAR, genres VARCHAR);</td>\n",
       "        </tr>\n",
       "        <tr>\n",
       "            <td>table</td>\n",
       "            <td>Name</td>\n",
       "            <td>Name</td>\n",
       "            <td>0</td>\n",
       "            <td>CREATE TABLE \"Name\"(nconst BIGINT, primaryName VARCHAR, birthYear VARCHAR, deathYear VARCHAR, primaryProfession VARCHAR);</td>\n",
       "        </tr>\n",
       "        <tr>\n",
       "            <td>table</td>\n",
       "            <td>Role</td>\n",
       "            <td>Role</td>\n",
       "            <td>0</td>\n",
       "            <td>CREATE TABLE \"Role\"(tconst BIGINT, ordering VARCHAR, nconst BIGINT, category VARCHAR, job VARCHAR, characters VARCHAR);</td>\n",
       "        </tr>\n",
       "        <tr>\n",
       "            <td>table</td>\n",
       "            <td>Rating</td>\n",
       "            <td>Rating</td>\n",
       "            <td>0</td>\n",
       "            <td>CREATE TABLE Rating(tconst BIGINT, averageRating VARCHAR, numVotes VARCHAR);</td>\n",
       "        </tr>\n",
       "    </tbody>\n",
       "</table>"
      ],
      "text/plain": [
       "+-------+--------+----------+----------+-------------------------------------------------------------------------------------------------------------------------------------------------------------------------------------------------+\n",
       "|  type |  name  | tbl_name | rootpage |                                                                                               sql                                                                                               |\n",
       "+-------+--------+----------+----------+-------------------------------------------------------------------------------------------------------------------------------------------------------------------------------------------------+\n",
       "| table | Title  |  Title   |    0     | CREATE TABLE Title(tconst BIGINT, titleType VARCHAR, primaryTitle VARCHAR, originalTitle VARCHAR, isAdult VARCHAR, startYear VARCHAR, endYear VARCHAR, runtimeMinutes VARCHAR, genres VARCHAR); |\n",
       "| table |  Name  |   Name   |    0     |                                    CREATE TABLE \"Name\"(nconst BIGINT, primaryName VARCHAR, birthYear VARCHAR, deathYear VARCHAR, primaryProfession VARCHAR);                                    |\n",
       "| table |  Role  |   Role   |    0     |                                     CREATE TABLE \"Role\"(tconst BIGINT, ordering VARCHAR, nconst BIGINT, category VARCHAR, job VARCHAR, characters VARCHAR);                                     |\n",
       "| table | Rating |  Rating  |    0     |                                                           CREATE TABLE Rating(tconst BIGINT, averageRating VARCHAR, numVotes VARCHAR);                                                          |\n",
       "+-------+--------+----------+----------+-------------------------------------------------------------------------------------------------------------------------------------------------------------------------------------------------+"
      ]
     },
     "execution_count": 26,
     "metadata": {},
     "output_type": "execute_result"
    }
   ],
   "source": [
    "%%sql imdb_engine\n",
    "SELECT * FROM sqlite_master WHERE type='table';"
   ]
  },
  {
   "cell_type": "markdown",
   "id": "0a0a2b0e",
   "metadata": {},
   "source": [
    "From running the above cell, we see the database has 4 tables: `Name`, `Role`, `Rating`, and `Title`.\n",
    "\n",
    "<details open>\n",
    "    <summary>[<b>Click to Expand</b>] See descriptions of each table's schema.</summary>\n",
    "    \n",
    "**`Name`** – Contains the following information for names of people.\n",
    "    \n",
    "- nconst (integer) - alphanumeric unique identifier of the name/person\n",
    "- primaryName (text)– name by which the person is most often credited\n",
    "- birthYear (text) – in YYYY format\n",
    "- deathYear (text) – in YYYY format\n",
    "    \n",
    "    \n",
    "**`Role`** – Contains the principal cast/crew for titles.\n",
    "    \n",
    "- tconst (integer) - alphanumeric unique identifier of the title\n",
    "- ordering (text) – a number to uniquely identify rows for a given tconst\n",
    "- nconst (integer) - alphanumeric unique identifier of the name/person\n",
    "- category (text) - the category of job that person was in\n",
    "- characters (text) - the name of the character played if applicable, else '\\\\N'\n",
    "    \n",
    "**`Rating`** – Contains the IMDb rating and votes information for titles.\n",
    "    \n",
    "- tconst (integer) - alphanumeric unique identifier of the title\n",
    "- averageRating (text) – weighted average of all the individual user ratings\n",
    "- numVotes (text) - number of votes (i.e., ratings) the title has received\n",
    "    \n",
    "**`Title`** - Contains the following information for titles.\n",
    "    \n",
    "- tconst (integer) - alphanumeric unique identifier of the title\n",
    "- titleType (text) -  the type/format of the title\n",
    "- primaryTitle (text) -  the more popular title / the title used by the filmmakers on promotional materials at the point of release\n",
    "- isAdult (text) - 0: non-adult title; 1: adult title\n",
    "- Year (text) – represents the release year of a title.\n",
    "- runtimeMinutes (text)  – primary runtime of the title, in minutes\n",
    "    \n",
    "</details>\n",
    "\n",
    "<br/><br/>\n",
    "\n",
    "From the above descriptions, we can conclude the following:\n",
    "* `Name.nconst` and `Title.tconst` are primary keys of the `Name` and `Title` tables, respectively.\n",
    "* that `Role.nconst` and `Role.tconst` are **foreign keys** that point to `Name.nconst` and `Title.tconst`, respectively."
   ]
  },
  {
   "cell_type": "markdown",
   "id": "52676840",
   "metadata": {},
   "source": [
    "<br/><br/>\n",
    "\n",
    "---\n",
    "\n",
    "## Question 1\n",
    "\n",
    "What are the different kinds of `titleType`s included in the `Title` table? Write a query to find out all the unique `titleType`s of films using the `DISTINCT` keyword.  (**You may not use `GROUP BY`.**)"
   ]
  },
  {
   "cell_type": "code",
   "execution_count": 35,
   "id": "f200f309-b54a-4e07-95e1-79c489d0a21d",
   "metadata": {
    "tags": []
   },
   "outputs": [
    {
     "data": {
      "text/html": [
       "<table>\n",
       "    <thead>\n",
       "        <tr>\n",
       "            <th>titleType</th>\n",
       "        </tr>\n",
       "    </thead>\n",
       "    <tbody>\n",
       "        <tr>\n",
       "            <td>tvSeries</td>\n",
       "        </tr>\n",
       "        <tr>\n",
       "            <td>short</td>\n",
       "        </tr>\n",
       "        <tr>\n",
       "            <td>tvMovie</td>\n",
       "        </tr>\n",
       "        <tr>\n",
       "            <td>videoGame</td>\n",
       "        </tr>\n",
       "        <tr>\n",
       "            <td>tvSpecial</td>\n",
       "        </tr>\n",
       "        <tr>\n",
       "            <td>tvEpisode</td>\n",
       "        </tr>\n",
       "        <tr>\n",
       "            <td>video</td>\n",
       "        </tr>\n",
       "        <tr>\n",
       "            <td>tvMiniSeries</td>\n",
       "        </tr>\n",
       "        <tr>\n",
       "            <td>movie</td>\n",
       "        </tr>\n",
       "    </tbody>\n",
       "</table>"
      ],
      "text/plain": [
       "+--------------+\n",
       "|  titleType   |\n",
       "+--------------+\n",
       "|   tvSeries   |\n",
       "|    short     |\n",
       "|   tvMovie    |\n",
       "|  videoGame   |\n",
       "|  tvSpecial   |\n",
       "|  tvEpisode   |\n",
       "|    video     |\n",
       "| tvMiniSeries |\n",
       "|    movie     |\n",
       "+--------------+"
      ]
     },
     "execution_count": 35,
     "metadata": {},
     "output_type": "execute_result"
    }
   ],
   "source": [
    "%%sql imdb_engine --save query_q1\n",
    "select distinct\n",
    "titleType\n",
    "from Title;"
   ]
  },
  {
   "cell_type": "code",
   "execution_count": 36,
   "id": "4a9acaf5-ede1-429a-a43b-f8aaf5b234cc",
   "metadata": {
    "deletable": false,
    "editable": false
   },
   "outputs": [],
   "source": [
    "# Run this cell for grading purposes. \n",
    "# No further action is required. \n",
    "sql_q1 = %sqlcmd snippets query_q1\n",
    "res_q1 = pd.read_sql(sql_q1, imdb_mini_db)"
   ]
  },
  {
   "cell_type": "code",
   "execution_count": 37,
   "id": "35478777",
   "metadata": {
    "deletable": false,
    "editable": false
   },
   "outputs": [
    {
     "data": {
      "text/html": [
       "<p><strong><pre style='display: inline;'>q1</pre></strong> passed! 🌈</p>"
      ],
      "text/plain": [
       "q1 results: All test cases passed!"
      ]
     },
     "execution_count": 37,
     "metadata": {},
     "output_type": "execute_result"
    }
   ],
   "source": [
    "grader.check(\"q1\")"
   ]
  },
  {
   "cell_type": "markdown",
   "id": "7d6d7c4f",
   "metadata": {
    "tags": []
   },
   "source": [
    "<br><br>\n",
    "\n",
    "---\n",
    "\n",
    "## Question 2\n",
    "\n",
    "Before we proceed we want to get a better picture of the kinds of jobs that exist.  To do this examine the `Role` table by computing the number of records with each job `category`.  Present the results in descending order by the total counts.\n",
    "\n",
    "The top of your table should look like this (however, you should have more rows):\n",
    "\n",
    "| |category|total|\n",
    "|-----|-----|-----|\n",
    "|**0**|actor|21665|\n",
    "|**1**|writer|13830|\n",
    "|**2**|...|...|"
   ]
  },
  {
   "cell_type": "code",
   "execution_count": 42,
   "id": "c5d6b476-22a0-4ef1-b6ab-ef8da5c29097",
   "metadata": {
    "tags": []
   },
   "outputs": [
    {
     "data": {
      "text/html": [
       "<table>\n",
       "    <thead>\n",
       "        <tr>\n",
       "            <th>category</th>\n",
       "            <th>total</th>\n",
       "        </tr>\n",
       "    </thead>\n",
       "    <tbody>\n",
       "        <tr>\n",
       "            <td>actor</td>\n",
       "            <td>21665</td>\n",
       "        </tr>\n",
       "        <tr>\n",
       "            <td>writer</td>\n",
       "            <td>13830</td>\n",
       "        </tr>\n",
       "        <tr>\n",
       "            <td>actress</td>\n",
       "            <td>12175</td>\n",
       "        </tr>\n",
       "        <tr>\n",
       "            <td>producer</td>\n",
       "            <td>11028</td>\n",
       "        </tr>\n",
       "        <tr>\n",
       "            <td>director</td>\n",
       "            <td>6995</td>\n",
       "        </tr>\n",
       "        <tr>\n",
       "            <td>composer</td>\n",
       "            <td>4123</td>\n",
       "        </tr>\n",
       "        <tr>\n",
       "            <td>cinematographer</td>\n",
       "            <td>2747</td>\n",
       "        </tr>\n",
       "        <tr>\n",
       "            <td>editor</td>\n",
       "            <td>1558</td>\n",
       "        </tr>\n",
       "        <tr>\n",
       "            <td>self</td>\n",
       "            <td>623</td>\n",
       "        </tr>\n",
       "        <tr>\n",
       "            <td>production_designer</td>\n",
       "            <td>410</td>\n",
       "        </tr>\n",
       "        <tr>\n",
       "            <td>archive_footage</td>\n",
       "            <td>66</td>\n",
       "        </tr>\n",
       "        <tr>\n",
       "            <td>archive_sound</td>\n",
       "            <td>6</td>\n",
       "        </tr>\n",
       "    </tbody>\n",
       "</table>"
      ],
      "text/plain": [
       "+---------------------+-------+\n",
       "|       category      | total |\n",
       "+---------------------+-------+\n",
       "|        actor        | 21665 |\n",
       "|        writer       | 13830 |\n",
       "|       actress       | 12175 |\n",
       "|       producer      | 11028 |\n",
       "|       director      |  6995 |\n",
       "|       composer      |  4123 |\n",
       "|   cinematographer   |  2747 |\n",
       "|        editor       |  1558 |\n",
       "|         self        |  623  |\n",
       "| production_designer |  410  |\n",
       "|   archive_footage   |   66  |\n",
       "|    archive_sound    |   6   |\n",
       "+---------------------+-------+"
      ]
     },
     "execution_count": 42,
     "metadata": {},
     "output_type": "execute_result"
    }
   ],
   "source": [
    "%%sql imdb_engine --save query_q2\n",
    "select category,count(*) As total\n",
    "from Role\n",
    "group by category \n",
    "order by total Desc;"
   ]
  },
  {
   "cell_type": "code",
   "execution_count": 43,
   "id": "f3211a58",
   "metadata": {
    "deletable": false,
    "editable": false
   },
   "outputs": [],
   "source": [
    "# Run this cell for grading purposes. \n",
    "# No further action is required. \n",
    "sql_q2 = %sqlcmd snippets query_q2\n",
    "res_q2 = pd.read_sql(sql_q2, imdb_mini_db)"
   ]
  },
  {
   "cell_type": "code",
   "execution_count": 44,
   "id": "51527baf",
   "metadata": {
    "deletable": false,
    "editable": false
   },
   "outputs": [
    {
     "data": {
      "text/html": [
       "<p><strong><pre style='display: inline;'>q2</pre></strong> passed! 🙌</p>"
      ],
      "text/plain": [
       "q2 results: All test cases passed!"
      ]
     },
     "execution_count": 44,
     "metadata": {},
     "output_type": "execute_result"
    }
   ],
   "source": [
    "grader.check(\"q2\")"
   ]
  },
  {
   "cell_type": "markdown",
   "id": "7dd50dc7",
   "metadata": {},
   "source": [
    "<br/>\n",
    "If we computed the results correctly we should see a nice horizontal bar chart of the counts per category below:"
   ]
  },
  {
   "cell_type": "code",
   "execution_count": 45,
   "id": "b440f225",
   "metadata": {},
   "outputs": [
    {
     "data": {
      "image/png": "[encoded data removed]",
      "text/plain": [
       "<Figure size 640x480 with 1 Axes>"
      ]
     },
     "metadata": {},
     "output_type": "display_data"
    }
   ],
   "source": [
    "# Run this cell to make a bar plot.\n",
    "plt.barh(res_q2[\"category\"], res_q2[\"total\"])\n",
    "plt.xlabel(\"Counts\")\n",
    "plt.ylabel(\"Job Category\");"
   ]
  },
  {
   "cell_type": "markdown",
   "id": "9237fcdc",
   "metadata": {},
   "source": [
    "<br/><br/>\n",
    "\n",
    "---\n",
    "\n",
    "## Question 3\n",
    "\n",
    "Now that we have a better sense of the basics of our data, we can ask some more interesting questions.\n",
    "\n",
    "The `Rating` table has the `numVotes` and the `averageRating` for each title. Which 10 films have the most ratings?\n",
    "\n",
    "Write a SQL query that outputs three fields: the `title`, `numVotes`, and `averageRating` for the 10 films that have the highest number of ratings.  Sort the result in descending order by the number of votes.\n",
    "\n",
    "**Hint**: The `numVotes` in the `Rating` table is not an integer! Use `CAST(Rating.numVotes AS int) AS numVotes` to convert the attribute to an integer. "
   ]
  },
  {
   "cell_type": "code",
   "execution_count": 58,
   "id": "2dee497d-49c8-453a-bf91-2503edafbe72",
   "metadata": {
    "tags": []
   },
   "outputs": [
    {
     "data": {
      "text/html": [
       "<table>\n",
       "    <thead>\n",
       "        <tr>\n",
       "            <th>primaryTitle</th>\n",
       "            <th>numVotes</th>\n",
       "            <th>averageRating</th>\n",
       "        </tr>\n",
       "    </thead>\n",
       "    <tbody>\n",
       "        <tr>\n",
       "            <td>The Shawshank Redemption</td>\n",
       "            <td>2462686</td>\n",
       "            <td>9.3</td>\n",
       "        </tr>\n",
       "        <tr>\n",
       "            <td>The Dark Knight</td>\n",
       "            <td>2417875</td>\n",
       "            <td>9.0</td>\n",
       "        </tr>\n",
       "        <tr>\n",
       "            <td>Inception</td>\n",
       "            <td>2169255</td>\n",
       "            <td>8.8</td>\n",
       "        </tr>\n",
       "        <tr>\n",
       "            <td>Fight Club</td>\n",
       "            <td>1939312</td>\n",
       "            <td>8.8</td>\n",
       "        </tr>\n",
       "        <tr>\n",
       "            <td>Pulp Fiction</td>\n",
       "            <td>1907561</td>\n",
       "            <td>8.9</td>\n",
       "        </tr>\n",
       "        <tr>\n",
       "            <td>Forrest Gump</td>\n",
       "            <td>1903969</td>\n",
       "            <td>8.8</td>\n",
       "        </tr>\n",
       "        <tr>\n",
       "            <td>Game of Thrones</td>\n",
       "            <td>1874040</td>\n",
       "            <td>9.2</td>\n",
       "        </tr>\n",
       "        <tr>\n",
       "            <td>The Matrix</td>\n",
       "            <td>1756469</td>\n",
       "            <td>8.7</td>\n",
       "        </tr>\n",
       "        <tr>\n",
       "            <td>The Lord of the Rings: The Fellowship of the Ring</td>\n",
       "            <td>1730296</td>\n",
       "            <td>8.8</td>\n",
       "        </tr>\n",
       "        <tr>\n",
       "            <td>The Lord of the Rings: The Return of the King</td>\n",
       "            <td>1709023</td>\n",
       "            <td>8.9</td>\n",
       "        </tr>\n",
       "    </tbody>\n",
       "</table>"
      ],
      "text/plain": [
       "+---------------------------------------------------+----------+---------------+\n",
       "|                    primaryTitle                   | numVotes | averageRating |\n",
       "+---------------------------------------------------+----------+---------------+\n",
       "|              The Shawshank Redemption             | 2462686  |      9.3      |\n",
       "|                  The Dark Knight                  | 2417875  |      9.0      |\n",
       "|                     Inception                     | 2169255  |      8.8      |\n",
       "|                     Fight Club                    | 1939312  |      8.8      |\n",
       "|                    Pulp Fiction                   | 1907561  |      8.9      |\n",
       "|                    Forrest Gump                   | 1903969  |      8.8      |\n",
       "|                  Game of Thrones                  | 1874040  |      9.2      |\n",
       "|                     The Matrix                    | 1756469  |      8.7      |\n",
       "| The Lord of the Rings: The Fellowship of the Ring | 1730296  |      8.8      |\n",
       "|   The Lord of the Rings: The Return of the King   | 1709023  |      8.9      |\n",
       "+---------------------------------------------------+----------+---------------+"
      ]
     },
     "execution_count": 58,
     "metadata": {},
     "output_type": "execute_result"
    }
   ],
   "source": [
    "%%sql imdb_engine --save query_q3\n",
    "select primaryTitle,CAST(R.numVotes AS int) AS numVotes, averageRating\n",
    "FROM Title AS T INNER JOIN Rating AS R\n",
    "ON T.tconst = R.tconst \n",
    "order by numVotes desc\n",
    "limit 10;"
   ]
  },
  {
   "cell_type": "code",
   "execution_count": 59,
   "id": "1f76bd27",
   "metadata": {
    "deletable": false,
    "editable": false
   },
   "outputs": [],
   "source": [
    "# No further action is required. \n",
    "sql_q3 = %sqlcmd snippets query_q3\n",
    "res_q3 = pd.read_sql(sql_q3, imdb_mini_db)"
   ]
  },
  {
   "cell_type": "code",
   "execution_count": 60,
   "id": "5f977320",
   "metadata": {
    "deletable": false,
    "editable": false
   },
   "outputs": [
    {
     "data": {
      "text/html": [
       "<p><strong style='color: red;'><pre style='display: inline;'>q3</pre> results:</strong></p><p><strong><pre style='display: inline;'>q3 - 1</pre> result:</strong></p><pre>    ✅ Test case passed</pre><p><strong><pre style='display: inline;'>q3 - 2</pre> result:</strong></p><pre>    ❌ Test case failed\n",
       "    Trying:\n",
       "        set(res_q3.columns) == set(['title', 'numVotes', 'averageRating'])\n",
       "    Expecting:\n",
       "        True\n",
       "    **********************************************************************\n",
       "    Line 1, in q3 1\n",
       "    Failed example:\n",
       "        set(res_q3.columns) == set(['title', 'numVotes', 'averageRating'])\n",
       "    Expected:\n",
       "        True\n",
       "    Got:\n",
       "        False\n",
       "</pre><p><strong><pre style='display: inline;'>q3 - 3</pre> result:</strong></p><pre>    ✅ Test case passed</pre><p><strong><pre style='display: inline;'>q3 - 4</pre> result:</strong></p><pre>    ❌ Test case failed\n",
       "    Trying:\n",
       "        list(res_q3['title']) == ['The Shawshank Redemption', 'The Dark Knight', 'Inception', 'Fight Club', 'Pulp Fiction', 'Forrest Gump', 'Game of Thrones', 'The Matrix', 'The Lord of the Rings: The Fellowship of the Ring', 'The Lord of the Rings: The Return of the King']\n",
       "    Expecting:\n",
       "        True\n",
       "    **********************************************************************\n",
       "    Line 1, in q3 3\n",
       "    Failed example:\n",
       "        list(res_q3['title']) == ['The Shawshank Redemption', 'The Dark Knight', 'Inception', 'Fight Club', 'Pulp Fiction', 'Forrest Gump', 'Game of Thrones', 'The Matrix', 'The Lord of the Rings: The Fellowship of the Ring', 'The Lord of the Rings: The Return of the King']\n",
       "    Exception raised:\n",
       "        Traceback (most recent call last):\n",
       "          File \"C:\\Users\\siriusyz\\.conda\\envs\\cs189\\Lib\\site-packages\\pandas\\core\\indexes\\base.py\", line 3805, in get_loc\n",
       "            return self._engine.get_loc(casted_key)\n",
       "                   ^^^^^^^^^^^^^^^^^^^^^^^^^^^^^^^^\n",
       "          File \"index.pyx\", line 167, in pandas._libs.index.IndexEngine.get_loc\n",
       "          File \"index.pyx\", line 196, in pandas._libs.index.IndexEngine.get_loc\n",
       "          File \"pandas\\\\_libs\\\\hashtable_class_helper.pxi\", line 7081, in pandas._libs.hashtable.PyObjectHashTable.get_item\n",
       "          File \"pandas\\\\_libs\\\\hashtable_class_helper.pxi\", line 7089, in pandas._libs.hashtable.PyObjectHashTable.get_item\n",
       "        KeyError: 'title'\n",
       "\n",
       "        The above exception was the direct cause of the following exception:\n",
       "\n",
       "        Traceback (most recent call last):\n",
       "          File \"C:\\Users\\siriusyz\\.conda\\envs\\cs189\\Lib\\doctest.py\", line 1368, in __run\n",
       "            exec(compile(example.source, filename, \"single\",\n",
       "          File \"<doctest q3 3[0]>\", line 1, in <module>\n",
       "            list(res_q3['title']) == ['The Shawshank Redemption', 'The Dark Knight', 'Inception', 'Fight Club', 'Pulp Fiction', 'Forrest Gump', 'Game of Thrones', 'The Matrix', 'The Lord of the Rings: The Fellowship of the Ring', 'The Lord of the Rings: The Return of the King']\n",
       "                 ~~~~~~^^^^^^^^^\n",
       "          File \"C:\\Users\\siriusyz\\.conda\\envs\\cs189\\Lib\\site-packages\\pandas\\core\\frame.py\", line 4102, in __getitem__\n",
       "            indexer = self.columns.get_loc(key)\n",
       "                      ^^^^^^^^^^^^^^^^^^^^^^^^^\n",
       "          File \"C:\\Users\\siriusyz\\.conda\\envs\\cs189\\Lib\\site-packages\\pandas\\core\\indexes\\base.py\", line 3812, in get_loc\n",
       "            raise KeyError(key) from err\n",
       "        KeyError: 'title'\n",
       "</pre>"
      ],
      "text/plain": [
       "q3 results:\n",
       "    q3 - 1 result:\n",
       "        ✅ Test case passed\n",
       "\n",
       "    q3 - 2 result:\n",
       "        ❌ Test case failed\n",
       "        Trying:\n",
       "            set(res_q3.columns) == set(['title', 'numVotes', 'averageRating'])\n",
       "        Expecting:\n",
       "            True\n",
       "        **********************************************************************\n",
       "        Line 1, in q3 1\n",
       "        Failed example:\n",
       "            set(res_q3.columns) == set(['title', 'numVotes', 'averageRating'])\n",
       "        Expected:\n",
       "            True\n",
       "        Got:\n",
       "            False\n",
       "\n",
       "    q3 - 3 result:\n",
       "        ✅ Test case passed\n",
       "\n",
       "    q3 - 4 result:\n",
       "        ❌ Test case failed\n",
       "        Trying:\n",
       "            list(res_q3['title']) == ['The Shawshank Redemption', 'The Dark Knight', 'Inception', 'Fight Club', 'Pulp Fiction', 'Forrest Gump', 'Game of Thrones', 'The Matrix', 'The Lord of the Rings: The Fellowship of the Ring', 'The Lord of the Rings: The Return of the King']\n",
       "        Expecting:\n",
       "            True\n",
       "        **********************************************************************\n",
       "        Line 1, in q3 3\n",
       "        Failed example:\n",
       "            list(res_q3['title']) == ['The Shawshank Redemption', 'The Dark Knight', 'Inception', 'Fight Club', 'Pulp Fiction', 'Forrest Gump', 'Game of Thrones', 'The Matrix', 'The Lord of the Rings: The Fellowship of the Ring', 'The Lord of the Rings: The Return of the King']\n",
       "        Exception raised:\n",
       "            Traceback (most recent call last):\n",
       "              File \"C:\\Users\\siriusyz\\.conda\\envs\\cs189\\Lib\\site-packages\\pandas\\core\\indexes\\base.py\", line 3805, in get_loc\n",
       "                return self._engine.get_loc(casted_key)\n",
       "                       ^^^^^^^^^^^^^^^^^^^^^^^^^^^^^^^^\n",
       "              File \"index.pyx\", line 167, in pandas._libs.index.IndexEngine.get_loc\n",
       "              File \"index.pyx\", line 196, in pandas._libs.index.IndexEngine.get_loc\n",
       "              File \"pandas\\\\_libs\\\\hashtable_class_helper.pxi\", line 7081, in pandas._libs.hashtable.PyObjectHashTable.get_item\n",
       "              File \"pandas\\\\_libs\\\\hashtable_class_helper.pxi\", line 7089, in pandas._libs.hashtable.PyObjectHashTable.get_item\n",
       "            KeyError: 'title'\n",
       "\n",
       "            The above exception was the direct cause of the following exception:\n",
       "\n",
       "            Traceback (most recent call last):\n",
       "              File \"C:\\Users\\siriusyz\\.conda\\envs\\cs189\\Lib\\doctest.py\", line 1368, in __run\n",
       "                exec(compile(example.source, filename, \"single\",\n",
       "              File \"<doctest q3 3[0]>\", line 1, in <module>\n",
       "                list(res_q3['title']) == ['The Shawshank Redemption', 'The Dark Knight', 'Inception', 'Fight Club', 'Pulp Fiction', 'Forrest Gump', 'Game of Thrones', 'The Matrix', 'The Lord of the Rings: The Fellowship of the Ring', 'The Lord of the Rings: The Return of the King']\n",
       "                     ~~~~~~^^^^^^^^^\n",
       "              File \"C:\\Users\\siriusyz\\.conda\\envs\\cs189\\Lib\\site-packages\\pandas\\core\\frame.py\", line 4102, in __getitem__\n",
       "                indexer = self.columns.get_loc(key)\n",
       "                          ^^^^^^^^^^^^^^^^^^^^^^^^^\n",
       "              File \"C:\\Users\\siriusyz\\.conda\\envs\\cs189\\Lib\\site-packages\\pandas\\core\\indexes\\base.py\", line 3812, in get_loc\n",
       "                raise KeyError(key) from err\n",
       "            KeyError: 'title'"
      ]
     },
     "execution_count": 60,
     "metadata": {},
     "output_type": "execute_result"
    }
   ],
   "source": [
    "grader.check(\"q3\")"
   ]
  },
  {
   "cell_type": "markdown",
   "id": "c8fc97ae",
   "metadata": {},
   "source": [
    "<br/><br/>\n",
    "<hr style=\"border: 1px solid #fdb515;\" />\n",
    "\n",
    "# Part 2: Election Donations in New York City\n",
    "\n",
    "Finally, let's analyze the Federal Election Commission (FEC)'s public records. We connect to the database using cell magic so that we can flexibly explore the database."
   ]
  },
  {
   "cell_type": "code",
   "execution_count": 61,
   "id": "544bde36-4776-4622-ab0d-1510c0d52b3c",
   "metadata": {},
   "outputs": [
    {
     "data": {
      "text/html": [
       "<span style=\"None\">Connecting and switching to connection &#x27;fec_engine&#x27;</span>"
      ],
      "text/plain": [
       "Connecting and switching to connection 'fec_engine'"
      ]
     },
     "metadata": {},
     "output_type": "display_data"
    }
   ],
   "source": [
    "# Run this cell to connect to the fec_nyc database\n",
    "fec_nyc_db = 'duckdb:///' + str(path / 'fec_nyc.db')\n",
    "%sql duckdb:///../../../../../../../tmp/fec_nyc.db --alias fec_engine"
   ]
  },
  {
   "cell_type": "markdown",
   "id": "213fa029",
   "metadata": {
    "tags": []
   },
   "source": [
    "### Table Descriptions\n",
    "\n",
    "Run the below cell to explore the **schemas** of all tables saved in the database.\n",
    "\n",
    "If you'd like, you can consult the below linked FEC pages for the descriptions of the tables themselves.\n",
    "\n",
    "* `cand` ([link](https://www.fec.gov/campaign-finance-data/candidate-summary-file-description/)): Candidates table. Contains names and party affiliation.\n",
    "* `comm` ([link](https://www.fec.gov/campaign-finance-data/committee-summary-file-description/)): Committees table. Contains committee names and types.\n",
    "* `indiv_sample_nyc` ([link](https://www.fec.gov/campaign-finance-data/contributions-individuals-file-description)): All individual contributions from New York City ."
   ]
  },
  {
   "cell_type": "code",
   "execution_count": 62,
   "id": "67949b59",
   "metadata": {},
   "outputs": [
    {
     "data": {
      "text/html": [
       "<span style=\"None\">Running query in &#x27;fec_engine&#x27;</span>"
      ],
      "text/plain": [
       "Running query in 'fec_engine'"
      ]
     },
     "metadata": {},
     "output_type": "display_data"
    },
    {
     "data": {
      "text/html": [
       "<table>\n",
       "    <thead>\n",
       "        <tr>\n",
       "            <th>type</th>\n",
       "            <th>name</th>\n",
       "            <th>tbl_name</th>\n",
       "            <th>rootpage</th>\n",
       "            <th>sql</th>\n",
       "        </tr>\n",
       "    </thead>\n",
       "    <tbody>\n",
       "        <tr>\n",
       "            <td>table</td>\n",
       "            <td>comm</td>\n",
       "            <td>comm</td>\n",
       "            <td>0</td>\n",
       "            <td>CREATE TABLE comm(cmte_id VARCHAR, cmte_nm VARCHAR, tres_nm VARCHAR, cmte_st1 VARCHAR, cmte_st2 VARCHAR, cmte_city VARCHAR, cmte_st VARCHAR, cmte_zip VARCHAR, cmte_dsgn VARCHAR, cmte_tp VARCHAR, cmte_pty_affiliation VARCHAR, cmte_filing_freq VARCHAR, org_tp VARCHAR, connected_org_nm VARCHAR, cand_id VARCHAR);</td>\n",
       "        </tr>\n",
       "        <tr>\n",
       "            <td>table</td>\n",
       "            <td>indiv_sample_nyc</td>\n",
       "            <td>indiv_sample_nyc</td>\n",
       "            <td>0</td>\n",
       "            <td>CREATE TABLE indiv_sample_nyc(cmte_id VARCHAR, amndt_ind VARCHAR, rpt_tp VARCHAR, transaction_pgi VARCHAR, image_num BIGINT, transaction_tp VARCHAR, entity_tp VARCHAR, \"name\" VARCHAR, city VARCHAR, state VARCHAR, zip_code VARCHAR, employer VARCHAR, occupation VARCHAR, transaction_dt VARCHAR, transaction_amt BIGINT, other_id VARCHAR, tran_id VARCHAR, file_num BIGINT, memo_cd VARCHAR, memo_text VARCHAR, sub_id BIGINT);</td>\n",
       "        </tr>\n",
       "        <tr>\n",
       "            <td>table</td>\n",
       "            <td>cand</td>\n",
       "            <td>cand</td>\n",
       "            <td>0</td>\n",
       "            <td>CREATE TABLE cand(cand_id VARCHAR, cand_name VARCHAR, cand_pty_affiliation VARCHAR, cand_election_yr BIGINT, cand_office_st VARCHAR, cand_office VARCHAR, cand_ici VARCHAR, cand_status VARCHAR, cand_pcc VARCHAR, cand_st1 VARCHAR, cand_st2 VARCHAR, cand_city VARCHAR, cand_st VARCHAR, cand_zip VARCHAR);</td>\n",
       "        </tr>\n",
       "    </tbody>\n",
       "</table>"
      ],
      "text/plain": [
       "+-------+------------------+------------------+----------+--------------------------------------------------------------------------------------------------------------------------------------------------------------------------------------------------------------------------------------------------------------------------------------------------------------------------------------------------------------------------------------------------------------------------------------+\n",
       "|  type |       name       |     tbl_name     | rootpage |                                                                                                                                                                                                                 sql                                                                                                                                                                                                                  |\n",
       "+-------+------------------+------------------+----------+--------------------------------------------------------------------------------------------------------------------------------------------------------------------------------------------------------------------------------------------------------------------------------------------------------------------------------------------------------------------------------------------------------------------------------------+\n",
       "| table |       comm       |       comm       |    0     |                                                        CREATE TABLE comm(cmte_id VARCHAR, cmte_nm VARCHAR, tres_nm VARCHAR, cmte_st1 VARCHAR, cmte_st2 VARCHAR, cmte_city VARCHAR, cmte_st VARCHAR, cmte_zip VARCHAR, cmte_dsgn VARCHAR, cmte_tp VARCHAR, cmte_pty_affiliation VARCHAR, cmte_filing_freq VARCHAR, org_tp VARCHAR, connected_org_nm VARCHAR, cand_id VARCHAR);                                                        |\n",
       "| table | indiv_sample_nyc | indiv_sample_nyc |    0     | CREATE TABLE indiv_sample_nyc(cmte_id VARCHAR, amndt_ind VARCHAR, rpt_tp VARCHAR, transaction_pgi VARCHAR, image_num BIGINT, transaction_tp VARCHAR, entity_tp VARCHAR, \"name\" VARCHAR, city VARCHAR, state VARCHAR, zip_code VARCHAR, employer VARCHAR, occupation VARCHAR, transaction_dt VARCHAR, transaction_amt BIGINT, other_id VARCHAR, tran_id VARCHAR, file_num BIGINT, memo_cd VARCHAR, memo_text VARCHAR, sub_id BIGINT); |\n",
       "| table |       cand       |       cand       |    0     |                                                            CREATE TABLE cand(cand_id VARCHAR, cand_name VARCHAR, cand_pty_affiliation VARCHAR, cand_election_yr BIGINT, cand_office_st VARCHAR, cand_office VARCHAR, cand_ici VARCHAR, cand_status VARCHAR, cand_pcc VARCHAR, cand_st1 VARCHAR, cand_st2 VARCHAR, cand_city VARCHAR, cand_st VARCHAR, cand_zip VARCHAR);                                                             |\n",
       "+-------+------------------+------------------+----------+--------------------------------------------------------------------------------------------------------------------------------------------------------------------------------------------------------------------------------------------------------------------------------------------------------------------------------------------------------------------------------------------------------------------------------------+"
      ]
     },
     "execution_count": 62,
     "metadata": {},
     "output_type": "execute_result"
    }
   ],
   "source": [
    "%%sql \n",
    "/* just run this cell */\n",
    "SELECT * FROM sqlite_master WHERE type='table';"
   ]
  },
  {
   "cell_type": "markdown",
   "id": "621d912e",
   "metadata": {},
   "source": [
    "<br/><br/>\n",
    "\n",
    "Let's look at the `indiv_sample_nyc` table. The below cell displays individual donations made by residents of the state of New York. We use `LIMIT 5` to avoid loading and displaying a huge table."
   ]
  },
  {
   "cell_type": "code",
   "execution_count": 63,
   "id": "a57da69f",
   "metadata": {},
   "outputs": [
    {
     "data": {
      "text/html": [
       "<table>\n",
       "    <thead>\n",
       "        <tr>\n",
       "            <th>cmte_id</th>\n",
       "            <th>amndt_ind</th>\n",
       "            <th>rpt_tp</th>\n",
       "            <th>transaction_pgi</th>\n",
       "            <th>image_num</th>\n",
       "            <th>transaction_tp</th>\n",
       "            <th>entity_tp</th>\n",
       "            <th>name</th>\n",
       "            <th>city</th>\n",
       "            <th>state</th>\n",
       "            <th>zip_code</th>\n",
       "            <th>employer</th>\n",
       "            <th>occupation</th>\n",
       "            <th>transaction_dt</th>\n",
       "            <th>transaction_amt</th>\n",
       "            <th>other_id</th>\n",
       "            <th>tran_id</th>\n",
       "            <th>file_num</th>\n",
       "            <th>memo_cd</th>\n",
       "            <th>memo_text</th>\n",
       "            <th>sub_id</th>\n",
       "        </tr>\n",
       "    </thead>\n",
       "    <tbody>\n",
       "        <tr>\n",
       "            <td>C00445015</td>\n",
       "            <td>N</td>\n",
       "            <td>Q1</td>\n",
       "            <td>P    </td>\n",
       "            <td>15951128130</td>\n",
       "            <td>15</td>\n",
       "            <td>IND</td>\n",
       "            <td>SINGER, TRIPP MR.</td>\n",
       "            <td>NEW YORK</td>\n",
       "            <td>NY</td>\n",
       "            <td>100214505</td>\n",
       "            <td>ATLANTIC MAILBOXES, INC.</td>\n",
       "            <td>OWNER</td>\n",
       "            <td>01302015</td>\n",
       "            <td>1000</td>\n",
       "            <td></td>\n",
       "            <td>A-CF13736</td>\n",
       "            <td>1002485</td>\n",
       "            <td></td>\n",
       "            <td></td>\n",
       "            <td>4041420151241812398</td>\n",
       "        </tr>\n",
       "        <tr>\n",
       "            <td>C00510461</td>\n",
       "            <td>N</td>\n",
       "            <td>Q1</td>\n",
       "            <td>P    </td>\n",
       "            <td>15951129284</td>\n",
       "            <td>15E</td>\n",
       "            <td>IND</td>\n",
       "            <td>SIMON, DANIEL A</td>\n",
       "            <td>NEW YORK</td>\n",
       "            <td>NY</td>\n",
       "            <td>100237940</td>\n",
       "            <td>N/A</td>\n",
       "            <td>RETIRED</td>\n",
       "            <td>03292015</td>\n",
       "            <td>400</td>\n",
       "            <td>C00401224</td>\n",
       "            <td>VN8JBDDJBA8</td>\n",
       "            <td>1002590</td>\n",
       "            <td></td>\n",
       "            <td>* EARMARKED CONTRIBUTION: SEE BELOW</td>\n",
       "            <td>4041420151241813640</td>\n",
       "        </tr>\n",
       "        <tr>\n",
       "            <td>C00422410</td>\n",
       "            <td>N</td>\n",
       "            <td>Q1</td>\n",
       "            <td>P    </td>\n",
       "            <td>15970352211</td>\n",
       "            <td>15</td>\n",
       "            <td>IND</td>\n",
       "            <td>ABDUL RAUF, FEISAL</td>\n",
       "            <td>NEW YORK</td>\n",
       "            <td>NY</td>\n",
       "            <td>101150010</td>\n",
       "            <td>THE CORDOBA INITIATIVE</td>\n",
       "            <td>CHAIRMAN</td>\n",
       "            <td>03042015</td>\n",
       "            <td>250</td>\n",
       "            <td></td>\n",
       "            <td>VN8A3DBSYG6</td>\n",
       "            <td>1003643</td>\n",
       "            <td></td>\n",
       "            <td></td>\n",
       "            <td>4041620151241914560</td>\n",
       "        </tr>\n",
       "        <tr>\n",
       "            <td>C00510461</td>\n",
       "            <td>N</td>\n",
       "            <td>Q1</td>\n",
       "            <td>P    </td>\n",
       "            <td>15951129280</td>\n",
       "            <td>15</td>\n",
       "            <td>IND</td>\n",
       "            <td>SCHWARZER, FRANK</td>\n",
       "            <td>NEW YORK</td>\n",
       "            <td>NY</td>\n",
       "            <td>100145135</td>\n",
       "            <td>METRO HYDRAULIC JACK CO</td>\n",
       "            <td>SALES</td>\n",
       "            <td>01162015</td>\n",
       "            <td>100</td>\n",
       "            <td></td>\n",
       "            <td>VN8JBDAP4C4</td>\n",
       "            <td>1002590</td>\n",
       "            <td></td>\n",
       "            <td>* EARMARKED CONTRIBUTION: SEE BELOW</td>\n",
       "            <td>4041420151241813630</td>\n",
       "        </tr>\n",
       "        <tr>\n",
       "            <td>C00510461</td>\n",
       "            <td>N</td>\n",
       "            <td>Q1</td>\n",
       "            <td>P    </td>\n",
       "            <td>15951129281</td>\n",
       "            <td>15</td>\n",
       "            <td>IND</td>\n",
       "            <td>SCHWARZER, FRANK</td>\n",
       "            <td>NEW YORK</td>\n",
       "            <td>NY</td>\n",
       "            <td>100145135</td>\n",
       "            <td>METRO HYDRAULIC JACK CO</td>\n",
       "            <td>SALES</td>\n",
       "            <td>02162015</td>\n",
       "            <td>100</td>\n",
       "            <td></td>\n",
       "            <td>VN8JBDBRDG3</td>\n",
       "            <td>1002590</td>\n",
       "            <td></td>\n",
       "            <td>* EARMARKED CONTRIBUTION: SEE BELOW</td>\n",
       "            <td>4041420151241813632</td>\n",
       "        </tr>\n",
       "    </tbody>\n",
       "</table>"
      ],
      "text/plain": [
       "+-----------+-----------+--------+-----------------+-------------+----------------+-----------+--------------------+----------+-------+-----------+--------------------------+------------+----------------+-----------------+-----------+-------------+----------+---------+-------------------------------------+---------------------+\n",
       "|  cmte_id  | amndt_ind | rpt_tp | transaction_pgi |  image_num  | transaction_tp | entity_tp |        name        |   city   | state |  zip_code |         employer         | occupation | transaction_dt | transaction_amt |  other_id |   tran_id   | file_num | memo_cd |              memo_text              |        sub_id       |\n",
       "+-----------+-----------+--------+-----------------+-------------+----------------+-----------+--------------------+----------+-------+-----------+--------------------------+------------+----------------+-----------------+-----------+-------------+----------+---------+-------------------------------------+---------------------+\n",
       "| C00445015 |     N     |   Q1   |      P          | 15951128130 |       15       |    IND    | SINGER, TRIPP MR.  | NEW YORK |   NY  | 100214505 | ATLANTIC MAILBOXES, INC. |   OWNER    |    01302015    |       1000      |           |  A-CF13736  | 1002485  |         |                                     | 4041420151241812398 |\n",
       "| C00510461 |     N     |   Q1   |      P          | 15951129284 |      15E       |    IND    |  SIMON, DANIEL A   | NEW YORK |   NY  | 100237940 |           N/A            |  RETIRED   |    03292015    |       400       | C00401224 | VN8JBDDJBA8 | 1002590  |         | * EARMARKED CONTRIBUTION: SEE BELOW | 4041420151241813640 |\n",
       "| C00422410 |     N     |   Q1   |      P          | 15970352211 |       15       |    IND    | ABDUL RAUF, FEISAL | NEW YORK |   NY  | 101150010 |  THE CORDOBA INITIATIVE  |  CHAIRMAN  |    03042015    |       250       |           | VN8A3DBSYG6 | 1003643  |         |                                     | 4041620151241914560 |\n",
       "| C00510461 |     N     |   Q1   |      P          | 15951129280 |       15       |    IND    |  SCHWARZER, FRANK  | NEW YORK |   NY  | 100145135 | METRO HYDRAULIC JACK CO  |   SALES    |    01162015    |       100       |           | VN8JBDAP4C4 | 1002590  |         | * EARMARKED CONTRIBUTION: SEE BELOW | 4041420151241813630 |\n",
       "| C00510461 |     N     |   Q1   |      P          | 15951129281 |       15       |    IND    |  SCHWARZER, FRANK  | NEW YORK |   NY  | 100145135 | METRO HYDRAULIC JACK CO  |   SALES    |    02162015    |       100       |           | VN8JBDBRDG3 | 1002590  |         | * EARMARKED CONTRIBUTION: SEE BELOW | 4041420151241813632 |\n",
       "+-----------+-----------+--------+-----------------+-------------+----------------+-----------+--------------------+----------+-------+-----------+--------------------------+------------+----------------+-----------------+-----------+-------------+----------+---------+-------------------------------------+---------------------+"
      ]
     },
     "execution_count": 63,
     "metadata": {},
     "output_type": "execute_result"
    }
   ],
   "source": [
    "%%sql fec_engine\n",
    "/* just run this cell */\n",
    "SELECT *\n",
    "FROM indiv_sample_nyc\n",
    "LIMIT 5;"
   ]
  },
  {
   "cell_type": "markdown",
   "id": "ca62c429",
   "metadata": {},
   "source": [
    "You can write a SQL query to return the id and name of the first five candidates from the Democratic party, as below:"
   ]
  },
  {
   "cell_type": "code",
   "execution_count": null,
   "id": "e351e3a2",
   "metadata": {},
   "outputs": [],
   "source": [
    "%%sql fec_engine\n",
    "/* just run this cell */\n",
    "SELECT cand_id, cand_name\n",
    "FROM cand\n",
    "WHERE cand_pty_affiliation = 'DEM'\n",
    "LIMIT 5;"
   ]
  },
  {
   "cell_type": "markdown",
   "id": "eeadbf0d",
   "metadata": {},
   "source": [
    "<br/><br/>\n",
    "<hr style=\"border: 1px solid #fdb515;\" />\n",
    "\n",
    "## [Tutorial] Matching Text with `LIKE`"
   ]
  },
  {
   "cell_type": "markdown",
   "id": "33f5accf",
   "metadata": {},
   "source": [
    "First, let's look at 2016 election contributions made by Donald Trump, who was a New York (NY) resident during that year. The following SQL query returns the `cmte_id`, `transaction_amt`, and `name` for every contribution made by any donor with \"DONALD\" and \"TRUMP\" in their name in the `indiv_sample_nyc` table.\n",
    "\n",
    "**Notes:**\n",
    "* We use the `WHERE ... LIKE '...'` to match fields with text patterns. The `%` wildcard represents at least zero characters. Compare this to what you know from regex!\n",
    "* We use `pd.read_sql` syntax here because we will do some EDA on the result `res`."
   ]
  },
  {
   "cell_type": "code",
   "execution_count": 64,
   "id": "5efe3ce0",
   "metadata": {},
   "outputs": [
    {
     "data": {
      "text/html": [
       "<div>\n",
       "<style scoped>\n",
       "    .dataframe tbody tr th:only-of-type {\n",
       "        vertical-align: middle;\n",
       "    }\n",
       "\n",
       "    .dataframe tbody tr th {\n",
       "        vertical-align: top;\n",
       "    }\n",
       "\n",
       "    .dataframe thead th {\n",
       "        text-align: right;\n",
       "    }\n",
       "</style>\n",
       "<table border=\"1\" class=\"dataframe\">\n",
       "  <thead>\n",
       "    <tr style=\"text-align: right;\">\n",
       "      <th></th>\n",
       "      <th>cmte_id</th>\n",
       "      <th>transaction_amt</th>\n",
       "      <th>name</th>\n",
       "    </tr>\n",
       "  </thead>\n",
       "  <tbody>\n",
       "    <tr>\n",
       "      <th>0</th>\n",
       "      <td>C00230482</td>\n",
       "      <td>2600</td>\n",
       "      <td>DONALD, TRUMP</td>\n",
       "    </tr>\n",
       "    <tr>\n",
       "      <th>1</th>\n",
       "      <td>C00230482</td>\n",
       "      <td>2600</td>\n",
       "      <td>DONALD, TRUMP</td>\n",
       "    </tr>\n",
       "    <tr>\n",
       "      <th>2</th>\n",
       "      <td>C00014498</td>\n",
       "      <td>9000</td>\n",
       "      <td>TRUMP, DONALD</td>\n",
       "    </tr>\n",
       "    <tr>\n",
       "      <th>3</th>\n",
       "      <td>C00494229</td>\n",
       "      <td>2000</td>\n",
       "      <td>TRUMP, DONALD MR</td>\n",
       "    </tr>\n",
       "    <tr>\n",
       "      <th>4</th>\n",
       "      <td>C00571869</td>\n",
       "      <td>2700</td>\n",
       "      <td>TRUMP, DONALD J.</td>\n",
       "    </tr>\n",
       "    <tr>\n",
       "      <th>...</th>\n",
       "      <td>...</td>\n",
       "      <td>...</td>\n",
       "      <td>...</td>\n",
       "    </tr>\n",
       "    <tr>\n",
       "      <th>152</th>\n",
       "      <td>C00608489</td>\n",
       "      <td>5</td>\n",
       "      <td>DONALD J TRUMP FOR PRESIDENT INC</td>\n",
       "    </tr>\n",
       "    <tr>\n",
       "      <th>153</th>\n",
       "      <td>C00608489</td>\n",
       "      <td>5</td>\n",
       "      <td>DONALD J TRUMP FOR PRESIDENT INC</td>\n",
       "    </tr>\n",
       "    <tr>\n",
       "      <th>154</th>\n",
       "      <td>C00608489</td>\n",
       "      <td>5</td>\n",
       "      <td>DONALD J TRUMP FOR PRESIDENT INC</td>\n",
       "    </tr>\n",
       "    <tr>\n",
       "      <th>155</th>\n",
       "      <td>C00608489</td>\n",
       "      <td>5</td>\n",
       "      <td>DONALD J TRUMP FOR PRESIDENT INC</td>\n",
       "    </tr>\n",
       "    <tr>\n",
       "      <th>156</th>\n",
       "      <td>C00608489</td>\n",
       "      <td>5</td>\n",
       "      <td>DONALD J TRUMP FOR PRESIDENT INC</td>\n",
       "    </tr>\n",
       "  </tbody>\n",
       "</table>\n",
       "<p>157 rows × 3 columns</p>\n",
       "</div>"
      ],
      "text/plain": [
       "       cmte_id  transaction_amt                              name\n",
       "0    C00230482             2600                     DONALD, TRUMP\n",
       "1    C00230482             2600                     DONALD, TRUMP\n",
       "2    C00014498             9000                     TRUMP, DONALD\n",
       "3    C00494229             2000                  TRUMP, DONALD MR\n",
       "4    C00571869             2700                  TRUMP, DONALD J.\n",
       "..         ...              ...                               ...\n",
       "152  C00608489                5  DONALD J TRUMP FOR PRESIDENT INC\n",
       "153  C00608489                5  DONALD J TRUMP FOR PRESIDENT INC\n",
       "154  C00608489                5  DONALD J TRUMP FOR PRESIDENT INC\n",
       "155  C00608489                5  DONALD J TRUMP FOR PRESIDENT INC\n",
       "156  C00608489                5  DONALD J TRUMP FOR PRESIDENT INC\n",
       "\n",
       "[157 rows x 3 columns]"
      ]
     },
     "execution_count": 64,
     "metadata": {},
     "output_type": "execute_result"
    }
   ],
   "source": [
    "# Run this cell to see an example of LIKE.\n",
    "example_query = \"\"\"\n",
    "SELECT \n",
    "    cmte_id,\n",
    "    transaction_amt,\n",
    "    name\n",
    "FROM indiv_sample_nyc\n",
    "WHERE name LIKE '%TRUMP%' AND name LIKE '%DONALD%';\n",
    "\"\"\"\n",
    "\n",
    "example_res = pd.read_sql(example_query, fec_nyc_db)\n",
    "example_res"
   ]
  },
  {
   "cell_type": "markdown",
   "id": "8df58345",
   "metadata": {},
   "source": [
    "If we look at the list above, it appears that some donations were not by Donald Trump himself, but instead by an entity called \"DONALD J TRUMP FOR PRESIDENT INC\". Fortunately, we see that our query only seems to have picked up one such anomalous name."
   ]
  },
  {
   "cell_type": "code",
   "execution_count": 65,
   "id": "86fe74ad",
   "metadata": {
    "tags": []
   },
   "outputs": [
    {
     "data": {
      "text/plain": [
       "name\n",
       "TRUMP, DONALD J.                    133\n",
       "DONALD J TRUMP FOR PRESIDENT INC     15\n",
       "TRUMP, DONALD                         4\n",
       "DONALD, TRUMP                         2\n",
       "TRUMP, DONALD MR                      1\n",
       "TRUMP, DONALD J MR.                   1\n",
       "TRUMP, DONALD J MR                    1\n",
       "Name: count, dtype: int64"
      ]
     },
     "execution_count": 65,
     "metadata": {},
     "output_type": "execute_result"
    }
   ],
   "source": [
    "# Run this cell to see the value counts for each candidate.\n",
    "example_res['name'].value_counts()"
   ]
  },
  {
   "cell_type": "markdown",
   "id": "40efee1c",
   "metadata": {},
   "source": [
    "<br/><br/>\n",
    "\n",
    "---\n",
    "\n",
    "## Question 4\n",
    "\n",
    "\n",
    "\n",
    "In the cell below, revise the above query so that the 15 anomalous donations made by \"DONALD J TRUMP FOR PRESIDENT INC\" do not appear. Your resulting table should have 142 rows. \n",
    "\n",
    "**Hints:**\n",
    "* Consider using the above query as a starting point, or checking out the SQL query skeleton at the top of this lab. \n",
    "* The `NOT` keyword may also be useful here.\n"
   ]
  },
  {
   "cell_type": "code",
   "execution_count": 70,
   "id": "1789d87c-3182-4a9f-888f-6c750e1c4355",
   "metadata": {
    "tags": []
   },
   "outputs": [
    {
     "data": {
      "text/html": [
       "<table>\n",
       "    <thead>\n",
       "        <tr>\n",
       "            <th>cmte_id</th>\n",
       "            <th>transaction_amt</th>\n",
       "            <th>name</th>\n",
       "        </tr>\n",
       "    </thead>\n",
       "    <tbody>\n",
       "        <tr>\n",
       "            <td>C00230482</td>\n",
       "            <td>2600</td>\n",
       "            <td>DONALD, TRUMP</td>\n",
       "        </tr>\n",
       "        <tr>\n",
       "            <td>C00230482</td>\n",
       "            <td>2600</td>\n",
       "            <td>DONALD, TRUMP</td>\n",
       "        </tr>\n",
       "        <tr>\n",
       "            <td>C00014498</td>\n",
       "            <td>9000</td>\n",
       "            <td>TRUMP, DONALD</td>\n",
       "        </tr>\n",
       "        <tr>\n",
       "            <td>C00494229</td>\n",
       "            <td>2000</td>\n",
       "            <td>TRUMP, DONALD MR</td>\n",
       "        </tr>\n",
       "        <tr>\n",
       "            <td>C00571869</td>\n",
       "            <td>2700</td>\n",
       "            <td>TRUMP, DONALD J.</td>\n",
       "        </tr>\n",
       "        <tr>\n",
       "            <td>C00571869</td>\n",
       "            <td>2700</td>\n",
       "            <td>TRUMP, DONALD J.</td>\n",
       "        </tr>\n",
       "        <tr>\n",
       "            <td>C00136457</td>\n",
       "            <td>5000</td>\n",
       "            <td>TRUMP, DONALD</td>\n",
       "        </tr>\n",
       "        <tr>\n",
       "            <td>C00034033</td>\n",
       "            <td>5000</td>\n",
       "            <td>TRUMP, DONALD</td>\n",
       "        </tr>\n",
       "        <tr>\n",
       "            <td>C00580100</td>\n",
       "            <td>4049</td>\n",
       "            <td>TRUMP, DONALD J.</td>\n",
       "        </tr>\n",
       "        <tr>\n",
       "            <td>C00554949</td>\n",
       "            <td>2600</td>\n",
       "            <td>TRUMP, DONALD J MR.</td>\n",
       "        </tr>\n",
       "        <tr>\n",
       "            <td>C00369033</td>\n",
       "            <td>1000</td>\n",
       "            <td>TRUMP, DONALD J MR</td>\n",
       "        </tr>\n",
       "        <tr>\n",
       "            <td>C00580100</td>\n",
       "            <td>514</td>\n",
       "            <td>TRUMP, DONALD J.</td>\n",
       "        </tr>\n",
       "        <tr>\n",
       "            <td>C00580100</td>\n",
       "            <td>2574</td>\n",
       "            <td>TRUMP, DONALD J.</td>\n",
       "        </tr>\n",
       "        <tr>\n",
       "            <td>C00580100</td>\n",
       "            <td>4049</td>\n",
       "            <td>TRUMP, DONALD J.</td>\n",
       "        </tr>\n",
       "        <tr>\n",
       "            <td>C00580100</td>\n",
       "            <td>2574</td>\n",
       "            <td>TRUMP, DONALD J.</td>\n",
       "        </tr>\n",
       "        <tr>\n",
       "            <td>C00580100</td>\n",
       "            <td>4049</td>\n",
       "            <td>TRUMP, DONALD J.</td>\n",
       "        </tr>\n",
       "        <tr>\n",
       "            <td>C00580100</td>\n",
       "            <td>2574</td>\n",
       "            <td>TRUMP, DONALD J.</td>\n",
       "        </tr>\n",
       "        <tr>\n",
       "            <td>C00580100</td>\n",
       "            <td>4958</td>\n",
       "            <td>TRUMP, DONALD J.</td>\n",
       "        </tr>\n",
       "        <tr>\n",
       "            <td>C00580100</td>\n",
       "            <td>1713</td>\n",
       "            <td>TRUMP, DONALD J.</td>\n",
       "        </tr>\n",
       "        <tr>\n",
       "            <td>C00580100</td>\n",
       "            <td>2574</td>\n",
       "            <td>TRUMP, DONALD J.</td>\n",
       "        </tr>\n",
       "    </tbody>\n",
       "</table>\n",
       "<span style=\"font-style:italic;text-align:center;\">Truncated to <a href=\"https://jupysql.ploomber.io/en/latest/api/configuration.html#displaylimit\">displaylimit</a> of 20.</span>"
      ],
      "text/plain": [
       "+-----------+-----------------+---------------------+\n",
       "|  cmte_id  | transaction_amt |         name        |\n",
       "+-----------+-----------------+---------------------+\n",
       "| C00230482 |       2600      |    DONALD, TRUMP    |\n",
       "| C00230482 |       2600      |    DONALD, TRUMP    |\n",
       "| C00014498 |       9000      |    TRUMP, DONALD    |\n",
       "| C00494229 |       2000      |   TRUMP, DONALD MR  |\n",
       "| C00571869 |       2700      |   TRUMP, DONALD J.  |\n",
       "| C00571869 |       2700      |   TRUMP, DONALD J.  |\n",
       "| C00136457 |       5000      |    TRUMP, DONALD    |\n",
       "| C00034033 |       5000      |    TRUMP, DONALD    |\n",
       "| C00580100 |       4049      |   TRUMP, DONALD J.  |\n",
       "| C00554949 |       2600      | TRUMP, DONALD J MR. |\n",
       "| C00369033 |       1000      |  TRUMP, DONALD J MR |\n",
       "| C00580100 |       514       |   TRUMP, DONALD J.  |\n",
       "| C00580100 |       2574      |   TRUMP, DONALD J.  |\n",
       "| C00580100 |       4049      |   TRUMP, DONALD J.  |\n",
       "| C00580100 |       2574      |   TRUMP, DONALD J.  |\n",
       "| C00580100 |       4049      |   TRUMP, DONALD J.  |\n",
       "| C00580100 |       2574      |   TRUMP, DONALD J.  |\n",
       "| C00580100 |       4958      |   TRUMP, DONALD J.  |\n",
       "| C00580100 |       1713      |   TRUMP, DONALD J.  |\n",
       "| C00580100 |       2574      |   TRUMP, DONALD J.  |\n",
       "+-----------+-----------------+---------------------+\n",
       "Truncated to displaylimit of 20."
      ]
     },
     "execution_count": 70,
     "metadata": {},
     "output_type": "execute_result"
    }
   ],
   "source": [
    "%%sql fec_engine --save query_q4 \n",
    "SELECT \n",
    "    cmte_id,\n",
    "    transaction_amt,\n",
    "    name\n",
    "FROM indiv_sample_nyc\n",
    "WHERE name LIKE '%TRUMP%' AND name LIKE '%DONALD%' AND name not like '%INC%';\n"
   ]
  },
  {
   "cell_type": "code",
   "execution_count": 67,
   "id": "ab64b3a2",
   "metadata": {
    "deletable": false,
    "editable": false
   },
   "outputs": [],
   "source": [
    "# Run this cell for grading purposes. \n",
    "# No further action is required. \n",
    "sql_q4 = %sqlcmd snippets query_q4\n",
    "res_q4 = pd.read_sql(sql_q4, fec_nyc_db)"
   ]
  },
  {
   "cell_type": "code",
   "execution_count": 68,
   "id": "d2cfec96-3a96-4754-bc56-daafebe9e12e",
   "metadata": {
    "deletable": false,
    "editable": false
   },
   "outputs": [
    {
     "data": {
      "text/plain": [
       "142"
      ]
     },
     "execution_count": 68,
     "metadata": {},
     "output_type": "execute_result"
    }
   ],
   "source": [
    "# Print the number of rows in your query\n",
    "# Double check that this equals 142 \n",
    "res_q4.shape[0]"
   ]
  },
  {
   "cell_type": "code",
   "execution_count": 69,
   "id": "9d151d2e",
   "metadata": {
    "deletable": false,
    "editable": false
   },
   "outputs": [
    {
     "data": {
      "text/html": [
       "<p><strong><pre style='display: inline;'>q4</pre></strong> passed! 💯</p>"
      ],
      "text/plain": [
       "q4 results: All test cases passed!"
      ]
     },
     "execution_count": 69,
     "metadata": {},
     "output_type": "execute_result"
    }
   ],
   "source": [
    "grader.check(\"q4\")"
   ]
  },
  {
   "cell_type": "markdown",
   "id": "4daeebb9",
   "metadata": {},
   "source": [
    "<br/><br/>\n",
    "\n",
    "---\n",
    "\n",
    "## Question 5: `JOIN`ing Tables\n",
    "\n",
    "Let's explore the other two tables in our database: `cand` and `comm`.\n",
    "\n",
    "The `cand` table contains summary financial information about each candidate registered with the FEC or appearing on an official state ballot for House, Senate or President."
   ]
  },
  {
   "cell_type": "code",
   "execution_count": 72,
   "id": "0f61a18b",
   "metadata": {},
   "outputs": [
    {
     "data": {
      "text/html": [
       "<table>\n",
       "    <thead>\n",
       "        <tr>\n",
       "            <th>cand_id</th>\n",
       "            <th>cand_name</th>\n",
       "            <th>cand_pty_affiliation</th>\n",
       "            <th>cand_election_yr</th>\n",
       "            <th>cand_office_st</th>\n",
       "            <th>cand_office</th>\n",
       "            <th>cand_ici</th>\n",
       "            <th>cand_status</th>\n",
       "            <th>cand_pcc</th>\n",
       "            <th>cand_st1</th>\n",
       "            <th>cand_st2</th>\n",
       "            <th>cand_city</th>\n",
       "            <th>cand_st</th>\n",
       "            <th>cand_zip</th>\n",
       "        </tr>\n",
       "    </thead>\n",
       "    <tbody>\n",
       "        <tr>\n",
       "            <td>P60007358</td>\n",
       "            <td>BRANDKAMP, SPENCER</td>\n",
       "            <td>W</td>\n",
       "            <td>2016</td>\n",
       "            <td>US</td>\n",
       "            <td>P</td>\n",
       "            <td>O</td>\n",
       "            <td>N</td>\n",
       "            <td></td>\n",
       "            <td>4200 CHEROKEE ROAD</td>\n",
       "            <td></td>\n",
       "            <td>ROGERS</td>\n",
       "            <td>AR</td>\n",
       "            <td>72758</td>\n",
       "        </tr>\n",
       "        <tr>\n",
       "            <td>H2PA09035</td>\n",
       "            <td>SHUSTER, WILLIAM MR.</td>\n",
       "            <td>REP</td>\n",
       "            <td>2016</td>\n",
       "            <td>PA</td>\n",
       "            <td>H</td>\n",
       "            <td>I</td>\n",
       "            <td>C</td>\n",
       "            <td>C00364935</td>\n",
       "            <td>455 OVERLOOK DR</td>\n",
       "            <td></td>\n",
       "            <td>HOLLIDAYSBURG</td>\n",
       "            <td>PA</td>\n",
       "            <td>16648</td>\n",
       "        </tr>\n",
       "        <tr>\n",
       "            <td>P60013604</td>\n",
       "            <td>MANIS, ROBERT</td>\n",
       "            <td>IDP</td>\n",
       "            <td>2016</td>\n",
       "            <td>US</td>\n",
       "            <td>P</td>\n",
       "            <td>O</td>\n",
       "            <td>N</td>\n",
       "            <td>C00586909</td>\n",
       "            <td>TRIPLE CANOPY A-J A-1</td>\n",
       "            <td>KBOSSS</td>\n",
       "            <td>APO AE</td>\n",
       "            <td>NV</td>\n",
       "            <td>09366</td>\n",
       "        </tr>\n",
       "        <tr>\n",
       "            <td>P60016706</td>\n",
       "            <td>DEBATE, EMBRACE THE</td>\n",
       "            <td>REP</td>\n",
       "            <td>2016</td>\n",
       "            <td>US</td>\n",
       "            <td>P</td>\n",
       "            <td>O</td>\n",
       "            <td>N</td>\n",
       "            <td></td>\n",
       "            <td>EMBRACETHEDEBATE@YMAIL.COM</td>\n",
       "            <td></td>\n",
       "            <td>EMBRACETHEDEBATE.WORDPRESS.COM</td>\n",
       "            <td>DC</td>\n",
       "            <td>20500</td>\n",
       "        </tr>\n",
       "        <tr>\n",
       "            <td>S6FL00392</td>\n",
       "            <td>SHOWEN, PAUL VINCENT</td>\n",
       "            <td>REP</td>\n",
       "            <td>2016</td>\n",
       "            <td>FL</td>\n",
       "            <td>S</td>\n",
       "            <td>C</td>\n",
       "            <td>N</td>\n",
       "            <td></td>\n",
       "            <td>530 19TH ST NW/MIRA LAGO WEST</td>\n",
       "            <td></td>\n",
       "            <td>RUSKIN</td>\n",
       "            <td>FL</td>\n",
       "            <td>335702905</td>\n",
       "        </tr>\n",
       "    </tbody>\n",
       "</table>"
      ],
      "text/plain": [
       "+-----------+----------------------+----------------------+------------------+----------------+-------------+----------+-------------+-----------+-------------------------------+----------+--------------------------------+---------+-----------+\n",
       "|  cand_id  |      cand_name       | cand_pty_affiliation | cand_election_yr | cand_office_st | cand_office | cand_ici | cand_status |  cand_pcc |            cand_st1           | cand_st2 |           cand_city            | cand_st |  cand_zip |\n",
       "+-----------+----------------------+----------------------+------------------+----------------+-------------+----------+-------------+-----------+-------------------------------+----------+--------------------------------+---------+-----------+\n",
       "| P60007358 |  BRANDKAMP, SPENCER  |          W           |       2016       |       US       |      P      |    O     |      N      |           |       4200 CHEROKEE ROAD      |          |             ROGERS             |    AR   |   72758   |\n",
       "| H2PA09035 | SHUSTER, WILLIAM MR. |         REP          |       2016       |       PA       |      H      |    I     |      C      | C00364935 |        455 OVERLOOK DR        |          |         HOLLIDAYSBURG          |    PA   |   16648   |\n",
       "| P60013604 |    MANIS, ROBERT     |         IDP          |       2016       |       US       |      P      |    O     |      N      | C00586909 |     TRIPLE CANOPY A-J A-1     |  KBOSSS  |             APO AE             |    NV   |   09366   |\n",
       "| P60016706 | DEBATE, EMBRACE THE  |         REP          |       2016       |       US       |      P      |    O     |      N      |           |   EMBRACETHEDEBATE@YMAIL.COM  |          | EMBRACETHEDEBATE.WORDPRESS.COM |    DC   |   20500   |\n",
       "| S6FL00392 | SHOWEN, PAUL VINCENT |         REP          |       2016       |       FL       |      S      |    C     |      N      |           | 530 19TH ST NW/MIRA LAGO WEST |          |             RUSKIN             |    FL   | 335702905 |\n",
       "+-----------+----------------------+----------------------+------------------+----------------+-------------+----------+-------------+-----------+-------------------------------+----------+--------------------------------+---------+-----------+"
      ]
     },
     "execution_count": 72,
     "metadata": {},
     "output_type": "execute_result"
    }
   ],
   "source": [
    "%%sql fec_engine\n",
    "/* just run this cell */\n",
    "SELECT *\n",
    "FROM cand\n",
    "    ORDER BY RANDOM()\n",
    "LIMIT 5;"
   ]
  },
  {
   "cell_type": "markdown",
   "id": "ea38844b",
   "metadata": {},
   "source": [
    "The `comm` table contains summary financial information about each committee registered with the FEC. Committees are organizations that spend money for political action or parties, or spend money for or against political candidates."
   ]
  },
  {
   "cell_type": "code",
   "execution_count": 73,
   "id": "d8906810",
   "metadata": {},
   "outputs": [
    {
     "data": {
      "text/html": [
       "<table>\n",
       "    <thead>\n",
       "        <tr>\n",
       "            <th>cmte_id</th>\n",
       "            <th>cmte_nm</th>\n",
       "            <th>tres_nm</th>\n",
       "            <th>cmte_st1</th>\n",
       "            <th>cmte_st2</th>\n",
       "            <th>cmte_city</th>\n",
       "            <th>cmte_st</th>\n",
       "            <th>cmte_zip</th>\n",
       "            <th>cmte_dsgn</th>\n",
       "            <th>cmte_tp</th>\n",
       "            <th>cmte_pty_affiliation</th>\n",
       "            <th>cmte_filing_freq</th>\n",
       "            <th>org_tp</th>\n",
       "            <th>connected_org_nm</th>\n",
       "            <th>cand_id</th>\n",
       "        </tr>\n",
       "    </thead>\n",
       "    <tbody>\n",
       "        <tr>\n",
       "            <td>C00000059</td>\n",
       "            <td>HALLMARK CARDS PAC</td>\n",
       "            <td>ERIN BROWER</td>\n",
       "            <td>2501 MCGEE</td>\n",
       "            <td>MD#288</td>\n",
       "            <td>KANSAS CITY</td>\n",
       "            <td>MO</td>\n",
       "            <td>64108</td>\n",
       "            <td>U</td>\n",
       "            <td>Q</td>\n",
       "            <td>UNK</td>\n",
       "            <td>M</td>\n",
       "            <td>C</td>\n",
       "            <td></td>\n",
       "            <td></td>\n",
       "        </tr>\n",
       "        <tr>\n",
       "            <td>C00000422</td>\n",
       "            <td>AMERICAN MEDICAL ASSOCIATION POLITICAL ACTION COMMITTEE</td>\n",
       "            <td>WALKER, KEVIN</td>\n",
       "            <td>25 MASSACHUSETTS AVE, NW</td>\n",
       "            <td>SUITE 600</td>\n",
       "            <td>WASHINGTON</td>\n",
       "            <td>DC</td>\n",
       "            <td>20001</td>\n",
       "            <td>B</td>\n",
       "            <td>Q</td>\n",
       "            <td></td>\n",
       "            <td>M</td>\n",
       "            <td>M</td>\n",
       "            <td>AMERICAN MEDICAL ASSOCIATION</td>\n",
       "            <td></td>\n",
       "        </tr>\n",
       "        <tr>\n",
       "            <td>C00000489</td>\n",
       "            <td>D R I V E POLITICAL FUND CHAPTER 886</td>\n",
       "            <td>TOM RITTER</td>\n",
       "            <td>3528 W RENO</td>\n",
       "            <td></td>\n",
       "            <td>OKLAHOMA CITY</td>\n",
       "            <td>OK</td>\n",
       "            <td>73107</td>\n",
       "            <td>U</td>\n",
       "            <td>N</td>\n",
       "            <td></td>\n",
       "            <td>Q</td>\n",
       "            <td>L</td>\n",
       "            <td>TEAMSTERS LOCAL UNION 886</td>\n",
       "            <td></td>\n",
       "        </tr>\n",
       "        <tr>\n",
       "            <td>C00000547</td>\n",
       "            <td>KANSAS MEDICAL SOCIETY POLITICAL ACTION COMMITTEE</td>\n",
       "            <td>C. RICHARD BONEBRAKE, M.D.</td>\n",
       "            <td>623 SW 10TH AVE</td>\n",
       "            <td></td>\n",
       "            <td>TOPEKA</td>\n",
       "            <td>KS</td>\n",
       "            <td>66612</td>\n",
       "            <td>U</td>\n",
       "            <td>Q</td>\n",
       "            <td>UNK</td>\n",
       "            <td>Q</td>\n",
       "            <td>T</td>\n",
       "            <td></td>\n",
       "            <td></td>\n",
       "        </tr>\n",
       "        <tr>\n",
       "            <td>C00000638</td>\n",
       "            <td>INDIANA STATE MEDICAL ASSOCIATION POLITICAL ACTION COMMITTEE</td>\n",
       "            <td>VIDYA KORA, M.D.</td>\n",
       "            <td>322 CANAL WALK, CANAL LEVEL</td>\n",
       "            <td></td>\n",
       "            <td>INDIANAPOLIS</td>\n",
       "            <td>IN</td>\n",
       "            <td>46202</td>\n",
       "            <td>U</td>\n",
       "            <td>Q</td>\n",
       "            <td></td>\n",
       "            <td>Q</td>\n",
       "            <td>M</td>\n",
       "            <td></td>\n",
       "            <td></td>\n",
       "        </tr>\n",
       "    </tbody>\n",
       "</table>"
      ],
      "text/plain": [
       "+-----------+--------------------------------------------------------------+----------------------------+-----------------------------+-----------+---------------+---------+----------+-----------+---------+----------------------+------------------+--------+------------------------------+---------+\n",
       "|  cmte_id  |                           cmte_nm                            |          tres_nm           |           cmte_st1          |  cmte_st2 |   cmte_city   | cmte_st | cmte_zip | cmte_dsgn | cmte_tp | cmte_pty_affiliation | cmte_filing_freq | org_tp |       connected_org_nm       | cand_id |\n",
       "+-----------+--------------------------------------------------------------+----------------------------+-----------------------------+-----------+---------------+---------+----------+-----------+---------+----------------------+------------------+--------+------------------------------+---------+\n",
       "| C00000059 |                      HALLMARK CARDS PAC                      |        ERIN BROWER         |          2501 MCGEE         |   MD#288  |  KANSAS CITY  |    MO   |  64108   |     U     |    Q    |         UNK          |        M         |   C    |                              |         |\n",
       "| C00000422 |   AMERICAN MEDICAL ASSOCIATION POLITICAL ACTION COMMITTEE    |       WALKER, KEVIN        |   25 MASSACHUSETTS AVE, NW  | SUITE 600 |   WASHINGTON  |    DC   |  20001   |     B     |    Q    |                      |        M         |   M    | AMERICAN MEDICAL ASSOCIATION |         |\n",
       "| C00000489 |             D R I V E POLITICAL FUND CHAPTER 886             |         TOM RITTER         |         3528 W RENO         |           | OKLAHOMA CITY |    OK   |  73107   |     U     |    N    |                      |        Q         |   L    |  TEAMSTERS LOCAL UNION 886   |         |\n",
       "| C00000547 |      KANSAS MEDICAL SOCIETY POLITICAL ACTION COMMITTEE       | C. RICHARD BONEBRAKE, M.D. |       623 SW 10TH AVE       |           |     TOPEKA    |    KS   |  66612   |     U     |    Q    |         UNK          |        Q         |   T    |                              |         |\n",
       "| C00000638 | INDIANA STATE MEDICAL ASSOCIATION POLITICAL ACTION COMMITTEE |      VIDYA KORA, M.D.      | 322 CANAL WALK, CANAL LEVEL |           |  INDIANAPOLIS |    IN   |  46202   |     U     |    Q    |                      |        Q         |   M    |                              |         |\n",
       "+-----------+--------------------------------------------------------------+----------------------------+-----------------------------+-----------+---------------+---------+----------+-----------+---------+----------------------+------------------+--------+------------------------------+---------+"
      ]
     },
     "execution_count": 73,
     "metadata": {},
     "output_type": "execute_result"
    }
   ],
   "source": [
    "%%sql fec_engine\n",
    "/* just run this cell */\n",
    "SELECT *\n",
    "FROM comm\n",
    "LIMIT 5;"
   ]
  },
  {
   "cell_type": "markdown",
   "id": "ce21e7ce",
   "metadata": {
    "tags": []
   },
   "source": [
    "<br><br>\n",
    "\n",
    "---\n",
    "\n",
    "### Question 5a\n",
    "\n",
    "Notice that both the `cand` and `comm` tables have a `cand_id` column. Let's try joining these two tables on this column to print out committee information for candidates.\n",
    "\n",
    "List the first 5 candidate names (`cand_name`) in reverse lexicographic order (i.e reverse alphabetical order) by `cand_name`, along with their corresponding committee names. **Only select rows that have a matching `cand_id` in both tables.**\n",
    "\n",
    "Your output should look similar to the following:\n",
    "\n",
    "|cand_name|cmte_nm|\n",
    "|----|----|\n",
    "|ZUTLER, DANIEL PAUL MR|CITIZENS TO ELECT DANIEL P ZUTLER FOR PRESIDENT|\n",
    "|ZUMWALT, JAMES|ZUMWALT FOR CONGRESS|\n",
    "|...|...|\n",
    "\n",
    "Consider starting from the following query skeleton, which uses the `AS` keyword to rename the `cand` and `comm` tables to `c1` and `c2`, respectively.\n",
    "Which join is most appropriate?\n",
    "\n",
    "    SELECT ...\n",
    "    FROM cand AS c1\n",
    "        [INNER | {LEFT |RIGHT | FULL } {OUTER}] JOIN comm AS c2\n",
    "        ON ...\n",
    "    ...\n",
    "    ...;\n"
   ]
  },
  {
   "cell_type": "code",
   "execution_count": 78,
   "id": "4ad09cb9-3aec-4012-945a-b3a3747d0106",
   "metadata": {
    "tags": []
   },
   "outputs": [
    {
     "data": {
      "text/html": [
       "<table>\n",
       "    <thead>\n",
       "        <tr>\n",
       "            <th>cand_name</th>\n",
       "            <th>cmte_nm</th>\n",
       "        </tr>\n",
       "    </thead>\n",
       "    <tbody>\n",
       "        <tr>\n",
       "            <td>ZUTLER, DANIEL PAUL MR</td>\n",
       "            <td>CITIZENS TO ELECT DANIEL P ZUTLER FOR PRESIDENT</td>\n",
       "        </tr>\n",
       "        <tr>\n",
       "            <td>ZUMWALT, JAMES</td>\n",
       "            <td>ZUMWALT FOR CONGRESS</td>\n",
       "        </tr>\n",
       "        <tr>\n",
       "            <td>ZUKOWSKI, ANDREW GEORGE</td>\n",
       "            <td>ZUKOWSKI FOR CONGRESS</td>\n",
       "        </tr>\n",
       "        <tr>\n",
       "            <td>ZUCCOLO, JOE</td>\n",
       "            <td>JOE ZUCCOLO FOR CONGRESS</td>\n",
       "        </tr>\n",
       "        <tr>\n",
       "            <td>ZORN, ROBERT ERWIN</td>\n",
       "            <td>CONSTITUTIONAL COMMITTEE</td>\n",
       "        </tr>\n",
       "    </tbody>\n",
       "</table>"
      ],
      "text/plain": [
       "+-------------------------+-------------------------------------------------+\n",
       "|        cand_name        |                     cmte_nm                     |\n",
       "+-------------------------+-------------------------------------------------+\n",
       "|  ZUTLER, DANIEL PAUL MR | CITIZENS TO ELECT DANIEL P ZUTLER FOR PRESIDENT |\n",
       "|      ZUMWALT, JAMES     |               ZUMWALT FOR CONGRESS              |\n",
       "| ZUKOWSKI, ANDREW GEORGE |              ZUKOWSKI FOR CONGRESS              |\n",
       "|       ZUCCOLO, JOE      |             JOE ZUCCOLO FOR CONGRESS            |\n",
       "|    ZORN, ROBERT ERWIN   |             CONSTITUTIONAL COMMITTEE            |\n",
       "+-------------------------+-------------------------------------------------+"
      ]
     },
     "execution_count": 78,
     "metadata": {},
     "output_type": "execute_result"
    }
   ],
   "source": [
    "%%sql fec_engine --save query_q5a \n",
    "select cand_name,cmte_nm\n",
    "from cand as c1 join comm as c2 on c1.cand_id=c2.cand_id\n",
    "order by cand_name desc\n",
    "limit 5;"
   ]
  },
  {
   "cell_type": "code",
   "execution_count": 79,
   "id": "d53a973d",
   "metadata": {
    "deletable": false,
    "editable": false
   },
   "outputs": [],
   "source": [
    "# Run this cell for grading purposes. \n",
    "# No further action is required. \n",
    "sql_q5a = %sqlcmd snippets query_q5a\n",
    "res_q5a = pd.read_sql(sql_q5a, fec_nyc_db)"
   ]
  },
  {
   "cell_type": "code",
   "execution_count": 80,
   "id": "9fa1b314",
   "metadata": {
    "deletable": false,
    "editable": false
   },
   "outputs": [
    {
     "data": {
      "text/html": [
       "<p><strong><pre style='display: inline;'>q5a</pre></strong> passed! 🌟</p>"
      ],
      "text/plain": [
       "q5a results: All test cases passed!"
      ]
     },
     "execution_count": 80,
     "metadata": {},
     "output_type": "execute_result"
    }
   ],
   "source": [
    "grader.check(\"q5a\")"
   ]
  },
  {
   "cell_type": "markdown",
   "id": "37333332",
   "metadata": {
    "tags": []
   },
   "source": [
    "<br/><br/>\n",
    "\n",
    "---\n",
    "\n",
    "### Question 5b\n",
    "\n",
    "Suppose we modify the query from the previous part to include *all* candidates, **including those that don't have a committee.**\n",
    "\n",
    "\n",
    "List the first 5 candidate names (`cand_name`) in reverse lexicographic order by `cand_name`, along with their corresponding committee names. If the candidate has no committee in the `comm` table, then `cmte_nm` should be NULL (or `None` in the `python` representation).\n",
    "\n",
    "Your output should look similar to the following:\n",
    "\n",
    "|cand_name|cmte_nm|\n",
    "|----|----|\n",
    "|ZUTLER, DANIEL PAUL MR|CITIZENS TO ELECT DANIEL P ZUTLER FOR PRESIDENT|\n",
    "|...|...|\n",
    "|ZORNOW, TODD MR|None|\n",
    "\n",
    "**Hint**: Start from the same query skeleton as the previous part. \n",
    "Which join is most appropriate?"
   ]
  },
  {
   "cell_type": "code",
   "execution_count": 81,
   "id": "aac01aca",
   "metadata": {
    "tags": []
   },
   "outputs": [
    {
     "data": {
      "text/html": [
       "<table>\n",
       "    <thead>\n",
       "        <tr>\n",
       "            <th>cand_name</th>\n",
       "            <th>cmte_nm</th>\n",
       "        </tr>\n",
       "    </thead>\n",
       "    <tbody>\n",
       "        <tr>\n",
       "            <td>ZUTLER, DANIEL PAUL MR</td>\n",
       "            <td>CITIZENS TO ELECT DANIEL P ZUTLER FOR PRESIDENT</td>\n",
       "        </tr>\n",
       "        <tr>\n",
       "            <td>ZUMWALT, JAMES</td>\n",
       "            <td>ZUMWALT FOR CONGRESS</td>\n",
       "        </tr>\n",
       "        <tr>\n",
       "            <td>ZUKOWSKI, ANDREW GEORGE</td>\n",
       "            <td>ZUKOWSKI FOR CONGRESS</td>\n",
       "        </tr>\n",
       "        <tr>\n",
       "            <td>ZUCCOLO, JOE</td>\n",
       "            <td>JOE ZUCCOLO FOR CONGRESS</td>\n",
       "        </tr>\n",
       "        <tr>\n",
       "            <td>ZORNOW, TODD MR</td>\n",
       "            <td>None</td>\n",
       "        </tr>\n",
       "    </tbody>\n",
       "</table>"
      ],
      "text/plain": [
       "+-------------------------+-------------------------------------------------+\n",
       "|        cand_name        |                     cmte_nm                     |\n",
       "+-------------------------+-------------------------------------------------+\n",
       "|  ZUTLER, DANIEL PAUL MR | CITIZENS TO ELECT DANIEL P ZUTLER FOR PRESIDENT |\n",
       "|      ZUMWALT, JAMES     |               ZUMWALT FOR CONGRESS              |\n",
       "| ZUKOWSKI, ANDREW GEORGE |              ZUKOWSKI FOR CONGRESS              |\n",
       "|       ZUCCOLO, JOE      |             JOE ZUCCOLO FOR CONGRESS            |\n",
       "|     ZORNOW, TODD MR     |                       None                      |\n",
       "+-------------------------+-------------------------------------------------+"
      ]
     },
     "execution_count": 81,
     "metadata": {},
     "output_type": "execute_result"
    }
   ],
   "source": [
    "%%sql fec_engine --save query_q5b\n",
    "select cand_name,cmte_nm\n",
    "from cand as c1 left join comm as c2 on c1.cand_id=c2.cand_id\n",
    "order by cand_name desc\n",
    "limit 5;"
   ]
  },
  {
   "cell_type": "code",
   "execution_count": 82,
   "id": "404ccd53",
   "metadata": {
    "deletable": false,
    "editable": false
   },
   "outputs": [],
   "source": [
    "# Run this cell for grading purposes. \n",
    "# No further action is required. \n",
    "sql_q5b = %sqlcmd snippets query_q5b\n",
    "res_q5b = pd.read_sql(sql_q5b, fec_nyc_db)"
   ]
  },
  {
   "cell_type": "code",
   "execution_count": 83,
   "id": "50cfd6d5",
   "metadata": {
    "deletable": false,
    "editable": false
   },
   "outputs": [
    {
     "data": {
      "text/html": [
       "<p><strong><pre style='display: inline;'>q5b</pre></strong> passed! 💯</p>"
      ],
      "text/plain": [
       "q5b results: All test cases passed!"
      ]
     },
     "execution_count": 83,
     "metadata": {},
     "output_type": "execute_result"
    }
   ],
   "source": [
    "grader.check(\"q5b\")"
   ]
  },
  {
   "cell_type": "markdown",
   "id": "42407eaf",
   "metadata": {},
   "source": [
    "<br/><br/>\n",
    "\n",
    "---\n",
    "\n",
    "## Question 6: Subqueries and Grouping\n",
    "\n",
    "If we return to our results from Question 4, we see that many of the contributions were to the same committee:"
   ]
  },
  {
   "cell_type": "code",
   "execution_count": 84,
   "id": "98dced2b",
   "metadata": {
    "scrolled": true
   },
   "outputs": [
    {
     "data": {
      "text/plain": [
       "cmte_id\n",
       "C00580100    131\n",
       "C00230482      2\n",
       "C00571869      2\n",
       "C00014498      1\n",
       "C00494229      1\n",
       "C00136457      1\n",
       "C00034033      1\n",
       "C00554949      1\n",
       "C00369033      1\n",
       "C00055582      1\n",
       "Name: count, dtype: int64"
      ]
     },
     "execution_count": 84,
     "metadata": {},
     "output_type": "execute_result"
    }
   ],
   "source": [
    "# Your SQL query result from Question 4\n",
    "# Reprinted for your convenience\n",
    "res_q4['cmte_id'].value_counts()"
   ]
  },
  {
   "cell_type": "markdown",
   "id": "def42719",
   "metadata": {},
   "source": [
    "<br><br>\n",
    "\n",
    "For this question, create a new SQL query that returns the total amount that Donald Trump contributed to each committee.\n",
    "\n",
    "Your table should have four columns: `cmte_id`, `total_amount` (total amount contributed to that committee), `num_donations` (total number of donations), and `cmte_nm` (name of the committee). Your table should be sorted in **decreasing order** of `total_amount`.\n",
    "\n",
    "Your output should look similar to the following:\n",
    "\n",
    "|cmte_id|total_amount|num_donations|cmte_nm|\n",
    "|----|----|----|----|\n",
    "|C00580100|18633157|131|DONALD J. TRUMP FOR PRESIDENT, INC.|\n",
    "|C00055582|10000|1|NY REPUBLICAN FEDERAL CAMPAIGN COMMITTEE\n",
    "|...|...|...|\n",
    "\n",
    "**This is a hard question!** Don't be afraid to reference the lecture slides, or the overall SQL query skeleton at the top of this lab.\n",
    "\n",
    "**Hint**:\n",
    "\n",
    "* Note that committee names are not available in `indiv_sample_nyc`, so you will have to obtain information somehow from the `comm` table (perhaps a `JOIN` would be useful).\n",
    "* Remember that you can compute summary statistics after grouping by using aggregates like `COUNT(*)`, `SUM()` as output fields.\n",
    "* A **subquery** may be useful (but not required) to break your question down into subparts. Consider the following query skeleton, which uses the `WITH` operator to store a subquery's results in a temporary table named `donations`.\n",
    "\n",
    "        WITH donations AS (\n",
    "            SELECT ...\n",
    "            FROM ...\n",
    "            ... JOIN ...\n",
    "                ON ...\n",
    "            WHERE ...\n",
    "        )\n",
    "        SELECT ...\n",
    "        FROM donations\n",
    "        GROUP BY ...\n",
    "        ORDER BY ...;\n",
    "  \n",
    "**Note**: The video walkthrough solution may not be fully correct here. Remember that when using `GROUP BY`, all columns in the `SELECT` statement must either be present in the `GROUP BY` clause or be used in an aggregate function. For example:\n",
    "\n",
    "        SELECT titleType, SUM(runtimeMinutes), Year\n",
    "\t\tFROM Title\n",
    "\t\tGROUP BY titleType;\n",
    "\n",
    "Here, this query violates the rule because `Year` is included in the SELECT statement without being either part of an aggregate function or listed in the `GROUP BY` clause.\n"
   ]
  },
  {
   "cell_type": "code",
   "execution_count": 110,
   "id": "8e8c7594",
   "metadata": {
    "tags": []
   },
   "outputs": [
    {
     "data": {
      "text/html": [
       "<table>\n",
       "    <thead>\n",
       "        <tr>\n",
       "            <th>cmte_id</th>\n",
       "            <th>total_amount</th>\n",
       "            <th>num_donations</th>\n",
       "            <th>cmte_nm</th>\n",
       "        </tr>\n",
       "    </thead>\n",
       "    <tbody>\n",
       "        <tr>\n",
       "            <td>C00580100</td>\n",
       "            <td>18633157</td>\n",
       "            <td>131</td>\n",
       "            <td>DONALD J. TRUMP FOR PRESIDENT, INC.</td>\n",
       "        </tr>\n",
       "        <tr>\n",
       "            <td>C00055582</td>\n",
       "            <td>10000</td>\n",
       "            <td>1</td>\n",
       "            <td>NY REPUBLICAN FEDERAL CAMPAIGN COMMITTEE</td>\n",
       "        </tr>\n",
       "        <tr>\n",
       "            <td>C00014498</td>\n",
       "            <td>9000</td>\n",
       "            <td>1</td>\n",
       "            <td>REPUBLICAN PARTY OF IOWA</td>\n",
       "        </tr>\n",
       "        <tr>\n",
       "            <td>C00571869</td>\n",
       "            <td>5400</td>\n",
       "            <td>2</td>\n",
       "            <td>DONOVAN FOR CONGRESS</td>\n",
       "        </tr>\n",
       "        <tr>\n",
       "            <td>C00230482</td>\n",
       "            <td>5200</td>\n",
       "            <td>2</td>\n",
       "            <td>GRASSLEY COMMITTEE INC</td>\n",
       "        </tr>\n",
       "        <tr>\n",
       "            <td>C00136457</td>\n",
       "            <td>5000</td>\n",
       "            <td>1</td>\n",
       "            <td>NEW HAMPSHIRE REPUBLICAN STATE COMMITTEE</td>\n",
       "        </tr>\n",
       "        <tr>\n",
       "            <td>C00034033</td>\n",
       "            <td>5000</td>\n",
       "            <td>1</td>\n",
       "            <td>SOUTH CAROLINA REPUBLICAN PARTY</td>\n",
       "        </tr>\n",
       "        <tr>\n",
       "            <td>C00554949</td>\n",
       "            <td>2600</td>\n",
       "            <td>1</td>\n",
       "            <td>FRIENDS OF DAVE BRAT INC.</td>\n",
       "        </tr>\n",
       "        <tr>\n",
       "            <td>C00494229</td>\n",
       "            <td>2000</td>\n",
       "            <td>1</td>\n",
       "            <td>HELLER FOR SENATE</td>\n",
       "        </tr>\n",
       "        <tr>\n",
       "            <td>C00369033</td>\n",
       "            <td>1000</td>\n",
       "            <td>1</td>\n",
       "            <td>TEXANS FOR SENATOR JOHN CORNYN INC</td>\n",
       "        </tr>\n",
       "    </tbody>\n",
       "</table>"
      ],
      "text/plain": [
       "+-----------+--------------+---------------+------------------------------------------+\n",
       "|  cmte_id  | total_amount | num_donations |                 cmte_nm                  |\n",
       "+-----------+--------------+---------------+------------------------------------------+\n",
       "| C00580100 |   18633157   |      131      |   DONALD J. TRUMP FOR PRESIDENT, INC.    |\n",
       "| C00055582 |    10000     |       1       | NY REPUBLICAN FEDERAL CAMPAIGN COMMITTEE |\n",
       "| C00014498 |     9000     |       1       |         REPUBLICAN PARTY OF IOWA         |\n",
       "| C00571869 |     5400     |       2       |           DONOVAN FOR CONGRESS           |\n",
       "| C00230482 |     5200     |       2       |          GRASSLEY COMMITTEE INC          |\n",
       "| C00136457 |     5000     |       1       | NEW HAMPSHIRE REPUBLICAN STATE COMMITTEE |\n",
       "| C00034033 |     5000     |       1       |     SOUTH CAROLINA REPUBLICAN PARTY      |\n",
       "| C00554949 |     2600     |       1       |        FRIENDS OF DAVE BRAT INC.         |\n",
       "| C00494229 |     2000     |       1       |            HELLER FOR SENATE             |\n",
       "| C00369033 |     1000     |       1       |    TEXANS FOR SENATOR JOHN CORNYN INC    |\n",
       "+-----------+--------------+---------------+------------------------------------------+"
      ]
     },
     "execution_count": 110,
     "metadata": {},
     "output_type": "execute_result"
    }
   ],
   "source": [
    "%%sql fec_engine --save query_q6\n",
    "with donations as (\n",
    "    SELECT \n",
    "    i.cmte_id,\n",
    "    transaction_amt,\n",
    "    cmte_nm\n",
    "FROM indiv_sample_nyc as i join comm as c on i.cmte_id=c.cmte_id\n",
    "WHERE name LIKE '%TRUMP%' AND name LIKE '%DONALD%' AND name not like '%INC%')\n",
    "select cmte_id, sum(transaction_amt) as total_amount, count(*) as num_donations, first(cmte_nm) as cmte_nm\n",
    "from donations \n",
    "group by cmte_id\n",
    "order by total_amount desc;"
   ]
  },
  {
   "cell_type": "code",
   "execution_count": 108,
   "id": "20babf35",
   "metadata": {
    "deletable": false,
    "editable": false
   },
   "outputs": [],
   "source": [
    "# Run this cell for grading purposes. \n",
    "# No further action is required. \n",
    "sql_q6 = %sqlcmd snippets query_q6\n",
    "res_q6 = pd.read_sql(sql_q6, fec_nyc_db)"
   ]
  },
  {
   "cell_type": "code",
   "execution_count": 109,
   "id": "a92c2cf3",
   "metadata": {
    "deletable": false,
    "editable": false
   },
   "outputs": [
    {
     "data": {
      "text/html": [
       "<p><strong style='color: red;'><pre style='display: inline;'>q6</pre> results:</strong></p><p><strong><pre style='display: inline;'>q6 - 1</pre> result:</strong></p><pre>    ❌ Test case failed\n",
       "    Trying:\n",
       "        res_q6.shape == (10, 4)\n",
       "    Expecting:\n",
       "        True\n",
       "    **********************************************************************\n",
       "    Line 1, in q6 0\n",
       "    Failed example:\n",
       "        res_q6.shape == (10, 4)\n",
       "    Expected:\n",
       "        True\n",
       "    Got:\n",
       "        False\n",
       "</pre><p><strong><pre style='display: inline;'>q6 - 2</pre> result:</strong></p><pre>    ✅ Test case passed</pre><p><strong><pre style='display: inline;'>q6 - 3</pre> result:</strong></p><pre>    ✅ Test case passed</pre><p><strong><pre style='display: inline;'>q6 - 4</pre> result:</strong></p><pre>    ❌ Test case failed\n",
       "    Trying:\n",
       "        sorted(res_q6['cmte_nm']) == ['DONALD J. TRUMP FOR PRESIDENT, INC.', 'DONOVAN FOR CONGRESS', 'FRIENDS OF DAVE BRAT INC.', 'GRASSLEY COMMITTEE INC', 'HELLER FOR SENATE', 'NEW HAMPSHIRE REPUBLICAN STATE COMMITTEE', 'NY REPUBLICAN FEDERAL CAMPAIGN COMMITTEE', 'REPUBLICAN PARTY OF IOWA', 'SOUTH CAROLINA REPUBLICAN PARTY', 'TEXANS FOR SENATOR JOHN CORNYN INC']\n",
       "    Expecting:\n",
       "        True\n",
       "    **********************************************************************\n",
       "    Line 1, in q6 3\n",
       "    Failed example:\n",
       "        sorted(res_q6['cmte_nm']) == ['DONALD J. TRUMP FOR PRESIDENT, INC.', 'DONOVAN FOR CONGRESS', 'FRIENDS OF DAVE BRAT INC.', 'GRASSLEY COMMITTEE INC', 'HELLER FOR SENATE', 'NEW HAMPSHIRE REPUBLICAN STATE COMMITTEE', 'NY REPUBLICAN FEDERAL CAMPAIGN COMMITTEE', 'REPUBLICAN PARTY OF IOWA', 'SOUTH CAROLINA REPUBLICAN PARTY', 'TEXANS FOR SENATOR JOHN CORNYN INC']\n",
       "    Exception raised:\n",
       "        Traceback (most recent call last):\n",
       "          File \"C:\\Users\\siriusyz\\.conda\\envs\\cs189\\Lib\\site-packages\\pandas\\core\\indexes\\base.py\", line 3805, in get_loc\n",
       "            return self._engine.get_loc(casted_key)\n",
       "                   ^^^^^^^^^^^^^^^^^^^^^^^^^^^^^^^^\n",
       "          File \"index.pyx\", line 167, in pandas._libs.index.IndexEngine.get_loc\n",
       "          File \"index.pyx\", line 196, in pandas._libs.index.IndexEngine.get_loc\n",
       "          File \"pandas\\\\_libs\\\\hashtable_class_helper.pxi\", line 7081, in pandas._libs.hashtable.PyObjectHashTable.get_item\n",
       "          File \"pandas\\\\_libs\\\\hashtable_class_helper.pxi\", line 7089, in pandas._libs.hashtable.PyObjectHashTable.get_item\n",
       "        KeyError: 'cmte_nm'\n",
       "\n",
       "        The above exception was the direct cause of the following exception:\n",
       "\n",
       "        Traceback (most recent call last):\n",
       "          File \"C:\\Users\\siriusyz\\.conda\\envs\\cs189\\Lib\\doctest.py\", line 1368, in __run\n",
       "            exec(compile(example.source, filename, \"single\",\n",
       "          File \"<doctest q6 3[0]>\", line 1, in <module>\n",
       "            sorted(res_q6['cmte_nm']) == ['DONALD J. TRUMP FOR PRESIDENT, INC.', 'DONOVAN FOR CONGRESS', 'FRIENDS OF DAVE BRAT INC.', 'GRASSLEY COMMITTEE INC', 'HELLER FOR SENATE', 'NEW HAMPSHIRE REPUBLICAN STATE COMMITTEE', 'NY REPUBLICAN FEDERAL CAMPAIGN COMMITTEE', 'REPUBLICAN PARTY OF IOWA', 'SOUTH CAROLINA REPUBLICAN PARTY', 'TEXANS FOR SENATOR JOHN CORNYN INC']\n",
       "                   ~~~~~~^^^^^^^^^^^\n",
       "          File \"C:\\Users\\siriusyz\\.conda\\envs\\cs189\\Lib\\site-packages\\pandas\\core\\frame.py\", line 4102, in __getitem__\n",
       "            indexer = self.columns.get_loc(key)\n",
       "                      ^^^^^^^^^^^^^^^^^^^^^^^^^\n",
       "          File \"C:\\Users\\siriusyz\\.conda\\envs\\cs189\\Lib\\site-packages\\pandas\\core\\indexes\\base.py\", line 3812, in get_loc\n",
       "            raise KeyError(key) from err\n",
       "        KeyError: 'cmte_nm'\n",
       "</pre>"
      ],
      "text/plain": [
       "q6 results:\n",
       "    q6 - 1 result:\n",
       "        ❌ Test case failed\n",
       "        Trying:\n",
       "            res_q6.shape == (10, 4)\n",
       "        Expecting:\n",
       "            True\n",
       "        **********************************************************************\n",
       "        Line 1, in q6 0\n",
       "        Failed example:\n",
       "            res_q6.shape == (10, 4)\n",
       "        Expected:\n",
       "            True\n",
       "        Got:\n",
       "            False\n",
       "\n",
       "    q6 - 2 result:\n",
       "        ✅ Test case passed\n",
       "\n",
       "    q6 - 3 result:\n",
       "        ✅ Test case passed\n",
       "\n",
       "    q6 - 4 result:\n",
       "        ❌ Test case failed\n",
       "        Trying:\n",
       "            sorted(res_q6['cmte_nm']) == ['DONALD J. TRUMP FOR PRESIDENT, INC.', 'DONOVAN FOR CONGRESS', 'FRIENDS OF DAVE BRAT INC.', 'GRASSLEY COMMITTEE INC', 'HELLER FOR SENATE', 'NEW HAMPSHIRE REPUBLICAN STATE COMMITTEE', 'NY REPUBLICAN FEDERAL CAMPAIGN COMMITTEE', 'REPUBLICAN PARTY OF IOWA', 'SOUTH CAROLINA REPUBLICAN PARTY', 'TEXANS FOR SENATOR JOHN CORNYN INC']\n",
       "        Expecting:\n",
       "            True\n",
       "        **********************************************************************\n",
       "        Line 1, in q6 3\n",
       "        Failed example:\n",
       "            sorted(res_q6['cmte_nm']) == ['DONALD J. TRUMP FOR PRESIDENT, INC.', 'DONOVAN FOR CONGRESS', 'FRIENDS OF DAVE BRAT INC.', 'GRASSLEY COMMITTEE INC', 'HELLER FOR SENATE', 'NEW HAMPSHIRE REPUBLICAN STATE COMMITTEE', 'NY REPUBLICAN FEDERAL CAMPAIGN COMMITTEE', 'REPUBLICAN PARTY OF IOWA', 'SOUTH CAROLINA REPUBLICAN PARTY', 'TEXANS FOR SENATOR JOHN CORNYN INC']\n",
       "        Exception raised:\n",
       "            Traceback (most recent call last):\n",
       "              File \"C:\\Users\\siriusyz\\.conda\\envs\\cs189\\Lib\\site-packages\\pandas\\core\\indexes\\base.py\", line 3805, in get_loc\n",
       "                return self._engine.get_loc(casted_key)\n",
       "                       ^^^^^^^^^^^^^^^^^^^^^^^^^^^^^^^^\n",
       "              File \"index.pyx\", line 167, in pandas._libs.index.IndexEngine.get_loc\n",
       "              File \"index.pyx\", line 196, in pandas._libs.index.IndexEngine.get_loc\n",
       "              File \"pandas\\\\_libs\\\\hashtable_class_helper.pxi\", line 7081, in pandas._libs.hashtable.PyObjectHashTable.get_item\n",
       "              File \"pandas\\\\_libs\\\\hashtable_class_helper.pxi\", line 7089, in pandas._libs.hashtable.PyObjectHashTable.get_item\n",
       "            KeyError: 'cmte_nm'\n",
       "\n",
       "            The above exception was the direct cause of the following exception:\n",
       "\n",
       "            Traceback (most recent call last):\n",
       "              File \"C:\\Users\\siriusyz\\.conda\\envs\\cs189\\Lib\\doctest.py\", line 1368, in __run\n",
       "                exec(compile(example.source, filename, \"single\",\n",
       "              File \"<doctest q6 3[0]>\", line 1, in <module>\n",
       "                sorted(res_q6['cmte_nm']) == ['DONALD J. TRUMP FOR PRESIDENT, INC.', 'DONOVAN FOR CONGRESS', 'FRIENDS OF DAVE BRAT INC.', 'GRASSLEY COMMITTEE INC', 'HELLER FOR SENATE', 'NEW HAMPSHIRE REPUBLICAN STATE COMMITTEE', 'NY REPUBLICAN FEDERAL CAMPAIGN COMMITTEE', 'REPUBLICAN PARTY OF IOWA', 'SOUTH CAROLINA REPUBLICAN PARTY', 'TEXANS FOR SENATOR JOHN CORNYN INC']\n",
       "                       ~~~~~~^^^^^^^^^^^\n",
       "              File \"C:\\Users\\siriusyz\\.conda\\envs\\cs189\\Lib\\site-packages\\pandas\\core\\frame.py\", line 4102, in __getitem__\n",
       "                indexer = self.columns.get_loc(key)\n",
       "                          ^^^^^^^^^^^^^^^^^^^^^^^^^\n",
       "              File \"C:\\Users\\siriusyz\\.conda\\envs\\cs189\\Lib\\site-packages\\pandas\\core\\indexes\\base.py\", line 3812, in get_loc\n",
       "                raise KeyError(key) from err\n",
       "            KeyError: 'cmte_nm'"
      ]
     },
     "execution_count": 109,
     "metadata": {},
     "output_type": "execute_result"
    }
   ],
   "source": [
    "grader.check(\"q6\")"
   ]
  },
  {
   "cell_type": "markdown",
   "id": "384de3b5",
   "metadata": {},
   "source": [
    "<br/><br/>\n",
    "<hr style=\"border: 5px solid #003262;\" />\n",
    "<hr style=\"border: 1px solid #fdb515;\" />\n",
    "\n",
    "## Allie congratulates you for finishing Lab 10!\n",
    "\n",
    "<center><video controls src = \"images/allie.MOV\" width = \"250\">animation</video></a></center>\n",
    "\n",
    "<img src='images/allie_2.jpg' width=\"250px\" /> <img src='images/allie_1.jpg' width=\"200px\" /> "
   ]
  },
  {
   "cell_type": "markdown",
   "id": "fff142d9-8384-4db9-aae2-8dc0ef130fa5",
   "metadata": {},
   "source": [
    "### Course Content Feedback\n",
    "\n",
    "If you have any feedback about this assignment or about any of our other weekly, weekly assignments, lectures, or discussions, please fill out the [Course Content Feedback Form](https://docs.google.com/forms/d/1dvvrkvDPlCHzyGjigg9U5UODHB7njceowiigNn6LWe4/viewform). Your input is valuable in helping us improve the quality and relevance of our content to better meet your needs and expectations!"
   ]
  },
  {
   "cell_type": "markdown",
   "id": "00b3363b-5af0-407f-928a-f93aee068f2a",
   "metadata": {},
   "source": [
    "### Submission Instructions\n",
    "\n",
    "Below, you will see a cell. Running this cell will automatically generate a zip file with your autograded answers. Submit this file to the Lab 10 assignment on Gradescope. If you run into any issues when running this cell, feel free to check this [section](https://ds100.org/debugging-guide/autograder_gradescope/autograder_gradescope.html#why-does-grader.exportrun_teststrue-fail-if-all-previous-tests-passed) in the Data 100 Debugging Guide."
   ]
  },
  {
   "cell_type": "markdown",
   "id": "0baef8f0",
   "metadata": {
    "deletable": false,
    "editable": false
   },
   "source": [
    "## Submission\n",
    "\n",
    "Make sure you have run all cells in your notebook in order before running the cell below, so that all images/graphs appear in the output. The cell below will generate a zip file for you to submit. **Please save before exporting!**"
   ]
  },
  {
   "cell_type": "code",
   "execution_count": null,
   "id": "740ad7a0",
   "metadata": {
    "deletable": false,
    "editable": false
   },
   "outputs": [],
   "source": [
    "# Save your notebook first, then run this cell to export your submission.\n",
    "grader.export(pdf=False, run_tests=True)"
   ]
  },
  {
   "cell_type": "markdown",
   "id": "ae131240",
   "metadata": {},
   "source": [
    " "
   ]
  }
 ],
 "metadata": {
  "kernelspec": {
   "display_name": "Python 3 (ipykernel)",
   "language": "python",
   "name": "python3"
  },
  "language_info": {
   "codemirror_mode": {
    "name": "ipython",
    "version": 3
   },
   "file_extension": ".py",
   "mimetype": "text/x-python",
   "name": "python",
   "nbconvert_exporter": "python",
   "pygments_lexer": "ipython3",
   "version": "3.12.7"
  },
  "otter": {
   "OK_FORMAT": true,
   "tests": {
    "q1": {
     "name": "q1",
     "points": null,
     "suites": [
      {
       "cases": [
        {
         "code": ">>> res_q1.shape == (9, 1)\nTrue",
         "hidden": false,
         "locked": false
        },
        {
         "code": ">>> sorted(list(res_q1.iloc[:, 0])) == ['movie', 'short', 'tvEpisode', 'tvMiniSeries', 'tvMovie', 'tvSeries', 'tvSpecial', 'video', 'videoGame']\nTrue",
         "hidden": false,
         "locked": false
        }
       ],
       "scored": true,
       "setup": "",
       "teardown": "",
       "type": "doctest"
      }
     ]
    },
    "q2": {
     "name": "q2",
     "points": null,
     "suites": [
      {
       "cases": [
        {
         "code": ">>> res_q2.shape == (12, 2)\nTrue",
         "hidden": false,
         "locked": false
        },
        {
         "code": ">>> list(res_q2['total']) == [21665, 13830, 12175, 11028, 6995, 4123, 2747, 1558, 623, 410, 66, 6]\nTrue",
         "hidden": false,
         "locked": false
        },
        {
         "code": ">>> list(res_q2['category']) == ['actor', 'writer', 'actress', 'producer', 'director', 'composer', 'cinematographer', 'editor', 'self', 'production_designer', 'archive_footage', 'archive_sound']\nTrue",
         "hidden": false,
         "locked": false
        }
       ],
       "scored": true,
       "setup": "",
       "teardown": "",
       "type": "doctest"
      }
     ]
    },
    "q3": {
     "name": "q3",
     "points": null,
     "suites": [
      {
       "cases": [
        {
         "code": ">>> res_q3.shape == (10, 3)\nTrue",
         "hidden": false,
         "locked": false
        },
        {
         "code": ">>> set(res_q3.columns) == set(['title', 'numVotes', 'averageRating'])\nTrue",
         "hidden": false,
         "locked": false
        },
        {
         "code": ">>> np.sum(res_q3['numVotes'].astype(int)) == 19870486\nTrue",
         "hidden": false,
         "locked": false
        },
        {
         "code": ">>> list(res_q3['title']) == ['The Shawshank Redemption', 'The Dark Knight', 'Inception', 'Fight Club', 'Pulp Fiction', 'Forrest Gump', 'Game of Thrones', 'The Matrix', 'The Lord of the Rings: The Fellowship of the Ring', 'The Lord of the Rings: The Return of the King']\nTrue",
         "hidden": false,
         "locked": false
        }
       ],
       "scored": true,
       "setup": "",
       "teardown": "",
       "type": "doctest"
      }
     ]
    },
    "q4": {
     "name": "q4",
     "points": null,
     "suites": [
      {
       "cases": [
        {
         "code": ">>> res_q4.shape == (142, 3)\nTrue",
         "hidden": false,
         "locked": false
        },
        {
         "code": ">>> sorted(res_q4['transaction_amt'].unique()) == [224, 514, 1000, 1029, 1216, 1713, 2000, 2426, 2460, 2529, 2531, 2536, 2544, 2574, 2587, 2600, 2620, 2679, 2692, 2693, 2700, 2991, 3063, 3347, 3360, 3371, 3499, 3548, 3706, 3954, 4049, 4127, 4164, 4591, 4931, 4958, 5000, 5297, 5574, 6197, 6250, 6990, 7401, 7519, 7990, 8735, 8896, 9000, 9013, 9106, 9651, 9752, 10000, 10418, 11023, 15000, 23775, 2000000, 10000000]\nTrue",
         "hidden": false,
         "locked": false
        }
       ],
       "scored": true,
       "setup": "",
       "teardown": "",
       "type": "doctest"
      }
     ]
    },
    "q5a": {
     "name": "q5a",
     "points": null,
     "suites": [
      {
       "cases": [
        {
         "code": ">>> res_q5a.shape == (5, 2)\nTrue",
         "hidden": false,
         "locked": false
        },
        {
         "code": ">>> all(res_q5a == res_q5a.sort_values('cand_name', ascending=False))\nTrue",
         "hidden": false,
         "locked": false
        },
        {
         "code": ">>> sorted(res_q5a['cmte_nm'].unique()) == ['CITIZENS TO ELECT DANIEL P ZUTLER FOR PRESIDENT', 'CONSTITUTIONAL COMMITTEE', 'JOE ZUCCOLO FOR CONGRESS', 'ZUKOWSKI FOR CONGRESS', 'ZUMWALT FOR CONGRESS']\nTrue",
         "hidden": false,
         "locked": false
        }
       ],
       "scored": true,
       "setup": "",
       "teardown": "",
       "type": "doctest"
      }
     ]
    },
    "q5b": {
     "name": "q5b",
     "points": null,
     "suites": [
      {
       "cases": [
        {
         "code": ">>> res_q5b.shape == (5, 2)\nTrue",
         "hidden": false,
         "locked": false
        },
        {
         "code": ">>> all(res_q5b == res_q5b.sort_values('cand_name', ascending=False))\nTrue",
         "hidden": false,
         "locked": false
        },
        {
         "code": ">>> set(res_q5b['cand_name']) == set(['ZUTLER, DANIEL PAUL MR', 'ZUMWALT, JAMES', 'ZUKOWSKI, ANDREW GEORGE', 'ZUCCOLO, JOE', 'ZORNOW, TODD MR'])\nTrue",
         "hidden": false,
         "locked": false
        },
        {
         "code": ">>> sorted(map(str, res_q5b['cmte_nm'].unique())) == ['CITIZENS TO ELECT DANIEL P ZUTLER FOR PRESIDENT', 'JOE ZUCCOLO FOR CONGRESS', 'None', 'ZUKOWSKI FOR CONGRESS', 'ZUMWALT FOR CONGRESS']\nTrue",
         "hidden": false,
         "locked": false
        },
        {
         "code": ">>> res_q5b['cmte_nm'][4] == None\nTrue",
         "hidden": false,
         "locked": false
        }
       ],
       "scored": true,
       "setup": "",
       "teardown": "",
       "type": "doctest"
      }
     ]
    },
    "q6": {
     "name": "q6",
     "points": null,
     "suites": [
      {
       "cases": [
        {
         "code": ">>> res_q6.shape == (10, 4)\nTrue",
         "hidden": false,
         "locked": false
        },
        {
         "code": ">>> sorted(res_q6['total_amount']) == [1000, 2000, 2600, 5000, 5000, 5200, 5400, 9000, 10000, 18633157]\nTrue",
         "hidden": false,
         "locked": false
        },
        {
         "code": ">>> sorted(res_q6['num_donations']) == [1, 1, 1, 1, 1, 1, 1, 2, 2, 131]\nTrue",
         "hidden": false,
         "locked": false
        },
        {
         "code": ">>> sorted(res_q6['cmte_nm']) == ['DONALD J. TRUMP FOR PRESIDENT, INC.', 'DONOVAN FOR CONGRESS', 'FRIENDS OF DAVE BRAT INC.', 'GRASSLEY COMMITTEE INC', 'HELLER FOR SENATE', 'NEW HAMPSHIRE REPUBLICAN STATE COMMITTEE', 'NY REPUBLICAN FEDERAL CAMPAIGN COMMITTEE', 'REPUBLICAN PARTY OF IOWA', 'SOUTH CAROLINA REPUBLICAN PARTY', 'TEXANS FOR SENATOR JOHN CORNYN INC']\nTrue",
         "hidden": false,
         "locked": false
        }
       ],
       "scored": true,
       "setup": "",
       "teardown": "",
       "type": "doctest"
      }
     ]
    }
   }
  }
 },
 "nbformat": 4,
 "nbformat_minor": 5
}
